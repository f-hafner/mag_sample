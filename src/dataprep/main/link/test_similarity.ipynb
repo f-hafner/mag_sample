{
 "cells": [
  {
   "cell_type": "code",
   "execution_count": 43,
   "metadata": {},
   "outputs": [],
   "source": [
    "import ibis\n",
    "from ibis import _\n",
    "import matplotlib.pyplot as plt      "
   ]
  },
  {
   "cell_type": "markdown",
   "metadata": {},
   "source": [
    "### Load data"
   ]
  },
  {
   "cell_type": "code",
   "execution_count": 44,
   "metadata": {},
   "outputs": [],
   "source": [
    "\n",
    "db_file = \"/mnt/ssd/AcademicGraph/AcademicGraph.sqlite\" \n",
    "ibis.options.interactive = True\n",
    "con = ibis.connect(db_file)\n",
    "\n",
    "max_level = 2\n",
    "field_to_query = 95457728\n",
    "degree_year_to_query = 2001\n",
    "\n",
    "\n",
    "\n",
    "links_to_cng = con.table(\"links_to_cng\")\n",
    "affiliations = con.table(\"affiliations\")\n",
    "fields_of_study = con.table(\"FieldsOfStudy\")\n",
    "\n",
    "current_links = con.table(\"current_links\")\n",
    "pq_authors = con.table(\"pq_authors\")\n",
    "pq_fields_mag = con.table(\"pq_fields_mag\")\n",
    "pq_magfos = con.table(\"pq_magfos\")\n",
    "\n",
    "author_affiliation = con.table(\"AuthorAffiliation\")\n",
    "author_fields = con.table(\"author_fields\")\n",
    "\n",
    "\n",
    "paper_author_unique = con.table(\"PaperAuthorUnique\")\n",
    "papers = con.table(\"Papers\")\n",
    "author_fields_detailed = con.table(\"author_fields_detailed\")\n",
    "\n",
    "affiliation_fields = con.table(\"affiliation_fields\")\n",
    "affiliation_outcomes = con.table(\"affiliation_outcomes\")\n"
   ]
  },
  {
   "cell_type": "code",
   "execution_count": 45,
   "metadata": {},
   "outputs": [],
   "source": [
    "# load all the queries as in the existing file\n",
    "query_affiliations = (\n",
    "    affiliations\n",
    "    .join(\n",
    "        links_to_cng,\n",
    "        affiliations.AffiliationId == links_to_cng.from_id\n",
    "    )\n",
    "    .filter(\n",
    "        links_to_cng.from_dataset == \"mag\"\n",
    "    )\n",
    "    .select(\n",
    "        _.AffiliationId\n",
    "    )\n",
    ")\n",
    "\n",
    "query_fields_up_to_max_level = (\n",
    "    fields_of_study\n",
    "    .filter(\n",
    "        _.Level <= max_level\n",
    "    )\n",
    "    .select(\n",
    "        _.FieldOfStudyId\n",
    "    )\n",
    ")\n",
    "\n",
    "query_graduates = (\n",
    "    current_links\n",
    "    .join(\n",
    "        pq_authors,\n",
    "        \"goid\",\n",
    "        how=\"inner\"\n",
    "    )\n",
    "    .filter(\n",
    "        pq_authors.degree_year == degree_year_to_query\n",
    "    )\n",
    "    .join(\n",
    "        pq_fields_mag\n",
    "        .mutate(\n",
    "            row_num=ibis\n",
    "                .row_number()\n",
    "                .over(group_by=_.goid, order_by=_.position.asc()\n",
    "            )\n",
    "        )\n",
    "        .filter(\n",
    "            [_.row_num == 0, \n",
    "             #_.mag_field0 == field_to_query\n",
    "            ]\n",
    "        )\n",
    "        .select(\n",
    "            _.goid,\n",
    "            _.position,\n",
    "            Field0 = _.mag_field0\n",
    "        ),\n",
    "        \"goid\"\n",
    "    )\n",
    "    .select(\n",
    "        _.goid,\n",
    "        _.AuthorId,\n",
    "        _.degree_year,\n",
    "        _.Field0\n",
    "    )\n",
    ")\n",
    "        \n",
    "query_topics_dissertation = (\n",
    "    pq_magfos\n",
    "    .join(\n",
    "        query_graduates,\n",
    "        \"goid\",\n",
    "        how=\"inner\"\n",
    "    )\n",
    "    .join(\n",
    "        query_fields_up_to_max_level,\n",
    "        \"FieldOfStudyId\",\n",
    "        how=\"inner\"\n",
    "    )\n",
    ")\n",
    "\n",
    "#topics_dissertation = query_topics_dissertation.execute() # this allows us to compute the first topic vector\n",
    "# need to extend it to \"all\" possible topics, and pivot_wide\n",
    "# in 2001, we have 686 concepts? \n",
    "\n",
    "query_collaborators = (\n",
    "    author_affiliation\n",
    "    .join(\n",
    "        query_affiliations,\n",
    "        \"AffiliationId\",\n",
    "        how=\"inner\"\n",
    "    )\n",
    "    .join(\n",
    "        author_fields\n",
    "        .filter(\n",
    "            [_.FieldClass == \"main\", \n",
    "             #_.FieldOfStudyId == field_to_query\n",
    "            ]\n",
    "        )\n",
    "        .select(\n",
    "            _.AuthorId,\n",
    "            main_field = _.FieldOfStudyId\n",
    "        ),\n",
    "        \"AuthorId\",\n",
    "        how=\"inner\"\n",
    "    ).\n",
    "    filter(\n",
    "        [_.Year <= degree_year_to_query + 5, # TODO: careful with years here!\n",
    "         _.Year >= degree_year_to_query - 5] \n",
    "    )\n",
    ")\n",
    "\n",
    "query_author_papers = (\n",
    "    paper_author_unique\n",
    "    .join(\n",
    "        papers\n",
    "        .filter(\n",
    "            _.DocType == \"Journal\"\n",
    "        )\n",
    "        .select(\n",
    "            _.PaperId,\n",
    "            _.Year\n",
    "        ),\n",
    "        \"PaperId\",\n",
    "        how=\"inner\"\n",
    "    )\n",
    "    .join(\n",
    "        query_collaborators\n",
    "        .select(_.AuthorId),\n",
    "        \"AuthorId\",\n",
    "        how=\"inner\"\n",
    "    )\n",
    "    .filter(\n",
    "        [_.Year <= degree_year_to_query + 5,\n",
    "        _.Year >= degree_year_to_query - 5]\n",
    "    )\n",
    "    .select(\n",
    "        _.PaperId,\n",
    "        _.AuthorId,\n",
    "        _.Year\n",
    "    )\n",
    ")\n",
    "\n",
    "\n",
    "\n",
    "\n",
    "query_collaborators_topics = (\n",
    "    author_fields_detailed\n",
    "    .join(\n",
    "        author_fields\n",
    "        .filter(\n",
    "            _.FieldClass == \"main\"\n",
    "        )\n",
    "        .select(\n",
    "            _.AuthorId,\n",
    "            Field0 = _.FieldOfStudyId\n",
    "        ),\n",
    "        \"AuthorId\",\n",
    "        how=\"inner\"\n",
    "    ).\n",
    "    join(\n",
    "        query_collaborators\n",
    "        .select(_.AuthorId),\n",
    "        \"AuthorId\",\n",
    "        how=\"inner\"\n",
    "    )\n",
    "    .join(\n",
    "        query_fields_up_to_max_level,\n",
    "        \"FieldOfStudyId\",\n",
    "        how=\"inner\"\n",
    "    )\n",
    "    .mutate(\n",
    "        Score = _.Score / _.PaperCount\n",
    "    )\n",
    "    .filter(\n",
    "        [_.Year <= degree_year_to_query + 5,\n",
    "         _.Year >= degree_year_to_query - 5]\n",
    "    )\n",
    "    .select(\n",
    "        _.AuthorId,\n",
    "        _.FieldOfStudyId,\n",
    "        _.Year,\n",
    "        _.Field0,\n",
    "        _.PaperCount,\n",
    "        _.Score\n",
    "    )\n",
    ")\n",
    "\n",
    "\n",
    "query_affiliation_topics = (\n",
    "        affiliation_fields\n",
    "        .join(\n",
    "            affiliation_outcomes\n",
    "            .select(\n",
    "                _.AffiliationId,\n",
    "                _.Field0,\n",
    "                _.Year,\n",
    "                _.PaperCount\n",
    "            ),\n",
    "            [\"AffiliationId\", \"Year\", \"Field0\",\n",
    "             #affiliation_fields.Field0 == field_to_query,\n",
    "             affiliation_outcomes.Year <= degree_year_to_query + 5,\n",
    "             affiliation_outcomes.Year >= degree_year_to_query - 5],\n",
    "            how=\"inner\"\n",
    "        )\n",
    "        .join(\n",
    "            query_affiliations,\n",
    "            \"AffiliationId\",\n",
    "            how=\"inner\"\n",
    "        )\n",
    "        .join( # subset to the relevant fields of study -- I think we forgot that previously\n",
    "            query_fields_up_to_max_level,\n",
    "            \"FieldOfStudyId\",\n",
    "            how=\"inner\"\n",
    "        )\n",
    "        .select(\n",
    "            _.AffiliationId,\n",
    "            _.Field0,\n",
    "            _.Year,\n",
    "            _.FieldOfStudyId,\n",
    "            Score = _.Score / _.PaperCount\n",
    "        )\n",
    ")\n"
   ]
  },
  {
   "cell_type": "code",
   "execution_count": 46,
   "metadata": {},
   "outputs": [
    {
     "data": {
      "text/html": [
       "<pre style=\"white-space:pre;overflow-x:auto;line-height:normal;font-family:Menlo,'DejaVu Sans Mono',consolas,'Courier New',monospace\">┏━━━━━━━━━━━━━━━┳━━━━━━━━━━┳━━━━━━━┳━━━━━━━━━━━━━━━━┳━━━━━━━━━━┓\n",
       "┃<span style=\"font-weight: bold\"> AffiliationId </span>┃<span style=\"font-weight: bold\"> Field0   </span>┃<span style=\"font-weight: bold\"> Year  </span>┃<span style=\"font-weight: bold\"> FieldOfStudyId </span>┃<span style=\"font-weight: bold\"> Score    </span>┃\n",
       "┡━━━━━━━━━━━━━━━╇━━━━━━━━━━╇━━━━━━━╇━━━━━━━━━━━━━━━━╇━━━━━━━━━━┩\n",
       "│ <span style=\"color: #7f7f7f; text-decoration-color: #7f7f7f\">int64</span>         │ <span style=\"color: #7f7f7f; text-decoration-color: #7f7f7f\">int64</span>    │ <span style=\"color: #7f7f7f; text-decoration-color: #7f7f7f\">int64</span> │ <span style=\"color: #7f7f7f; text-decoration-color: #7f7f7f\">int64</span>          │ <span style=\"color: #7f7f7f; text-decoration-color: #7f7f7f\">float64</span>  │\n",
       "├───────────────┼──────────┼───────┼────────────────┼──────────┤\n",
       "│     <span style=\"color: #008080; text-decoration-color: #008080; font-weight: bold\">130701444</span> │ <span style=\"color: #008080; text-decoration-color: #008080; font-weight: bold\">15744967</span> │  <span style=\"color: #008080; text-decoration-color: #008080; font-weight: bold\">1996</span> │        <span style=\"color: #008080; text-decoration-color: #008080; font-weight: bold\">1337776</span> │ <span style=\"color: #008080; text-decoration-color: #008080; font-weight: bold\">0.008088</span> │\n",
       "│     <span style=\"color: #008080; text-decoration-color: #008080; font-weight: bold\">130701444</span> │ <span style=\"color: #008080; text-decoration-color: #008080; font-weight: bold\">15744967</span> │  <span style=\"color: #008080; text-decoration-color: #008080; font-weight: bold\">1996</span> │        <span style=\"color: #008080; text-decoration-color: #008080; font-weight: bold\">2718322</span> │ <span style=\"color: #008080; text-decoration-color: #008080; font-weight: bold\">0.029968</span> │\n",
       "│     <span style=\"color: #008080; text-decoration-color: #008080; font-weight: bold\">130701444</span> │ <span style=\"color: #008080; text-decoration-color: #008080; font-weight: bold\">15744967</span> │  <span style=\"color: #008080; text-decoration-color: #008080; font-weight: bold\">1996</span> │        <span style=\"color: #008080; text-decoration-color: #008080; font-weight: bold\">3769349</span> │ <span style=\"color: #008080; text-decoration-color: #008080; font-weight: bold\">0.016392</span> │\n",
       "│     <span style=\"color: #008080; text-decoration-color: #008080; font-weight: bold\">130701444</span> │ <span style=\"color: #008080; text-decoration-color: #008080; font-weight: bold\">15744967</span> │  <span style=\"color: #008080; text-decoration-color: #008080; font-weight: bold\">1996</span> │        <span style=\"color: #008080; text-decoration-color: #008080; font-weight: bold\">4279774</span> │ <span style=\"color: #008080; text-decoration-color: #008080; font-weight: bold\">0.015745</span> │\n",
       "│     <span style=\"color: #008080; text-decoration-color: #008080; font-weight: bold\">130701444</span> │ <span style=\"color: #008080; text-decoration-color: #008080; font-weight: bold\">15744967</span> │  <span style=\"color: #008080; text-decoration-color: #008080; font-weight: bold\">1996</span> │        <span style=\"color: #008080; text-decoration-color: #008080; font-weight: bold\">5041995</span> │ <span style=\"color: #008080; text-decoration-color: #008080; font-weight: bold\">0.009737</span> │\n",
       "└───────────────┴──────────┴───────┴────────────────┴──────────┘\n",
       "</pre>\n"
      ],
      "text/plain": [
       "┏━━━━━━━━━━━━━━━┳━━━━━━━━━━┳━━━━━━━┳━━━━━━━━━━━━━━━━┳━━━━━━━━━━┓\n",
       "┃\u001b[1m \u001b[0m\u001b[1mAffiliationId\u001b[0m\u001b[1m \u001b[0m┃\u001b[1m \u001b[0m\u001b[1mField0\u001b[0m\u001b[1m  \u001b[0m\u001b[1m \u001b[0m┃\u001b[1m \u001b[0m\u001b[1mYear\u001b[0m\u001b[1m \u001b[0m\u001b[1m \u001b[0m┃\u001b[1m \u001b[0m\u001b[1mFieldOfStudyId\u001b[0m\u001b[1m \u001b[0m┃\u001b[1m \u001b[0m\u001b[1mScore\u001b[0m\u001b[1m   \u001b[0m\u001b[1m \u001b[0m┃\n",
       "┡━━━━━━━━━━━━━━━╇━━━━━━━━━━╇━━━━━━━╇━━━━━━━━━━━━━━━━╇━━━━━━━━━━┩\n",
       "│ \u001b[2mint64\u001b[0m         │ \u001b[2mint64\u001b[0m    │ \u001b[2mint64\u001b[0m │ \u001b[2mint64\u001b[0m          │ \u001b[2mfloat64\u001b[0m  │\n",
       "├───────────────┼──────────┼───────┼────────────────┼──────────┤\n",
       "│     \u001b[1;36m130701444\u001b[0m │ \u001b[1;36m15744967\u001b[0m │  \u001b[1;36m1996\u001b[0m │        \u001b[1;36m1337776\u001b[0m │ \u001b[1;36m0.008088\u001b[0m │\n",
       "│     \u001b[1;36m130701444\u001b[0m │ \u001b[1;36m15744967\u001b[0m │  \u001b[1;36m1996\u001b[0m │        \u001b[1;36m2718322\u001b[0m │ \u001b[1;36m0.029968\u001b[0m │\n",
       "│     \u001b[1;36m130701444\u001b[0m │ \u001b[1;36m15744967\u001b[0m │  \u001b[1;36m1996\u001b[0m │        \u001b[1;36m3769349\u001b[0m │ \u001b[1;36m0.016392\u001b[0m │\n",
       "│     \u001b[1;36m130701444\u001b[0m │ \u001b[1;36m15744967\u001b[0m │  \u001b[1;36m1996\u001b[0m │        \u001b[1;36m4279774\u001b[0m │ \u001b[1;36m0.015745\u001b[0m │\n",
       "│     \u001b[1;36m130701444\u001b[0m │ \u001b[1;36m15744967\u001b[0m │  \u001b[1;36m1996\u001b[0m │        \u001b[1;36m5041995\u001b[0m │ \u001b[1;36m0.009737\u001b[0m │\n",
       "└───────────────┴──────────┴───────┴────────────────┴──────────┘"
      ]
     },
     "execution_count": 46,
     "metadata": {},
     "output_type": "execute_result"
    }
   ],
   "source": [
    "query_affiliation_topics.head()"
   ]
  },
  {
   "cell_type": "code",
   "execution_count": 47,
   "metadata": {},
   "outputs": [
    {
     "data": {
      "text/html": [
       "<pre style=\"white-space:pre;overflow-x:auto;line-height:normal;font-family:Menlo,'DejaVu Sans Mono',consolas,'Courier New',monospace\">┏━━━━━━━━━━━┳━━━━━━━━━━┳━━━━━━━━━━━━━┳━━━━━━━━━━━┓\n",
       "┃<span style=\"font-weight: bold\"> goid      </span>┃<span style=\"font-weight: bold\"> AuthorId </span>┃<span style=\"font-weight: bold\"> degree_year </span>┃<span style=\"font-weight: bold\"> Field0    </span>┃\n",
       "┡━━━━━━━━━━━╇━━━━━━━━━━╇━━━━━━━━━━━━━╇━━━━━━━━━━━┩\n",
       "│ <span style=\"color: #7f7f7f; text-decoration-color: #7f7f7f\">int64</span>     │ <span style=\"color: #7f7f7f; text-decoration-color: #7f7f7f\">int64</span>    │ <span style=\"color: #7f7f7f; text-decoration-color: #7f7f7f\">int64</span>       │ <span style=\"color: #7f7f7f; text-decoration-color: #7f7f7f\">int64</span>     │\n",
       "├───────────┼──────────┼─────────────┼───────────┤\n",
       "│ <span style=\"color: #008080; text-decoration-color: #008080; font-weight: bold\">250944554</span> │    <span style=\"color: #008080; text-decoration-color: #008080; font-weight: bold\">87677</span> │        <span style=\"color: #008080; text-decoration-color: #008080; font-weight: bold\">2001</span> │ <span style=\"color: #008080; text-decoration-color: #008080; font-weight: bold\">121332964</span> │\n",
       "│ <span style=\"color: #008080; text-decoration-color: #008080; font-weight: bold\">276332519</span> │   <span style=\"color: #008080; text-decoration-color: #008080; font-weight: bold\">222893</span> │        <span style=\"color: #008080; text-decoration-color: #008080; font-weight: bold\">2001</span> │  <span style=\"color: #008080; text-decoration-color: #008080; font-weight: bold\">41008148</span> │\n",
       "│ <span style=\"color: #008080; text-decoration-color: #008080; font-weight: bold\">276271346</span> │   <span style=\"color: #008080; text-decoration-color: #008080; font-weight: bold\">442130</span> │        <span style=\"color: #008080; text-decoration-color: #008080; font-weight: bold\">2001</span> │ <span style=\"color: #008080; text-decoration-color: #008080; font-weight: bold\">127413603</span> │\n",
       "│ <span style=\"color: #008080; text-decoration-color: #008080; font-weight: bold\">304695425</span> │  <span style=\"color: #008080; text-decoration-color: #008080; font-weight: bold\">1188124</span> │        <span style=\"color: #008080; text-decoration-color: #008080; font-weight: bold\">2001</span> │ <span style=\"color: #008080; text-decoration-color: #008080; font-weight: bold\">121332964</span> │\n",
       "│ <span style=\"color: #008080; text-decoration-color: #008080; font-weight: bold\">304760013</span> │  <span style=\"color: #008080; text-decoration-color: #008080; font-weight: bold\">2254007</span> │        <span style=\"color: #008080; text-decoration-color: #008080; font-weight: bold\">2001</span> │  <span style=\"color: #008080; text-decoration-color: #008080; font-weight: bold\">86803240</span> │\n",
       "└───────────┴──────────┴─────────────┴───────────┘\n",
       "</pre>\n"
      ],
      "text/plain": [
       "┏━━━━━━━━━━━┳━━━━━━━━━━┳━━━━━━━━━━━━━┳━━━━━━━━━━━┓\n",
       "┃\u001b[1m \u001b[0m\u001b[1mgoid\u001b[0m\u001b[1m     \u001b[0m\u001b[1m \u001b[0m┃\u001b[1m \u001b[0m\u001b[1mAuthorId\u001b[0m\u001b[1m \u001b[0m┃\u001b[1m \u001b[0m\u001b[1mdegree_year\u001b[0m\u001b[1m \u001b[0m┃\u001b[1m \u001b[0m\u001b[1mField0\u001b[0m\u001b[1m   \u001b[0m\u001b[1m \u001b[0m┃\n",
       "┡━━━━━━━━━━━╇━━━━━━━━━━╇━━━━━━━━━━━━━╇━━━━━━━━━━━┩\n",
       "│ \u001b[2mint64\u001b[0m     │ \u001b[2mint64\u001b[0m    │ \u001b[2mint64\u001b[0m       │ \u001b[2mint64\u001b[0m     │\n",
       "├───────────┼──────────┼─────────────┼───────────┤\n",
       "│ \u001b[1;36m250944554\u001b[0m │    \u001b[1;36m87677\u001b[0m │        \u001b[1;36m2001\u001b[0m │ \u001b[1;36m121332964\u001b[0m │\n",
       "│ \u001b[1;36m276332519\u001b[0m │   \u001b[1;36m222893\u001b[0m │        \u001b[1;36m2001\u001b[0m │  \u001b[1;36m41008148\u001b[0m │\n",
       "│ \u001b[1;36m276271346\u001b[0m │   \u001b[1;36m442130\u001b[0m │        \u001b[1;36m2001\u001b[0m │ \u001b[1;36m127413603\u001b[0m │\n",
       "│ \u001b[1;36m304695425\u001b[0m │  \u001b[1;36m1188124\u001b[0m │        \u001b[1;36m2001\u001b[0m │ \u001b[1;36m121332964\u001b[0m │\n",
       "│ \u001b[1;36m304760013\u001b[0m │  \u001b[1;36m2254007\u001b[0m │        \u001b[1;36m2001\u001b[0m │  \u001b[1;36m86803240\u001b[0m │\n",
       "└───────────┴──────────┴─────────────┴───────────┘"
      ]
     },
     "execution_count": 47,
     "metadata": {},
     "output_type": "execute_result"
    }
   ],
   "source": [
    "query_graduates.head()"
   ]
  },
  {
   "cell_type": "code",
   "execution_count": 48,
   "metadata": {},
   "outputs": [
    {
     "data": {
      "text/html": [
       "<pre style=\"white-space:pre;overflow-x:auto;line-height:normal;font-family:Menlo,'DejaVu Sans Mono',consolas,'Courier New',monospace\">┏━━━━━━━━━━━┳━━━━━━━━━━━┳━━━━━━━━━━━━━━━━┳━━━━━━━━━┳━━━━━━━━━━┳━━━━━━━━━━━━━┳━━━━━━━━━━━┓\n",
       "┃<span style=\"font-weight: bold\"> goid      </span>┃<span style=\"font-weight: bold\"> fieldrank </span>┃<span style=\"font-weight: bold\"> FieldOfStudyId </span>┃<span style=\"font-weight: bold\"> score   </span>┃<span style=\"font-weight: bold\"> AuthorId </span>┃<span style=\"font-weight: bold\"> degree_year </span>┃<span style=\"font-weight: bold\"> Field0    </span>┃\n",
       "┡━━━━━━━━━━━╇━━━━━━━━━━━╇━━━━━━━━━━━━━━━━╇━━━━━━━━━╇━━━━━━━━━━╇━━━━━━━━━━━━━╇━━━━━━━━━━━┩\n",
       "│ <span style=\"color: #7f7f7f; text-decoration-color: #7f7f7f\">int64</span>     │ <span style=\"color: #7f7f7f; text-decoration-color: #7f7f7f\">int64</span>     │ <span style=\"color: #7f7f7f; text-decoration-color: #7f7f7f\">int64</span>          │ <span style=\"color: #7f7f7f; text-decoration-color: #7f7f7f\">float64</span> │ <span style=\"color: #7f7f7f; text-decoration-color: #7f7f7f\">int64</span>    │ <span style=\"color: #7f7f7f; text-decoration-color: #7f7f7f\">int64</span>       │ <span style=\"color: #7f7f7f; text-decoration-color: #7f7f7f\">int64</span>     │\n",
       "├───────────┼───────────┼────────────────┼─────────┼──────────┼─────────────┼───────────┤\n",
       "│ <span style=\"color: #008080; text-decoration-color: #008080; font-weight: bold\">250944554</span> │         <span style=\"color: #008080; text-decoration-color: #008080; font-weight: bold\">2</span> │       <span style=\"color: #008080; text-decoration-color: #008080; font-weight: bold\">22679943</span> │  <span style=\"color: #008080; text-decoration-color: #008080; font-weight: bold\">0.5038</span> │    <span style=\"color: #008080; text-decoration-color: #008080; font-weight: bold\">87677</span> │        <span style=\"color: #008080; text-decoration-color: #008080; font-weight: bold\">2001</span> │ <span style=\"color: #008080; text-decoration-color: #008080; font-weight: bold\">121332964</span> │\n",
       "│ <span style=\"color: #008080; text-decoration-color: #008080; font-weight: bold\">250944554</span> │         <span style=\"color: #008080; text-decoration-color: #008080; font-weight: bold\">8</span> │       <span style=\"color: #008080; text-decoration-color: #008080; font-weight: bold\">28826006</span> │  <span style=\"color: #008080; text-decoration-color: #008080; font-weight: bold\">0.4348</span> │    <span style=\"color: #008080; text-decoration-color: #008080; font-weight: bold\">87677</span> │        <span style=\"color: #008080; text-decoration-color: #008080; font-weight: bold\">2001</span> │ <span style=\"color: #008080; text-decoration-color: #008080; font-weight: bold\">121332964</span> │\n",
       "│ <span style=\"color: #008080; text-decoration-color: #008080; font-weight: bold\">250944554</span> │         <span style=\"color: #008080; text-decoration-color: #008080; font-weight: bold\">6</span> │      <span style=\"color: #008080; text-decoration-color: #008080; font-weight: bold\">116672817</span> │  <span style=\"color: #008080; text-decoration-color: #008080; font-weight: bold\">0.4605</span> │    <span style=\"color: #008080; text-decoration-color: #008080; font-weight: bold\">87677</span> │        <span style=\"color: #008080; text-decoration-color: #008080; font-weight: bold\">2001</span> │ <span style=\"color: #008080; text-decoration-color: #008080; font-weight: bold\">121332964</span> │\n",
       "│ <span style=\"color: #008080; text-decoration-color: #008080; font-weight: bold\">250944554</span> │         <span style=\"color: #008080; text-decoration-color: #008080; font-weight: bold\">7</span> │      <span style=\"color: #008080; text-decoration-color: #008080; font-weight: bold\">121864883</span> │  <span style=\"color: #008080; text-decoration-color: #008080; font-weight: bold\">0.4495</span> │    <span style=\"color: #008080; text-decoration-color: #008080; font-weight: bold\">87677</span> │        <span style=\"color: #008080; text-decoration-color: #008080; font-weight: bold\">2001</span> │ <span style=\"color: #008080; text-decoration-color: #008080; font-weight: bold\">121332964</span> │\n",
       "│ <span style=\"color: #008080; text-decoration-color: #008080; font-weight: bold\">250944554</span> │         <span style=\"color: #008080; text-decoration-color: #008080; font-weight: bold\">9</span> │      <span style=\"color: #008080; text-decoration-color: #008080; font-weight: bold\">134306372</span> │  <span style=\"color: #008080; text-decoration-color: #008080; font-weight: bold\">0.4287</span> │    <span style=\"color: #008080; text-decoration-color: #008080; font-weight: bold\">87677</span> │        <span style=\"color: #008080; text-decoration-color: #008080; font-weight: bold\">2001</span> │ <span style=\"color: #008080; text-decoration-color: #008080; font-weight: bold\">121332964</span> │\n",
       "└───────────┴───────────┴────────────────┴─────────┴──────────┴─────────────┴───────────┘\n",
       "</pre>\n"
      ],
      "text/plain": [
       "┏━━━━━━━━━━━┳━━━━━━━━━━━┳━━━━━━━━━━━━━━━━┳━━━━━━━━━┳━━━━━━━━━━┳━━━━━━━━━━━━━┳━━━━━━━━━━━┓\n",
       "┃\u001b[1m \u001b[0m\u001b[1mgoid\u001b[0m\u001b[1m     \u001b[0m\u001b[1m \u001b[0m┃\u001b[1m \u001b[0m\u001b[1mfieldrank\u001b[0m\u001b[1m \u001b[0m┃\u001b[1m \u001b[0m\u001b[1mFieldOfStudyId\u001b[0m\u001b[1m \u001b[0m┃\u001b[1m \u001b[0m\u001b[1mscore\u001b[0m\u001b[1m  \u001b[0m\u001b[1m \u001b[0m┃\u001b[1m \u001b[0m\u001b[1mAuthorId\u001b[0m\u001b[1m \u001b[0m┃\u001b[1m \u001b[0m\u001b[1mdegree_year\u001b[0m\u001b[1m \u001b[0m┃\u001b[1m \u001b[0m\u001b[1mField0\u001b[0m\u001b[1m   \u001b[0m\u001b[1m \u001b[0m┃\n",
       "┡━━━━━━━━━━━╇━━━━━━━━━━━╇━━━━━━━━━━━━━━━━╇━━━━━━━━━╇━━━━━━━━━━╇━━━━━━━━━━━━━╇━━━━━━━━━━━┩\n",
       "│ \u001b[2mint64\u001b[0m     │ \u001b[2mint64\u001b[0m     │ \u001b[2mint64\u001b[0m          │ \u001b[2mfloat64\u001b[0m │ \u001b[2mint64\u001b[0m    │ \u001b[2mint64\u001b[0m       │ \u001b[2mint64\u001b[0m     │\n",
       "├───────────┼───────────┼────────────────┼─────────┼──────────┼─────────────┼───────────┤\n",
       "│ \u001b[1;36m250944554\u001b[0m │         \u001b[1;36m2\u001b[0m │       \u001b[1;36m22679943\u001b[0m │  \u001b[1;36m0.5038\u001b[0m │    \u001b[1;36m87677\u001b[0m │        \u001b[1;36m2001\u001b[0m │ \u001b[1;36m121332964\u001b[0m │\n",
       "│ \u001b[1;36m250944554\u001b[0m │         \u001b[1;36m8\u001b[0m │       \u001b[1;36m28826006\u001b[0m │  \u001b[1;36m0.4348\u001b[0m │    \u001b[1;36m87677\u001b[0m │        \u001b[1;36m2001\u001b[0m │ \u001b[1;36m121332964\u001b[0m │\n",
       "│ \u001b[1;36m250944554\u001b[0m │         \u001b[1;36m6\u001b[0m │      \u001b[1;36m116672817\u001b[0m │  \u001b[1;36m0.4605\u001b[0m │    \u001b[1;36m87677\u001b[0m │        \u001b[1;36m2001\u001b[0m │ \u001b[1;36m121332964\u001b[0m │\n",
       "│ \u001b[1;36m250944554\u001b[0m │         \u001b[1;36m7\u001b[0m │      \u001b[1;36m121864883\u001b[0m │  \u001b[1;36m0.4495\u001b[0m │    \u001b[1;36m87677\u001b[0m │        \u001b[1;36m2001\u001b[0m │ \u001b[1;36m121332964\u001b[0m │\n",
       "│ \u001b[1;36m250944554\u001b[0m │         \u001b[1;36m9\u001b[0m │      \u001b[1;36m134306372\u001b[0m │  \u001b[1;36m0.4287\u001b[0m │    \u001b[1;36m87677\u001b[0m │        \u001b[1;36m2001\u001b[0m │ \u001b[1;36m121332964\u001b[0m │\n",
       "└───────────┴───────────┴────────────────┴─────────┴──────────┴─────────────┴───────────┘"
      ]
     },
     "execution_count": 48,
     "metadata": {},
     "output_type": "execute_result"
    }
   ],
   "source": [
    "query_topics_dissertation.head()"
   ]
  },
  {
   "cell_type": "code",
   "execution_count": 79,
   "metadata": {},
   "outputs": [
    {
     "data": {
      "text/html": [
       "<pre style=\"white-space:pre;overflow-x:auto;line-height:normal;font-family:Menlo,'DejaVu Sans Mono',consolas,'Courier New',monospace\">┏━━━━━━━━━━┳━━━━━━━━━━━━━━━━┳━━━━━━━┳━━━━━━━━━━━┳━━━━━━━━━━━━┳━━━━━━━━━━┓\n",
       "┃<span style=\"font-weight: bold\"> AuthorId </span>┃<span style=\"font-weight: bold\"> FieldOfStudyId </span>┃<span style=\"font-weight: bold\"> Year  </span>┃<span style=\"font-weight: bold\"> Field0    </span>┃<span style=\"font-weight: bold\"> PaperCount </span>┃<span style=\"font-weight: bold\"> Score    </span>┃\n",
       "┡━━━━━━━━━━╇━━━━━━━━━━━━━━━━╇━━━━━━━╇━━━━━━━━━━━╇━━━━━━━━━━━━╇━━━━━━━━━━┩\n",
       "│ <span style=\"color: #7f7f7f; text-decoration-color: #7f7f7f\">int64</span>    │ <span style=\"color: #7f7f7f; text-decoration-color: #7f7f7f\">int64</span>          │ <span style=\"color: #7f7f7f; text-decoration-color: #7f7f7f\">int64</span> │ <span style=\"color: #7f7f7f; text-decoration-color: #7f7f7f\">int64</span>     │ <span style=\"color: #7f7f7f; text-decoration-color: #7f7f7f\">int64</span>      │ <span style=\"color: #7f7f7f; text-decoration-color: #7f7f7f\">float64</span>  │\n",
       "├──────────┼────────────────┼───────┼───────────┼────────────┼──────────┤\n",
       "│  <span style=\"color: #008080; text-decoration-color: #008080; font-weight: bold\">1543596</span> │       <span style=\"color: #008080; text-decoration-color: #008080; font-weight: bold\">78519656</span> │  <span style=\"color: #008080; text-decoration-color: #008080; font-weight: bold\">2006</span> │ <span style=\"color: #008080; text-decoration-color: #008080; font-weight: bold\">192562407</span> │          <span style=\"color: #008080; text-decoration-color: #008080; font-weight: bold\">1</span> │ <span style=\"color: #008080; text-decoration-color: #008080; font-weight: bold\">0.456239</span> │\n",
       "│  <span style=\"color: #008080; text-decoration-color: #008080; font-weight: bold\">1543596</span> │      <span style=\"color: #008080; text-decoration-color: #008080; font-weight: bold\">127413603</span> │  <span style=\"color: #008080; text-decoration-color: #008080; font-weight: bold\">2006</span> │ <span style=\"color: #008080; text-decoration-color: #008080; font-weight: bold\">192562407</span> │          <span style=\"color: #008080; text-decoration-color: #008080; font-weight: bold\">1</span> │ <span style=\"color: #008080; text-decoration-color: #008080; font-weight: bold\">0.390464</span> │\n",
       "│  <span style=\"color: #008080; text-decoration-color: #008080; font-weight: bold\">1543596</span> │      <span style=\"color: #008080; text-decoration-color: #008080; font-weight: bold\">179737136</span> │  <span style=\"color: #008080; text-decoration-color: #008080; font-weight: bold\">2006</span> │ <span style=\"color: #008080; text-decoration-color: #008080; font-weight: bold\">192562407</span> │          <span style=\"color: #008080; text-decoration-color: #008080; font-weight: bold\">1</span> │ <span style=\"color: #008080; text-decoration-color: #008080; font-weight: bold\">0.632560</span> │\n",
       "│  <span style=\"color: #008080; text-decoration-color: #008080; font-weight: bold\">1543596</span> │      <span style=\"color: #008080; text-decoration-color: #008080; font-weight: bold\">199639397</span> │  <span style=\"color: #008080; text-decoration-color: #008080; font-weight: bold\">2006</span> │ <span style=\"color: #008080; text-decoration-color: #008080; font-weight: bold\">192562407</span> │          <span style=\"color: #008080; text-decoration-color: #008080; font-weight: bold\">1</span> │ <span style=\"color: #008080; text-decoration-color: #008080; font-weight: bold\">0.451308</span> │\n",
       "│  <span style=\"color: #008080; text-decoration-color: #008080; font-weight: bold\">1543596</span> │     <span style=\"color: #008080; text-decoration-color: #008080; font-weight: bold\">2780443751</span> │  <span style=\"color: #008080; text-decoration-color: #008080; font-weight: bold\">2006</span> │ <span style=\"color: #008080; text-decoration-color: #008080; font-weight: bold\">192562407</span> │          <span style=\"color: #008080; text-decoration-color: #008080; font-weight: bold\">1</span> │ <span style=\"color: #008080; text-decoration-color: #008080; font-weight: bold\">0.633969</span> │\n",
       "└──────────┴────────────────┴───────┴───────────┴────────────┴──────────┘\n",
       "</pre>\n"
      ],
      "text/plain": [
       "┏━━━━━━━━━━┳━━━━━━━━━━━━━━━━┳━━━━━━━┳━━━━━━━━━━━┳━━━━━━━━━━━━┳━━━━━━━━━━┓\n",
       "┃\u001b[1m \u001b[0m\u001b[1mAuthorId\u001b[0m\u001b[1m \u001b[0m┃\u001b[1m \u001b[0m\u001b[1mFieldOfStudyId\u001b[0m\u001b[1m \u001b[0m┃\u001b[1m \u001b[0m\u001b[1mYear\u001b[0m\u001b[1m \u001b[0m\u001b[1m \u001b[0m┃\u001b[1m \u001b[0m\u001b[1mField0\u001b[0m\u001b[1m   \u001b[0m\u001b[1m \u001b[0m┃\u001b[1m \u001b[0m\u001b[1mPaperCount\u001b[0m\u001b[1m \u001b[0m┃\u001b[1m \u001b[0m\u001b[1mScore\u001b[0m\u001b[1m   \u001b[0m\u001b[1m \u001b[0m┃\n",
       "┡━━━━━━━━━━╇━━━━━━━━━━━━━━━━╇━━━━━━━╇━━━━━━━━━━━╇━━━━━━━━━━━━╇━━━━━━━━━━┩\n",
       "│ \u001b[2mint64\u001b[0m    │ \u001b[2mint64\u001b[0m          │ \u001b[2mint64\u001b[0m │ \u001b[2mint64\u001b[0m     │ \u001b[2mint64\u001b[0m      │ \u001b[2mfloat64\u001b[0m  │\n",
       "├──────────┼────────────────┼───────┼───────────┼────────────┼──────────┤\n",
       "│  \u001b[1;36m1543596\u001b[0m │       \u001b[1;36m78519656\u001b[0m │  \u001b[1;36m2006\u001b[0m │ \u001b[1;36m192562407\u001b[0m │          \u001b[1;36m1\u001b[0m │ \u001b[1;36m0.456239\u001b[0m │\n",
       "│  \u001b[1;36m1543596\u001b[0m │      \u001b[1;36m127413603\u001b[0m │  \u001b[1;36m2006\u001b[0m │ \u001b[1;36m192562407\u001b[0m │          \u001b[1;36m1\u001b[0m │ \u001b[1;36m0.390464\u001b[0m │\n",
       "│  \u001b[1;36m1543596\u001b[0m │      \u001b[1;36m179737136\u001b[0m │  \u001b[1;36m2006\u001b[0m │ \u001b[1;36m192562407\u001b[0m │          \u001b[1;36m1\u001b[0m │ \u001b[1;36m0.632560\u001b[0m │\n",
       "│  \u001b[1;36m1543596\u001b[0m │      \u001b[1;36m199639397\u001b[0m │  \u001b[1;36m2006\u001b[0m │ \u001b[1;36m192562407\u001b[0m │          \u001b[1;36m1\u001b[0m │ \u001b[1;36m0.451308\u001b[0m │\n",
       "│  \u001b[1;36m1543596\u001b[0m │     \u001b[1;36m2780443751\u001b[0m │  \u001b[1;36m2006\u001b[0m │ \u001b[1;36m192562407\u001b[0m │          \u001b[1;36m1\u001b[0m │ \u001b[1;36m0.633969\u001b[0m │\n",
       "└──────────┴────────────────┴───────┴───────────┴────────────┴──────────┘"
      ]
     },
     "execution_count": 79,
     "metadata": {},
     "output_type": "execute_result"
    }
   ],
   "source": [
    "query_collaborators_topics.head() \n",
    "# note: Field0 is not relevant at the moment for the SVD: it's the same for all authors\n",
    "# instead, it matters if we run a model for each Field0 separately, or when we match to the graduates"
   ]
  },
  {
   "cell_type": "code",
   "execution_count": 49,
   "metadata": {},
   "outputs": [],
   "source": [
    "concepts_dissertation = (\n",
    "    query_topics_dissertation\n",
    "    .select(\n",
    "        _.AuthorId,\n",
    "        _.FieldOfStudyId,\n",
    "        _.score\n",
    "    )\n",
    ")\n"
   ]
  },
  {
   "cell_type": "code",
   "execution_count": 50,
   "metadata": {},
   "outputs": [],
   "source": [
    "concepts_dissertation = concepts_dissertation.execute()"
   ]
  },
  {
   "cell_type": "code",
   "execution_count": 51,
   "metadata": {},
   "outputs": [
    {
     "data": {
      "text/html": [
       "<div>\n",
       "<style scoped>\n",
       "    .dataframe tbody tr th:only-of-type {\n",
       "        vertical-align: middle;\n",
       "    }\n",
       "\n",
       "    .dataframe tbody tr th {\n",
       "        vertical-align: top;\n",
       "    }\n",
       "\n",
       "    .dataframe thead th {\n",
       "        text-align: right;\n",
       "    }\n",
       "</style>\n",
       "<table border=\"1\" class=\"dataframe\">\n",
       "  <thead>\n",
       "    <tr style=\"text-align: right;\">\n",
       "      <th></th>\n",
       "      <th>AuthorId</th>\n",
       "      <th>FieldOfStudyId</th>\n",
       "      <th>score</th>\n",
       "    </tr>\n",
       "  </thead>\n",
       "  <tbody>\n",
       "    <tr>\n",
       "      <th>0</th>\n",
       "      <td>87677</td>\n",
       "      <td>22679943</td>\n",
       "      <td>0.5038</td>\n",
       "    </tr>\n",
       "    <tr>\n",
       "      <th>1</th>\n",
       "      <td>87677</td>\n",
       "      <td>28826006</td>\n",
       "      <td>0.4348</td>\n",
       "    </tr>\n",
       "    <tr>\n",
       "      <th>2</th>\n",
       "      <td>87677</td>\n",
       "      <td>116672817</td>\n",
       "      <td>0.4605</td>\n",
       "    </tr>\n",
       "    <tr>\n",
       "      <th>3</th>\n",
       "      <td>87677</td>\n",
       "      <td>121864883</td>\n",
       "      <td>0.4495</td>\n",
       "    </tr>\n",
       "    <tr>\n",
       "      <th>4</th>\n",
       "      <td>87677</td>\n",
       "      <td>134306372</td>\n",
       "      <td>0.4287</td>\n",
       "    </tr>\n",
       "  </tbody>\n",
       "</table>\n",
       "</div>"
      ],
      "text/plain": [
       "   AuthorId  FieldOfStudyId   score\n",
       "0     87677        22679943  0.5038\n",
       "1     87677        28826006  0.4348\n",
       "2     87677       116672817  0.4605\n",
       "3     87677       121864883  0.4495\n",
       "4     87677       134306372  0.4287"
      ]
     },
     "execution_count": 51,
     "metadata": {},
     "output_type": "execute_result"
    }
   ],
   "source": [
    "concepts_dissertation.head()"
   ]
  },
  {
   "cell_type": "code",
   "execution_count": 52,
   "metadata": {},
   "outputs": [
    {
     "data": {
      "text/html": [
       "<div>\n",
       "<style scoped>\n",
       "    .dataframe tbody tr th:only-of-type {\n",
       "        vertical-align: middle;\n",
       "    }\n",
       "\n",
       "    .dataframe tbody tr th {\n",
       "        vertical-align: top;\n",
       "    }\n",
       "\n",
       "    .dataframe thead th {\n",
       "        text-align: right;\n",
       "    }\n",
       "</style>\n",
       "<table border=\"1\" class=\"dataframe\">\n",
       "  <thead>\n",
       "    <tr style=\"text-align: right;\">\n",
       "      <th></th>\n",
       "      <th>AuthorId</th>\n",
       "      <th>FieldOfStudyId</th>\n",
       "      <th>score</th>\n",
       "    </tr>\n",
       "  </thead>\n",
       "  <tbody>\n",
       "    <tr>\n",
       "      <th>count</th>\n",
       "      <td>6.060200e+04</td>\n",
       "      <td>6.060200e+04</td>\n",
       "      <td>60602.000000</td>\n",
       "    </tr>\n",
       "    <tr>\n",
       "      <th>mean</th>\n",
       "      <td>2.064306e+09</td>\n",
       "      <td>5.702066e+08</td>\n",
       "      <td>0.478462</td>\n",
       "    </tr>\n",
       "    <tr>\n",
       "      <th>std</th>\n",
       "      <td>6.300333e+08</td>\n",
       "      <td>9.997522e+08</td>\n",
       "      <td>0.054161</td>\n",
       "    </tr>\n",
       "    <tr>\n",
       "      <th>min</th>\n",
       "      <td>8.767700e+04</td>\n",
       "      <td>1.284300e+04</td>\n",
       "      <td>0.078300</td>\n",
       "    </tr>\n",
       "    <tr>\n",
       "      <th>25%</th>\n",
       "      <td>2.041778e+09</td>\n",
       "      <td>6.870940e+07</td>\n",
       "      <td>0.447800</td>\n",
       "    </tr>\n",
       "    <tr>\n",
       "      <th>50%</th>\n",
       "      <td>2.141505e+09</td>\n",
       "      <td>1.262855e+08</td>\n",
       "      <td>0.472800</td>\n",
       "    </tr>\n",
       "    <tr>\n",
       "      <th>75%</th>\n",
       "      <td>2.330460e+09</td>\n",
       "      <td>1.950194e+08</td>\n",
       "      <td>0.507300</td>\n",
       "    </tr>\n",
       "    <tr>\n",
       "      <th>max</th>\n",
       "      <td>3.163247e+09</td>\n",
       "      <td>3.020690e+09</td>\n",
       "      <td>0.807700</td>\n",
       "    </tr>\n",
       "  </tbody>\n",
       "</table>\n",
       "</div>"
      ],
      "text/plain": [
       "           AuthorId  FieldOfStudyId         score\n",
       "count  6.060200e+04    6.060200e+04  60602.000000\n",
       "mean   2.064306e+09    5.702066e+08      0.478462\n",
       "std    6.300333e+08    9.997522e+08      0.054161\n",
       "min    8.767700e+04    1.284300e+04      0.078300\n",
       "25%    2.041778e+09    6.870940e+07      0.447800\n",
       "50%    2.141505e+09    1.262855e+08      0.472800\n",
       "75%    2.330460e+09    1.950194e+08      0.507300\n",
       "max    3.163247e+09    3.020690e+09      0.807700"
      ]
     },
     "execution_count": 52,
     "metadata": {},
     "output_type": "execute_result"
    }
   ],
   "source": [
    "concepts_dissertation.describe()"
   ]
  },
  {
   "cell_type": "code",
   "execution_count": 53,
   "metadata": {},
   "outputs": [
    {
     "data": {
      "text/html": [
       "<pre style=\"white-space:pre;overflow-x:auto;line-height:normal;font-family:Menlo,'DejaVu Sans Mono',consolas,'Courier New',monospace\">┏━━━━━━━━━━━━━━━┳━━━━━━━━━━┳━━━━━━━┳━━━━━━━━━━━━━━━━┳━━━━━━━━━━┓\n",
       "┃<span style=\"font-weight: bold\"> AffiliationId </span>┃<span style=\"font-weight: bold\"> Field0   </span>┃<span style=\"font-weight: bold\"> Year  </span>┃<span style=\"font-weight: bold\"> FieldOfStudyId </span>┃<span style=\"font-weight: bold\"> Score    </span>┃\n",
       "┡━━━━━━━━━━━━━━━╇━━━━━━━━━━╇━━━━━━━╇━━━━━━━━━━━━━━━━╇━━━━━━━━━━┩\n",
       "│ <span style=\"color: #7f7f7f; text-decoration-color: #7f7f7f\">int64</span>         │ <span style=\"color: #7f7f7f; text-decoration-color: #7f7f7f\">int64</span>    │ <span style=\"color: #7f7f7f; text-decoration-color: #7f7f7f\">int64</span> │ <span style=\"color: #7f7f7f; text-decoration-color: #7f7f7f\">int64</span>          │ <span style=\"color: #7f7f7f; text-decoration-color: #7f7f7f\">float64</span>  │\n",
       "├───────────────┼──────────┼───────┼────────────────┼──────────┤\n",
       "│     <span style=\"color: #008080; text-decoration-color: #008080; font-weight: bold\">130701444</span> │ <span style=\"color: #008080; text-decoration-color: #008080; font-weight: bold\">15744967</span> │  <span style=\"color: #008080; text-decoration-color: #008080; font-weight: bold\">1996</span> │        <span style=\"color: #008080; text-decoration-color: #008080; font-weight: bold\">1337776</span> │ <span style=\"color: #008080; text-decoration-color: #008080; font-weight: bold\">0.008088</span> │\n",
       "│     <span style=\"color: #008080; text-decoration-color: #008080; font-weight: bold\">130701444</span> │ <span style=\"color: #008080; text-decoration-color: #008080; font-weight: bold\">15744967</span> │  <span style=\"color: #008080; text-decoration-color: #008080; font-weight: bold\">1996</span> │        <span style=\"color: #008080; text-decoration-color: #008080; font-weight: bold\">2718322</span> │ <span style=\"color: #008080; text-decoration-color: #008080; font-weight: bold\">0.029968</span> │\n",
       "│     <span style=\"color: #008080; text-decoration-color: #008080; font-weight: bold\">130701444</span> │ <span style=\"color: #008080; text-decoration-color: #008080; font-weight: bold\">15744967</span> │  <span style=\"color: #008080; text-decoration-color: #008080; font-weight: bold\">1996</span> │        <span style=\"color: #008080; text-decoration-color: #008080; font-weight: bold\">3769349</span> │ <span style=\"color: #008080; text-decoration-color: #008080; font-weight: bold\">0.016392</span> │\n",
       "│     <span style=\"color: #008080; text-decoration-color: #008080; font-weight: bold\">130701444</span> │ <span style=\"color: #008080; text-decoration-color: #008080; font-weight: bold\">15744967</span> │  <span style=\"color: #008080; text-decoration-color: #008080; font-weight: bold\">1996</span> │        <span style=\"color: #008080; text-decoration-color: #008080; font-weight: bold\">4279774</span> │ <span style=\"color: #008080; text-decoration-color: #008080; font-weight: bold\">0.015745</span> │\n",
       "│     <span style=\"color: #008080; text-decoration-color: #008080; font-weight: bold\">130701444</span> │ <span style=\"color: #008080; text-decoration-color: #008080; font-weight: bold\">15744967</span> │  <span style=\"color: #008080; text-decoration-color: #008080; font-weight: bold\">1996</span> │        <span style=\"color: #008080; text-decoration-color: #008080; font-weight: bold\">5041995</span> │ <span style=\"color: #008080; text-decoration-color: #008080; font-weight: bold\">0.009737</span> │\n",
       "└───────────────┴──────────┴───────┴────────────────┴──────────┘\n",
       "</pre>\n"
      ],
      "text/plain": [
       "┏━━━━━━━━━━━━━━━┳━━━━━━━━━━┳━━━━━━━┳━━━━━━━━━━━━━━━━┳━━━━━━━━━━┓\n",
       "┃\u001b[1m \u001b[0m\u001b[1mAffiliationId\u001b[0m\u001b[1m \u001b[0m┃\u001b[1m \u001b[0m\u001b[1mField0\u001b[0m\u001b[1m  \u001b[0m\u001b[1m \u001b[0m┃\u001b[1m \u001b[0m\u001b[1mYear\u001b[0m\u001b[1m \u001b[0m\u001b[1m \u001b[0m┃\u001b[1m \u001b[0m\u001b[1mFieldOfStudyId\u001b[0m\u001b[1m \u001b[0m┃\u001b[1m \u001b[0m\u001b[1mScore\u001b[0m\u001b[1m   \u001b[0m\u001b[1m \u001b[0m┃\n",
       "┡━━━━━━━━━━━━━━━╇━━━━━━━━━━╇━━━━━━━╇━━━━━━━━━━━━━━━━╇━━━━━━━━━━┩\n",
       "│ \u001b[2mint64\u001b[0m         │ \u001b[2mint64\u001b[0m    │ \u001b[2mint64\u001b[0m │ \u001b[2mint64\u001b[0m          │ \u001b[2mfloat64\u001b[0m  │\n",
       "├───────────────┼──────────┼───────┼────────────────┼──────────┤\n",
       "│     \u001b[1;36m130701444\u001b[0m │ \u001b[1;36m15744967\u001b[0m │  \u001b[1;36m1996\u001b[0m │        \u001b[1;36m1337776\u001b[0m │ \u001b[1;36m0.008088\u001b[0m │\n",
       "│     \u001b[1;36m130701444\u001b[0m │ \u001b[1;36m15744967\u001b[0m │  \u001b[1;36m1996\u001b[0m │        \u001b[1;36m2718322\u001b[0m │ \u001b[1;36m0.029968\u001b[0m │\n",
       "│     \u001b[1;36m130701444\u001b[0m │ \u001b[1;36m15744967\u001b[0m │  \u001b[1;36m1996\u001b[0m │        \u001b[1;36m3769349\u001b[0m │ \u001b[1;36m0.016392\u001b[0m │\n",
       "│     \u001b[1;36m130701444\u001b[0m │ \u001b[1;36m15744967\u001b[0m │  \u001b[1;36m1996\u001b[0m │        \u001b[1;36m4279774\u001b[0m │ \u001b[1;36m0.015745\u001b[0m │\n",
       "│     \u001b[1;36m130701444\u001b[0m │ \u001b[1;36m15744967\u001b[0m │  \u001b[1;36m1996\u001b[0m │        \u001b[1;36m5041995\u001b[0m │ \u001b[1;36m0.009737\u001b[0m │\n",
       "└───────────────┴──────────┴───────┴────────────────┴──────────┘"
      ]
     },
     "execution_count": 53,
     "metadata": {},
     "output_type": "execute_result"
    }
   ],
   "source": [
    "query_affiliation_topics.head()"
   ]
  },
  {
   "cell_type": "code",
   "execution_count": 118,
   "metadata": {},
   "outputs": [],
   "source": [
    "concepts_affiliations = ( # TODO: need to aggregate at the carnegie unit id. load the other id in the top\n",
    "    query_affiliation_topics\n",
    "    .filter([_.Year < degree_year_to_query,\n",
    "            _.Score > 0])\n",
    "    .group_by(\n",
    "        [\"AffiliationId\", \"Field0\", \"FieldOfStudyId\"]\n",
    "    )\n",
    "    .aggregate(Score = _.Score.sum())\n",
    "    .select(_.AffiliationId, _.Field0, _.FieldOfStudyId, score = _.Score)\n",
    ")"
   ]
  },
  {
   "cell_type": "code",
   "execution_count": 55,
   "metadata": {},
   "outputs": [],
   "source": [
    "concepts_affiliations = concepts_affiliations.execute()"
   ]
  },
  {
   "cell_type": "code",
   "execution_count": 116,
   "metadata": {},
   "outputs": [
    {
     "data": {
      "text/plain": [
       "count    2.533838e+06\n",
       "mean     4.852567e-02\n",
       "std      1.171893e-01\n",
       "min      6.042552e-05\n",
       "25%      2.989227e-03\n",
       "50%      9.739156e-03\n",
       "75%      3.516661e-02\n",
       "max      2.522734e+00\n",
       "Name: score, dtype: float64"
      ]
     },
     "execution_count": 116,
     "metadata": {},
     "output_type": "execute_result"
    }
   ],
   "source": [
    "concepts_affiliations[\"score\"].describe()"
   ]
  },
  {
   "cell_type": "code",
   "execution_count": 81,
   "metadata": {},
   "outputs": [],
   "source": [
    "concepts_collaborators = (\n",
    "    query_collaborators_topics\n",
    "    .filter([_.Year < degree_year_to_query,\n",
    "            _.Score > 0])\n",
    "    .group_by(\n",
    "        [\"AuthorId\", \"FieldOfStudyId\"]\n",
    "    )\n",
    "    .aggregate(Score = _.Score.sum())\n",
    "    .select(_.AuthorId, _.FieldOfStudyId, score = _.Score)\n",
    ")"
   ]
  },
  {
   "cell_type": "code",
   "execution_count": 82,
   "metadata": {},
   "outputs": [],
   "source": [
    "concepts_collaborators = concepts_collaborators.execute()"
   ]
  },
  {
   "cell_type": "code",
   "execution_count": 117,
   "metadata": {},
   "outputs": [
    {
     "data": {
      "text/html": [
       "<div>\n",
       "<style scoped>\n",
       "    .dataframe tbody tr th:only-of-type {\n",
       "        vertical-align: middle;\n",
       "    }\n",
       "\n",
       "    .dataframe tbody tr th {\n",
       "        vertical-align: top;\n",
       "    }\n",
       "\n",
       "    .dataframe thead th {\n",
       "        text-align: right;\n",
       "    }\n",
       "</style>\n",
       "<table border=\"1\" class=\"dataframe\">\n",
       "  <thead>\n",
       "    <tr style=\"text-align: right;\">\n",
       "      <th></th>\n",
       "      <th>AuthorId</th>\n",
       "      <th>FieldOfStudyId</th>\n",
       "      <th>score</th>\n",
       "    </tr>\n",
       "  </thead>\n",
       "  <tbody>\n",
       "    <tr>\n",
       "      <th>count</th>\n",
       "      <td>1.192936e+07</td>\n",
       "      <td>1.192936e+07</td>\n",
       "      <td>1.192936e+07</td>\n",
       "    </tr>\n",
       "    <tr>\n",
       "      <th>mean</th>\n",
       "      <td>2.078670e+09</td>\n",
       "      <td>7.602780e+08</td>\n",
       "      <td>1.523751e+00</td>\n",
       "    </tr>\n",
       "    <tr>\n",
       "      <th>std</th>\n",
       "      <td>6.440969e+08</td>\n",
       "      <td>1.136751e+09</td>\n",
       "      <td>1.987771e+00</td>\n",
       "    </tr>\n",
       "    <tr>\n",
       "      <th>min</th>\n",
       "      <td>1.436700e+04</td>\n",
       "      <td>4.250000e+03</td>\n",
       "      <td>2.121364e-03</td>\n",
       "    </tr>\n",
       "    <tr>\n",
       "      <th>25%</th>\n",
       "      <td>2.040331e+09</td>\n",
       "      <td>7.192410e+07</td>\n",
       "      <td>4.655359e-01</td>\n",
       "    </tr>\n",
       "    <tr>\n",
       "      <th>50%</th>\n",
       "      <td>2.144398e+09</td>\n",
       "      <td>1.427243e+08</td>\n",
       "      <td>9.115604e-01</td>\n",
       "    </tr>\n",
       "    <tr>\n",
       "      <th>75%</th>\n",
       "      <td>2.426926e+09</td>\n",
       "      <td>5.425309e+08</td>\n",
       "      <td>1.759389e+00</td>\n",
       "    </tr>\n",
       "    <tr>\n",
       "      <th>max</th>\n",
       "      <td>3.163949e+09</td>\n",
       "      <td>3.020794e+09</td>\n",
       "      <td>3.760799e+01</td>\n",
       "    </tr>\n",
       "  </tbody>\n",
       "</table>\n",
       "</div>"
      ],
      "text/plain": [
       "           AuthorId  FieldOfStudyId         score\n",
       "count  1.192936e+07    1.192936e+07  1.192936e+07\n",
       "mean   2.078670e+09    7.602780e+08  1.523751e+00\n",
       "std    6.440969e+08    1.136751e+09  1.987771e+00\n",
       "min    1.436700e+04    4.250000e+03  2.121364e-03\n",
       "25%    2.040331e+09    7.192410e+07  4.655359e-01\n",
       "50%    2.144398e+09    1.427243e+08  9.115604e-01\n",
       "75%    2.426926e+09    5.425309e+08  1.759389e+00\n",
       "max    3.163949e+09    3.020794e+09  3.760799e+01"
      ]
     },
     "execution_count": 117,
     "metadata": {},
     "output_type": "execute_result"
    }
   ],
   "source": [
    "concepts_collaborators.describe()"
   ]
  },
  {
   "cell_type": "code",
   "execution_count": 85,
   "metadata": {},
   "outputs": [],
   "source": [
    "fields_of_study = query_fields_up_to_max_level.execute()"
   ]
  },
  {
   "cell_type": "code",
   "execution_count": 86,
   "metadata": {},
   "outputs": [
    {
     "data": {
      "text/html": [
       "<div>\n",
       "<style scoped>\n",
       "    .dataframe tbody tr th:only-of-type {\n",
       "        vertical-align: middle;\n",
       "    }\n",
       "\n",
       "    .dataframe tbody tr th {\n",
       "        vertical-align: top;\n",
       "    }\n",
       "\n",
       "    .dataframe thead th {\n",
       "        text-align: right;\n",
       "    }\n",
       "</style>\n",
       "<table border=\"1\" class=\"dataframe\">\n",
       "  <thead>\n",
       "    <tr style=\"text-align: right;\">\n",
       "      <th></th>\n",
       "      <th>FieldOfStudyId</th>\n",
       "    </tr>\n",
       "  </thead>\n",
       "  <tbody>\n",
       "    <tr>\n",
       "      <th>0</th>\n",
       "      <td>417682</td>\n",
       "    </tr>\n",
       "    <tr>\n",
       "      <th>1</th>\n",
       "      <td>1443462</td>\n",
       "    </tr>\n",
       "    <tr>\n",
       "      <th>2</th>\n",
       "      <td>3079626</td>\n",
       "    </tr>\n",
       "    <tr>\n",
       "      <th>3</th>\n",
       "      <td>4084960</td>\n",
       "    </tr>\n",
       "    <tr>\n",
       "      <th>4</th>\n",
       "      <td>8748842</td>\n",
       "    </tr>\n",
       "  </tbody>\n",
       "</table>\n",
       "</div>"
      ],
      "text/plain": [
       "   FieldOfStudyId\n",
       "0          417682\n",
       "1         1443462\n",
       "2         3079626\n",
       "3         4084960\n",
       "4         8748842"
      ]
     },
     "execution_count": 86,
     "metadata": {},
     "output_type": "execute_result"
    }
   ],
   "source": [
    "fields_of_study.head()"
   ]
  },
  {
   "cell_type": "code",
   "execution_count": 87,
   "metadata": {},
   "outputs": [
    {
     "data": {
      "text/plain": [
       "FieldOfStudyId    int64\n",
       "dtype: object"
      ]
     },
     "execution_count": 87,
     "metadata": {},
     "output_type": "execute_result"
    }
   ],
   "source": [
    "fields_of_study.dtypes"
   ]
  },
  {
   "cell_type": "code",
   "execution_count": 88,
   "metadata": {},
   "outputs": [],
   "source": [
    "import numpy as np                                                                                                                                                                          \n",
    "from scipy.sparse import csr_matrix                                                                                                                                                         \n",
    "from sklearn.decomposition import TruncatedSVD  "
   ]
  },
  {
   "cell_type": "code",
   "execution_count": 89,
   "metadata": {},
   "outputs": [
    {
     "data": {
      "text/html": [
       "<div>\n",
       "<style scoped>\n",
       "    .dataframe tbody tr th:only-of-type {\n",
       "        vertical-align: middle;\n",
       "    }\n",
       "\n",
       "    .dataframe tbody tr th {\n",
       "        vertical-align: top;\n",
       "    }\n",
       "\n",
       "    .dataframe thead th {\n",
       "        text-align: right;\n",
       "    }\n",
       "</style>\n",
       "<table border=\"1\" class=\"dataframe\">\n",
       "  <thead>\n",
       "    <tr style=\"text-align: right;\">\n",
       "      <th></th>\n",
       "      <th>AffiliationId</th>\n",
       "      <th>Field0</th>\n",
       "      <th>FieldOfStudyId</th>\n",
       "      <th>score</th>\n",
       "    </tr>\n",
       "  </thead>\n",
       "  <tbody>\n",
       "    <tr>\n",
       "      <th>count</th>\n",
       "      <td>2.533838e+06</td>\n",
       "      <td>2.533838e+06</td>\n",
       "      <td>2.533838e+06</td>\n",
       "      <td>2.533838e+06</td>\n",
       "    </tr>\n",
       "    <tr>\n",
       "      <th>mean</th>\n",
       "      <td>1.246215e+08</td>\n",
       "      <td>9.669069e+07</td>\n",
       "      <td>8.549833e+08</td>\n",
       "      <td>4.852567e-02</td>\n",
       "    </tr>\n",
       "    <tr>\n",
       "      <th>std</th>\n",
       "      <td>1.454684e+08</td>\n",
       "      <td>6.164918e+07</td>\n",
       "      <td>1.193427e+09</td>\n",
       "      <td>1.171893e-01</td>\n",
       "    </tr>\n",
       "    <tr>\n",
       "      <th>min</th>\n",
       "      <td>2.753280e+05</td>\n",
       "      <td>1.574497e+07</td>\n",
       "      <td>4.250000e+03</td>\n",
       "      <td>6.042552e-05</td>\n",
       "    </tr>\n",
       "    <tr>\n",
       "      <th>25%</th>\n",
       "      <td>5.955353e+07</td>\n",
       "      <td>4.100815e+07</td>\n",
       "      <td>7.328332e+07</td>\n",
       "      <td>2.989227e-03</td>\n",
       "    </tr>\n",
       "    <tr>\n",
       "      <th>50%</th>\n",
       "      <td>1.101522e+08</td>\n",
       "      <td>8.680324e+07</td>\n",
       "      <td>1.475046e+08</td>\n",
       "      <td>9.739156e-03</td>\n",
       "    </tr>\n",
       "    <tr>\n",
       "      <th>75%</th>\n",
       "      <td>1.557813e+08</td>\n",
       "      <td>1.441336e+08</td>\n",
       "      <td>2.776367e+09</td>\n",
       "      <td>3.516661e-02</td>\n",
       "    </tr>\n",
       "    <tr>\n",
       "      <th>max</th>\n",
       "      <td>2.802890e+09</td>\n",
       "      <td>2.056492e+08</td>\n",
       "      <td>3.020794e+09</td>\n",
       "      <td>2.522734e+00</td>\n",
       "    </tr>\n",
       "  </tbody>\n",
       "</table>\n",
       "</div>"
      ],
      "text/plain": [
       "       AffiliationId        Field0  FieldOfStudyId         score\n",
       "count   2.533838e+06  2.533838e+06    2.533838e+06  2.533838e+06\n",
       "mean    1.246215e+08  9.669069e+07    8.549833e+08  4.852567e-02\n",
       "std     1.454684e+08  6.164918e+07    1.193427e+09  1.171893e-01\n",
       "min     2.753280e+05  1.574497e+07    4.250000e+03  6.042552e-05\n",
       "25%     5.955353e+07  4.100815e+07    7.328332e+07  2.989227e-03\n",
       "50%     1.101522e+08  8.680324e+07    1.475046e+08  9.739156e-03\n",
       "75%     1.557813e+08  1.441336e+08    2.776367e+09  3.516661e-02\n",
       "max     2.802890e+09  2.056492e+08    3.020794e+09  2.522734e+00"
      ]
     },
     "execution_count": 89,
     "metadata": {},
     "output_type": "execute_result"
    }
   ],
   "source": [
    "concepts_affiliations.describe()"
   ]
  },
  {
   "cell_type": "code",
   "execution_count": 90,
   "metadata": {},
   "outputs": [
    {
     "data": {
      "text/plain": [
       "array([0.082372  , 0.20092242, 0.20093939])"
      ]
     },
     "execution_count": 90,
     "metadata": {},
     "output_type": "execute_result"
    }
   ],
   "source": [
    "concepts_affiliations[\"score\"].values[:3]"
   ]
  },
  {
   "cell_type": "markdown",
   "metadata": {},
   "source": [
    "### Create sparse matrices"
   ]
  },
  {
   "cell_type": "code",
   "execution_count": 91,
   "metadata": {},
   "outputs": [],
   "source": [
    "\n",
    "field_to_index = {id: index for index, id in enumerate(fields_of_study['FieldOfStudyId'].unique())}\n",
    "field_to_index_map = np.vectorize(field_to_index.get)\n"
   ]
  },
  {
   "cell_type": "code",
   "execution_count": 92,
   "metadata": {},
   "outputs": [],
   "source": [
    "# # reference for all fields of study\n",
    "# field_to_index = {id: index for index, id in enumerate(fields_of_study['FieldOfStudyId'].unique())}\n",
    "# field_to_index_map = np.vectorize(field_to_index.get)\n",
    "# cols = field_to_index_map(np.array(concepts_affiliations[\"FieldOfStudyId\"]))\n",
    "# # concepts_affiliations[\"FieldOfStudyId\"].map(fie?ld_to_index)\n",
    "# assert cols.shape == np.array(concepts_affiliations[\"FieldOfStudyId\"]).shape\n",
    "# col_to_index_map = {id: index for index, id in enumerate(concepts_affiliations['AffiliationId'].unique())}\n",
    "# affiliation_to_index_map = np.vectorize(col_to_index.get)\n",
    "# rows = affiliation_to_index_map(np.array(concepts_affiliations[\"AffiliationId\"]))\n",
    "# assert rows.shape == np.array(concepts_affiliations[\"AffiliationId\"]).shape\n",
    "# a = csr_matrix(\n",
    "#     (np.array(concepts_affiliations[\"score\"]), (rows, cols)),\n",
    "#     shape=(rows.shape[0], len(field_to_index)))"
   ]
  },
  {
   "cell_type": "code",
   "execution_count": null,
   "metadata": {},
   "outputs": [],
   "source": []
  },
  {
   "cell_type": "code",
   "execution_count": 93,
   "metadata": {},
   "outputs": [],
   "source": [
    "def make_sparse(long_df, field_to_index, rows=\"AffiliationId\", cols=\"FieldOfStudyId\", value_col=\"score\"): \n",
    "    # col = concepts_affiliations['AffiliationId']\n",
    "    # row = \n",
    "    \"\"\"Create sparse matrix from a dataframe.\n",
    "\n",
    "    Args:\n",
    "        col (np.ndarray): values for index 0 in the resulting sparse matrix\n",
    "        row (np.ndarray): values for index 1 in the resulting sparse matrix.\n",
    "        row_map: mapping of all possible row values to identifiers.\n",
    "        data: non-zero values to to fill the sparse matrix.  \n",
    "    \n",
    "    \"\"\" \n",
    "\n",
    "    row_values = np.array(long_df[rows])\n",
    "    col_values = np.array(long_df[cols])\n",
    "    data = np.array(long_df[value_col])\n",
    "    print(data.shape)\n",
    "\n",
    "    row_to_index = {id: index for index, id in enumerate(np.unique(row_values))}\n",
    "    row_to_index_map = np.vectorize(row_to_index.get)\n",
    "\n",
    "    field_to_index_map = np.vectorize(field_to_index.get)\n",
    "\n",
    "    cols = field_to_index_map(col_values)\n",
    "    rows = row_to_index_map(row_values)\n",
    "\n",
    "    print(cols.shape)\n",
    "    print(rows.shape)\n",
    "    print(data.shape)\n",
    "\n",
    "    out = csr_matrix((data, (rows, cols)),\n",
    "                     shape=(len(row_to_index), len(field_to_index)),\n",
    "                     dtype=np.int64)\n",
    "    print(out.__repr__())\n",
    "    return out\n",
    "    \n",
    "    \n",
    "    "
   ]
  },
  {
   "cell_type": "code",
   "execution_count": 94,
   "metadata": {},
   "outputs": [],
   "source": [
    "concepts_affiliations[\"id\"] = concepts_affiliations[\"AffiliationId\"].astype(str) + \"_\" + concepts_affiliations[\"Field0\"].astype(str)"
   ]
  },
  {
   "cell_type": "code",
   "execution_count": 95,
   "metadata": {},
   "outputs": [
    {
     "data": {
      "text/html": [
       "<div>\n",
       "<style scoped>\n",
       "    .dataframe tbody tr th:only-of-type {\n",
       "        vertical-align: middle;\n",
       "    }\n",
       "\n",
       "    .dataframe tbody tr th {\n",
       "        vertical-align: top;\n",
       "    }\n",
       "\n",
       "    .dataframe thead th {\n",
       "        text-align: right;\n",
       "    }\n",
       "</style>\n",
       "<table border=\"1\" class=\"dataframe\">\n",
       "  <thead>\n",
       "    <tr style=\"text-align: right;\">\n",
       "      <th></th>\n",
       "      <th>AffiliationId</th>\n",
       "      <th>Field0</th>\n",
       "      <th>FieldOfStudyId</th>\n",
       "      <th>score</th>\n",
       "      <th>id</th>\n",
       "    </tr>\n",
       "  </thead>\n",
       "  <tbody>\n",
       "    <tr>\n",
       "      <th>0</th>\n",
       "      <td>275328</td>\n",
       "      <td>15744967</td>\n",
       "      <td>1337776</td>\n",
       "      <td>0.082372</td>\n",
       "      <td>275328_15744967</td>\n",
       "    </tr>\n",
       "    <tr>\n",
       "      <th>1</th>\n",
       "      <td>275328</td>\n",
       "      <td>15744967</td>\n",
       "      <td>11012388</td>\n",
       "      <td>0.200922</td>\n",
       "      <td>275328_15744967</td>\n",
       "    </tr>\n",
       "    <tr>\n",
       "      <th>2</th>\n",
       "      <td>275328</td>\n",
       "      <td>15744967</td>\n",
       "      <td>11171543</td>\n",
       "      <td>0.200939</td>\n",
       "      <td>275328_15744967</td>\n",
       "    </tr>\n",
       "    <tr>\n",
       "      <th>3</th>\n",
       "      <td>275328</td>\n",
       "      <td>15744967</td>\n",
       "      <td>13184196</td>\n",
       "      <td>0.043438</td>\n",
       "      <td>275328_15744967</td>\n",
       "    </tr>\n",
       "    <tr>\n",
       "      <th>4</th>\n",
       "      <td>275328</td>\n",
       "      <td>15744967</td>\n",
       "      <td>15708023</td>\n",
       "      <td>0.136965</td>\n",
       "      <td>275328_15744967</td>\n",
       "    </tr>\n",
       "  </tbody>\n",
       "</table>\n",
       "</div>"
      ],
      "text/plain": [
       "   AffiliationId    Field0  FieldOfStudyId     score               id\n",
       "0         275328  15744967         1337776  0.082372  275328_15744967\n",
       "1         275328  15744967        11012388  0.200922  275328_15744967\n",
       "2         275328  15744967        11171543  0.200939  275328_15744967\n",
       "3         275328  15744967        13184196  0.043438  275328_15744967\n",
       "4         275328  15744967        15708023  0.136965  275328_15744967"
      ]
     },
     "execution_count": 95,
     "metadata": {},
     "output_type": "execute_result"
    }
   ],
   "source": [
    "concepts_affiliations.head()"
   ]
  },
  {
   "cell_type": "code",
   "execution_count": 96,
   "metadata": {},
   "outputs": [
    {
     "name": "stdout",
     "output_type": "stream",
     "text": [
      "(2533838,)\n",
      "(2533838,)\n",
      "(2533838,)\n",
      "(2533838,)\n",
      "<Compressed Sparse Row sparse matrix of dtype 'int64'\n",
      "\twith 2533838 stored elements and shape (13653, 137499)>\n"
     ]
    }
   ],
   "source": [
    "v_affiliations = make_sparse(\n",
    "    concepts_affiliations, field_to_index, \"id\", \"FieldOfStudyId\", \"score\")"
   ]
  },
  {
   "cell_type": "code",
   "execution_count": 97,
   "metadata": {},
   "outputs": [
    {
     "name": "stdout",
     "output_type": "stream",
     "text": [
      "(60602,)\n",
      "(60602,)\n",
      "(60602,)\n",
      "(60602,)\n",
      "<Compressed Sparse Row sparse matrix of dtype 'int64'\n",
      "\twith 60602 stored elements and shape (8865, 137499)>\n"
     ]
    }
   ],
   "source": [
    "v_graduates = make_sparse(\n",
    "    concepts_dissertation, field_to_index, \"AuthorId\", \"FieldOfStudyId\", \"score\")\n",
    "    "
   ]
  },
  {
   "cell_type": "code",
   "execution_count": 99,
   "metadata": {},
   "outputs": [
    {
     "name": "stdout",
     "output_type": "stream",
     "text": [
      "(11929363,)\n",
      "(11929363,)\n",
      "(11929363,)\n",
      "(11929363,)\n",
      "<Compressed Sparse Row sparse matrix of dtype 'int64'\n",
      "\twith 11929363 stored elements and shape (631180, 137499)>\n"
     ]
    }
   ],
   "source": [
    "v_collaborators = make_sparse(\n",
    "    concepts_collaborators, field_to_index, \"AuthorId\", \"FieldOfStudyId\", \"score\")"
   ]
  },
  {
   "cell_type": "code",
   "execution_count": 131,
   "metadata": {},
   "outputs": [
    {
     "data": {
      "text/plain": [
       "48"
      ]
     },
     "execution_count": 131,
     "metadata": {},
     "output_type": "execute_result"
    }
   ],
   "source": [
    "import sys\n",
    "sys.getsizeof(v_collaborators)"
   ]
  },
  {
   "cell_type": "markdown",
   "metadata": {},
   "source": [
    "### Run SVD"
   ]
  },
  {
   "cell_type": "code",
   "execution_count": 121,
   "metadata": {},
   "outputs": [],
   "source": [
    "def run_svd(in_matrix, n_components=50):\n",
    "    # n_components = 100  # Number of dimensions to reduce to                                                                                                                                      \n",
    "    svd = TruncatedSVD(n_components=n_components, random_state=42)                                                                                                                              \n",
    "    embs = svd.fit_transform(in_matrix)     \n",
    "    \n",
    "    print(f\"Original matrix shape: {in_matrix.shape}\")                                                                                                                                \n",
    "    print(f\"Reduced matrix shape: {embs.shape}\")                                                                                                                                   \n",
    "    print(f\"Explained variance ratio: {svd.explained_variance_ratio_.sum():.4f}\")                       \n",
    "    \n",
    "    return svd"
   ]
  },
  {
   "cell_type": "code",
   "execution_count": null,
   "metadata": {},
   "outputs": [],
   "source": []
  },
  {
   "cell_type": "code",
   "execution_count": 122,
   "metadata": {},
   "outputs": [
    {
     "name": "stdout",
     "output_type": "stream",
     "text": [
      "Original matrix shape: (13653, 137499)\n",
      "Reduced matrix shape: (13653, 100)\n",
      "Explained variance ratio: 0.8758\n"
     ]
    }
   ],
   "source": [
    "a = run_svd(v_affiliations, 100)"
   ]
  },
  {
   "cell_type": "code",
   "execution_count": 123,
   "metadata": {},
   "outputs": [
    {
     "name": "stdout",
     "output_type": "stream",
     "text": [
      "Original matrix shape: (8865, 137499)\n",
      "Reduced matrix shape: (8865, 10)\n",
      "Explained variance ratio: nan\n"
     ]
    },
    {
     "name": "stderr",
     "output_type": "stream",
     "text": [
      "/home/flavio/miniconda3/envs/science-career-test/lib/python3.12/site-packages/sklearn/decomposition/_truncated_svd.py:275: RuntimeWarning: invalid value encountered in divide\n",
      "  self.explained_variance_ratio_ = exp_var / full_var\n"
     ]
    }
   ],
   "source": [
    "b = run_svd(v_graduates, 10) # cannot run graduates alone, but can stack with authors (see below)"
   ]
  },
  {
   "cell_type": "code",
   "execution_count": 124,
   "metadata": {},
   "outputs": [
    {
     "name": "stdout",
     "output_type": "stream",
     "text": [
      "Original matrix shape: (631180, 137499)\n",
      "Reduced matrix shape: (631180, 50)\n",
      "Explained variance ratio: 0.5080\n"
     ]
    }
   ],
   "source": [
    "c = run_svd(v_collaborators, 50)"
   ]
  },
  {
   "cell_type": "code",
   "execution_count": 106,
   "metadata": {},
   "outputs": [],
   "source": [
    "import scipy\n",
    "v_grads_collaborators = scipy.sparse.vstack([v_collaborators, v_graduates])"
   ]
  },
  {
   "cell_type": "code",
   "execution_count": 127,
   "metadata": {},
   "outputs": [
    {
     "name": "stdout",
     "output_type": "stream",
     "text": [
      "Original matrix shape: (640045, 137499)\n",
      "Reduced matrix shape: (640045, 500)\n",
      "Explained variance ratio: 0.7403\n"
     ]
    }
   ],
   "source": [
    "d = run_svd(v_grads_collaborators, 500)"
   ]
  },
  {
   "cell_type": "code",
   "execution_count": 128,
   "metadata": {},
   "outputs": [
    {
     "data": {
      "image/png": "[encoded data removed]",
      "text/plain": [
       "<Figure size 1000x500 with 1 Axes>"
      ]
     },
     "metadata": {},
     "output_type": "display_data"
    }
   ],
   "source": [
    "plt.figure(figsize=(10, 5))                                                                                                                                                                 \n",
    "plt.plot(np.cumsum(d.explained_variance_ratio_))                                                                                                                                          \n",
    "plt.xlabel('Number of Components')                                                                                                                                                          \n",
    "plt.ylabel('Cumulative Explained Variance Ratio')                                                                                                                                           \n",
    "plt.title('Explained Variance Ratio by Number of Components')                                                                                                                               \n",
    "plt.show() "
   ]
  },
  {
   "cell_type": "code",
   "execution_count": null,
   "metadata": {},
   "outputs": [],
   "source": []
  },
  {
   "cell_type": "code",
   "execution_count": null,
   "metadata": {},
   "outputs": [],
   "source": []
  },
  {
   "cell_type": "code",
   "execution_count": 220,
   "metadata": {},
   "outputs": [
    {
     "data": {
      "text/plain": [
       "<Axes: >"
      ]
     },
     "execution_count": 220,
     "metadata": {},
     "output_type": "execute_result"
    },
    {
     "data": {
      "image/png": "[encoded data removed]",
      "text/plain": [
       "<Figure size 640x480 with 1 Axes>"
      ]
     },
     "metadata": {},
     "output_type": "display_data"
    }
   ],
   "source": [
    "concepts_dissertation[\"score\"].hist()"
   ]
  },
  {
   "cell_type": "code",
   "execution_count": 221,
   "metadata": {},
   "outputs": [
    {
     "data": {
      "text/plain": [
       "<Axes: >"
      ]
     },
     "execution_count": 221,
     "metadata": {},
     "output_type": "execute_result"
    },
    {
     "data": {
      "image/png": "[encoded data removed]",
      "text/plain": [
       "<Figure size 640x480 with 1 Axes>"
      ]
     },
     "metadata": {},
     "output_type": "display_data"
    }
   ],
   "source": [
    "concepts_affiliations[\"score\"].hist()"
   ]
  },
  {
   "cell_type": "code",
   "execution_count": 289,
   "metadata": {},
   "outputs": [
    {
     "name": "stdout",
     "output_type": "stream",
     "text": [
      "(20265, 3)\n",
      "(1855, 3)\n"
     ]
    }
   ],
   "source": [
    "mask = concepts_affiliations[\"score\"] > 0.\n",
    "# WHY ARE THERE NOT 20k entries in the sparse matrix??\n",
    "print(concepts_affiliations[mask].shape)\n",
    "print(concepts_dissertation.shape)"
   ]
  },
  {
   "cell_type": "code",
   "execution_count": 231,
   "metadata": {},
   "outputs": [
    {
     "data": {
      "text/plain": [
       "240"
      ]
     },
     "execution_count": 231,
     "metadata": {},
     "output_type": "execute_result"
    }
   ],
   "source": [
    "concepts_dissertation[\"AuthorId\"].nunique()"
   ]
  },
  {
   "cell_type": "code",
   "execution_count": 348,
   "metadata": {},
   "outputs": [
    {
     "data": {
      "text/html": [
       "<div>\n",
       "<style scoped>\n",
       "    .dataframe tbody tr th:only-of-type {\n",
       "        vertical-align: middle;\n",
       "    }\n",
       "\n",
       "    .dataframe tbody tr th {\n",
       "        vertical-align: top;\n",
       "    }\n",
       "\n",
       "    .dataframe thead th {\n",
       "        text-align: right;\n",
       "    }\n",
       "</style>\n",
       "<table border=\"1\" class=\"dataframe\">\n",
       "  <thead>\n",
       "    <tr style=\"text-align: right;\">\n",
       "      <th></th>\n",
       "      <th>AffiliationId</th>\n",
       "      <th>FieldOfStudyId</th>\n",
       "      <th>score</th>\n",
       "    </tr>\n",
       "  </thead>\n",
       "  <tbody>\n",
       "    <tr>\n",
       "      <th>0</th>\n",
       "      <td>130701444</td>\n",
       "      <td>76155785</td>\n",
       "      <td>0.431343</td>\n",
       "    </tr>\n",
       "    <tr>\n",
       "      <th>1</th>\n",
       "      <td>130701444</td>\n",
       "      <td>127413603</td>\n",
       "      <td>0.411168</td>\n",
       "    </tr>\n",
       "    <tr>\n",
       "      <th>2</th>\n",
       "      <td>130701444</td>\n",
       "      <td>2776398702</td>\n",
       "      <td>0.401332</td>\n",
       "    </tr>\n",
       "    <tr>\n",
       "      <th>3</th>\n",
       "      <td>130701444</td>\n",
       "      <td>2777683733</td>\n",
       "      <td>0.449975</td>\n",
       "    </tr>\n",
       "    <tr>\n",
       "      <th>4</th>\n",
       "      <td>130701444</td>\n",
       "      <td>2780031656</td>\n",
       "      <td>0.456387</td>\n",
       "    </tr>\n",
       "  </tbody>\n",
       "</table>\n",
       "</div>"
      ],
      "text/plain": [
       "   AffiliationId  FieldOfStudyId     score\n",
       "0      130701444        76155785  0.431343\n",
       "1      130701444       127413603  0.411168\n",
       "2      130701444      2776398702  0.401332\n",
       "3      130701444      2777683733  0.449975\n",
       "4      130701444      2780031656  0.456387"
      ]
     },
     "execution_count": 348,
     "metadata": {},
     "output_type": "execute_result"
    }
   ],
   "source": [
    "concepts_affiliations.head()"
   ]
  },
  {
   "cell_type": "code",
   "execution_count": 349,
   "metadata": {},
   "outputs": [
    {
     "name": "stdout",
     "output_type": "stream",
     "text": [
      "(20265, 3)\n",
      "(15599, 3)\n"
     ]
    }
   ],
   "source": [
    "print(concepts_affiliations.shape)\n",
    "print(concepts_affiliations.drop_duplicates(subset=[\"AffiliationId\", \"FieldOfStudyId\"]).shape)"
   ]
  },
  {
   "cell_type": "markdown",
   "metadata": {},
   "source": [
    "### Todo\n",
    "\n",
    "- For author topics: what is Papers? do we need to divide the score by the number of papers? -> particularly important when comparing to students. what did we do before?\n",
    "- how to use affiliations alongside the authors? -> are the numbers on different scales?\n",
    "- use 32b precision\n",
    "- can we aim to have all vectors in the same units, ie, \"score per paper\" -> then we should be able to pool graduates, authors and affiliations into one model (per year)\n",
    "- for querying authors, need to consider not only `Paper` doc types\n",
    "- need to do by period, ie \"pre\" and \"post\""
   ]
  },
  {
   "cell_type": "code",
   "execution_count": null,
   "metadata": {},
   "outputs": [],
   "source": []
  },
  {
   "cell_type": "code",
   "execution_count": null,
   "metadata": {},
   "outputs": [],
   "source": []
  },
  {
   "cell_type": "code",
   "execution_count": 222,
   "metadata": {},
   "outputs": [
    {
     "name": "stdout",
     "output_type": "stream",
     "text": [
      "[0.01570766 0.05122679 0.04998062 0.04795064 0.04539933]\n",
      "0.21026503465070345\n",
      "[35.24105443  4.5981613   4.54200434  4.44866153  4.32887456]\n"
     ]
    }
   ],
   "source": []
  },
  {
   "cell_type": "code",
   "execution_count": 226,
   "metadata": {},
   "outputs": [
    {
     "name": "stdout",
     "output_type": "stream",
     "text": [
      "Sparse matrix shape: (4, 5)\n",
      "Number of non-zero elements: 6\n",
      "Identifier to index mapping: {'A': 0, 'B': 1, 'C': 2, 'D': 3}\n",
      "Fields: ['f1', 'f2', 'f3', 'f4', 'f5']\n",
      "\n",
      "Dense matrix:\n",
      "[[1. 2. 0. 0. 0.]\n",
      " [0. 0. 3. 0. 0.]\n",
      " [4. 0. 0. 5. 0.]\n",
      " [0. 6. 0. 0. 0.]]\n"
     ]
    }
   ],
   "source": [
    "import pandas as pd\n",
    "import numpy as np\n",
    "from scipy.sparse import csr_matrix\n",
    "\n",
    "def create_sparse_matrix(df, field_to_id_map):\n",
    "    \"\"\"\n",
    "    Create a sparse matrix from a DataFrame and a field-to-identifier mapping.\n",
    "    \n",
    "    Parameters:\n",
    "    df (pd.DataFrame): DataFrame with columns ['identifier', 'field', 'score']\n",
    "    field_to_id_map (dict): Mapping from field to identifier\n",
    "    \n",
    "    Returns:\n",
    "    scipy.sparse.csr_matrix: The resulting sparse matrix\n",
    "    dict: Mapping from original identifiers to matrix row indices\n",
    "    list: List of fields corresponding to matrix columns\n",
    "    \"\"\"\n",
    "    # Create mappings for identifiers and fields to indices\n",
    "    unique_identifiers = df['identifier'].unique()\n",
    "    id_to_index = {id: index for index, id in enumerate(unique_identifiers)}\n",
    "    \n",
    "    fields = list(field_to_id_map.keys())\n",
    "    field_to_index = {field: index for index, field in enumerate(fields)}\n",
    "    \n",
    "    # Create vectorized mapping functions\n",
    "    id_map = np.vectorize(id_to_index.get)\n",
    "    field_map = np.vectorize(field_to_index.get)\n",
    "    \n",
    "    # Apply mappings\n",
    "    rows = id_map(df['identifier'].values)\n",
    "    cols = field_map(df['field'].values)\n",
    "    data = df['score'].values\n",
    "    \n",
    "    # Check for and remove any None values (fields not in the mapping)\n",
    "    mask = (rows != None) & (cols != None)\n",
    "    rows = rows[mask]\n",
    "    cols = cols[mask]\n",
    "    data = data[mask]\n",
    "    \n",
    "    # Convert to proper types\n",
    "    rows = rows.astype(int)\n",
    "    cols = cols.astype(int)\n",
    "    data = data.astype(float)\n",
    "    \n",
    "    # Create the sparse matrix\n",
    "    matrix = csr_matrix((data, (rows, cols)), shape=(len(unique_identifiers), len(fields)))\n",
    "    \n",
    "    return matrix, id_to_index, fields\n",
    "\n",
    "# Example usage:\n",
    "# Sample data\n",
    "data = {\n",
    "    'identifier': ['A', 'A', 'B', 'C', 'C', 'D'],\n",
    "    'field': ['f1', 'f2', 'f3', 'f1', 'f4', 'f2'],\n",
    "    'score': [1.0, 2.0, 3.0, 4.0, 5.0, 6.0]\n",
    "}\n",
    "df = pd.DataFrame(data)\n",
    "\n",
    "# Sample field-to-identifier mapping\n",
    "field_to_id_map = {'f1': 'F1', 'f2': 'F2', 'f3': 'F3', 'f4': 'F4', 'f5': 'F5'}\n",
    "\n",
    "# Create the sparse matrix\n",
    "sparse_matrix, id_to_index, fields = create_sparse_matrix(df, field_to_id_map)\n",
    "\n",
    "print(\"Sparse matrix shape:\", sparse_matrix.shape)\n",
    "print(\"Number of non-zero elements:\", sparse_matrix.nnz)\n",
    "print(\"Identifier to index mapping:\", id_to_index)\n",
    "print(\"Fields:\", fields)\n",
    "\n",
    "# Convert to dense matrix for viewing (be careful with large matrices!)\n",
    "dense_matrix = sparse_matrix.todense()\n",
    "print(\"\\nDense matrix:\")\n",
    "print(dense_matrix)"
   ]
  },
  {
   "cell_type": "code",
   "execution_count": 326,
   "metadata": {},
   "outputs": [
    {
     "data": {
      "text/plain": [
       "<Compressed Sparse Row sparse matrix of dtype 'float64'\n",
       "\twith 6 stored elements and shape (4, 5)>"
      ]
     },
     "execution_count": 326,
     "metadata": {},
     "output_type": "execute_result"
    }
   ],
   "source": [
    "sparse_matrix"
   ]
  },
  {
   "cell_type": "code",
   "execution_count": 327,
   "metadata": {},
   "outputs": [
    {
     "data": {
      "text/plain": [
       "(6, 3)"
      ]
     },
     "execution_count": 327,
     "metadata": {},
     "output_type": "execute_result"
    }
   ],
   "source": [
    "df.shape"
   ]
  },
  {
   "cell_type": "code",
   "execution_count": 329,
   "metadata": {},
   "outputs": [
    {
     "data": {
      "text/html": [
       "<div>\n",
       "<style scoped>\n",
       "    .dataframe tbody tr th:only-of-type {\n",
       "        vertical-align: middle;\n",
       "    }\n",
       "\n",
       "    .dataframe tbody tr th {\n",
       "        vertical-align: top;\n",
       "    }\n",
       "\n",
       "    .dataframe thead th {\n",
       "        text-align: right;\n",
       "    }\n",
       "</style>\n",
       "<table border=\"1\" class=\"dataframe\">\n",
       "  <thead>\n",
       "    <tr style=\"text-align: right;\">\n",
       "      <th></th>\n",
       "      <th>AffiliationId</th>\n",
       "      <th>FieldOfStudyId</th>\n",
       "      <th>score</th>\n",
       "    </tr>\n",
       "  </thead>\n",
       "  <tbody>\n",
       "    <tr>\n",
       "      <th>0</th>\n",
       "      <td>130701444</td>\n",
       "      <td>76155785</td>\n",
       "      <td>0.431343</td>\n",
       "    </tr>\n",
       "    <tr>\n",
       "      <th>1</th>\n",
       "      <td>130701444</td>\n",
       "      <td>127413603</td>\n",
       "      <td>0.411168</td>\n",
       "    </tr>\n",
       "    <tr>\n",
       "      <th>2</th>\n",
       "      <td>130701444</td>\n",
       "      <td>2776398702</td>\n",
       "      <td>0.401332</td>\n",
       "    </tr>\n",
       "    <tr>\n",
       "      <th>3</th>\n",
       "      <td>130701444</td>\n",
       "      <td>2777683733</td>\n",
       "      <td>0.449975</td>\n",
       "    </tr>\n",
       "    <tr>\n",
       "      <th>4</th>\n",
       "      <td>130701444</td>\n",
       "      <td>2780031656</td>\n",
       "      <td>0.456387</td>\n",
       "    </tr>\n",
       "  </tbody>\n",
       "</table>\n",
       "</div>"
      ],
      "text/plain": [
       "   AffiliationId  FieldOfStudyId     score\n",
       "0      130701444        76155785  0.431343\n",
       "1      130701444       127413603  0.411168\n",
       "2      130701444      2776398702  0.401332\n",
       "3      130701444      2777683733  0.449975\n",
       "4      130701444      2780031656  0.456387"
      ]
     },
     "execution_count": 329,
     "metadata": {},
     "output_type": "execute_result"
    }
   ],
   "source": [
    "concepts_affiliations.head()"
   ]
  },
  {
   "cell_type": "code",
   "execution_count": 335,
   "metadata": {},
   "outputs": [],
   "source": [
    "dk = concepts_affiliations.rename(columns={\"AffiliationId\": \"identifier\", \"FieldOfStudyId\": \"field\"})\n",
    "dk.head()\n",
    "sparse_matrix, id_to_index, fields = create_sparse_matrix(dk, field_to_index)"
   ]
  },
  {
   "cell_type": "code",
   "execution_count": 342,
   "metadata": {},
   "outputs": [
    {
     "data": {
      "text/plain": [
       "np.int64(15599)"
      ]
     },
     "execution_count": 342,
     "metadata": {},
     "output_type": "execute_result"
    }
   ],
   "source": [
    "(sparse_matrix != v_affiliations).sum()"
   ]
  },
  {
   "cell_type": "code",
   "execution_count": 132,
   "metadata": {},
   "outputs": [
    {
     "ename": "NameError",
     "evalue": "name 'sparse_matrix' is not defined",
     "output_type": "error",
     "traceback": [
      "\u001b[0;31m---------------------------------------------------------------------------\u001b[0m",
      "\u001b[0;31mNameError\u001b[0m                                 Traceback (most recent call last)",
      "Cell \u001b[0;32mIn[132], line 1\u001b[0m\n\u001b[0;32m----> 1\u001b[0m \u001b[43msparse_matrix\u001b[49m\n",
      "\u001b[0;31mNameError\u001b[0m: name 'sparse_matrix' is not defined"
     ]
    }
   ],
   "source": [
    "sparse_matrix"
   ]
  },
  {
   "cell_type": "code",
   "execution_count": null,
   "metadata": {},
   "outputs": [],
   "source": []
  },
  {
   "cell_type": "code",
   "execution_count": null,
   "metadata": {},
   "outputs": [],
   "source": []
  },
  {
   "cell_type": "markdown",
   "metadata": {},
   "source": [
    "To do\n",
    "- run svd on subsample of all papers published in the time period in the relevant doc types\n",
    "- do the analysis above on explained components\n",
    "- fit the model when we're happy and save it\n",
    "- run the model on all papers of interest (time period, doc types), save as new \"reduced\" field of study\n",
    "- run the similarity pipeline *in addition* on those reduced "
   ]
  }
 ],
 "metadata": {
  "kernelspec": {
   "display_name": "Python 3 (ipykernel)",
   "language": "python",
   "name": "python3"
  },
  "language_info": {
   "codemirror_mode": {
    "name": "ipython",
    "version": 3
   },
   "file_extension": ".py",
   "mimetype": "text/x-python",
   "name": "python",
   "nbconvert_exporter": "python",
   "pygments_lexer": "ipython3",
   "version": "3.12.0"
  }
 },
 "nbformat": 4,
 "nbformat_minor": 4
}
