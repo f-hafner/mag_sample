{
 "cells": [
  {
   "cell_type": "code",
   "execution_count": 200,
   "metadata": {},
   "outputs": [],
   "source": [
    "import ibis\n",
    "from ibis import _\n",
    "import matplotlib.pyplot as plt      "
   ]
  },
  {
   "cell_type": "code",
   "execution_count": 87,
   "metadata": {},
   "outputs": [],
   "source": [
    "\n",
    "db_file = \"/mnt/ssd/AcademicGraph/AcademicGraph.sqlite\" \n",
    "ibis.options.interactive = True\n",
    "con = ibis.connect(db_file)\n",
    "\n",
    "max_level = 2\n",
    "field_to_query = 95457728\n",
    "degree_year_to_query = 2001\n",
    "\n",
    "\n",
    "\n",
    "links_to_cng = con.table(\"links_to_cng\")\n",
    "affiliations = con.table(\"affiliations\")\n",
    "fields_of_study = con.table(\"FieldsOfStudy\")\n",
    "\n",
    "current_links = con.table(\"current_links\")\n",
    "pq_authors = con.table(\"pq_authors\")\n",
    "pq_fields_mag = con.table(\"pq_fields_mag\")\n",
    "pq_magfos = con.table(\"pq_magfos\")\n",
    "\n",
    "author_affiliation = con.table(\"AuthorAffiliation\")\n",
    "author_fields = con.table(\"author_fields\")\n",
    "\n",
    "\n",
    "paper_author_unique = con.table(\"PaperAuthorUnique\")\n",
    "papers = con.table(\"Papers\")\n",
    "author_fields_detailed = con.table(\"author_fields_detailed\")\n",
    "\n",
    "affiliation_fields = con.table(\"affiliation_fields\")\n",
    "affiliation_outcomes = con.table(\"affiliation_outcomes\")\n"
   ]
  },
  {
   "cell_type": "code",
   "execution_count": 88,
   "metadata": {},
   "outputs": [],
   "source": [
    "# load all the queries as in the existing file\n",
    "query_affiliations = (\n",
    "    affiliations\n",
    "    .join(\n",
    "        links_to_cng,\n",
    "        affiliations.AffiliationId == links_to_cng.from_id\n",
    "    )\n",
    "    .filter(\n",
    "        links_to_cng.from_dataset == \"mag\"\n",
    "    )\n",
    "    .select(\n",
    "        _.AffiliationId\n",
    "    )\n",
    ")\n",
    "\n",
    "query_fields_up_to_max_level = (\n",
    "    fields_of_study\n",
    "    .filter(\n",
    "        _.Level <= max_level\n",
    "    )\n",
    "    .select(\n",
    "        _.FieldOfStudyId\n",
    "    )\n",
    ")\n",
    "\n",
    "query_graduates = (\n",
    "    current_links\n",
    "    .join(\n",
    "        pq_authors,\n",
    "        \"goid\",\n",
    "        how=\"inner\"\n",
    "    )\n",
    "    .filter(\n",
    "        pq_authors.degree_year == degree_year_to_query\n",
    "    )\n",
    "    .join(\n",
    "        pq_fields_mag\n",
    "        .mutate(\n",
    "            row_num=ibis\n",
    "                .row_number()\n",
    "                .over(group_by=_.goid, order_by=_.position.asc()\n",
    "            )\n",
    "        )\n",
    "        .filter(\n",
    "            [_.row_num == 0, _.mag_field0 == field_to_query]\n",
    "        )\n",
    "        .select(\n",
    "            _.goid,\n",
    "            _.position,\n",
    "            Field0 = _.mag_field0\n",
    "        ),\n",
    "        \"goid\"\n",
    "    )\n",
    "    .select(\n",
    "        _.goid,\n",
    "        _.AuthorId,\n",
    "        _.degree_year,\n",
    "        _.Field0\n",
    "    )\n",
    ")\n",
    "        \n",
    "query_topics_dissertation = (\n",
    "    pq_magfos\n",
    "    .join(\n",
    "        query_graduates,\n",
    "        \"goid\",\n",
    "        how=\"inner\"\n",
    "    )\n",
    "    .join(\n",
    "        query_fields_up_to_max_level,\n",
    "        \"FieldOfStudyId\",\n",
    "        how=\"inner\"\n",
    "    )\n",
    ")\n",
    "\n",
    "#topics_dissertation = query_topics_dissertation.execute() # this allows us to compute the first topic vector\n",
    "# need to extend it to \"all\" possible topics, and pivot_wide\n",
    "# in 2001, we have 686 concepts? \n",
    "\n",
    "query_collaborators = (\n",
    "    author_affiliation\n",
    "    .join(\n",
    "        query_affiliations,\n",
    "        \"AffiliationId\",\n",
    "        how=\"inner\"\n",
    "    )\n",
    "    .join(\n",
    "        author_fields\n",
    "        .filter(\n",
    "            [_.FieldClass == \"main\", _.FieldOfStudyId == field_to_query]\n",
    "        )\n",
    "        .select(\n",
    "            _.AuthorId\n",
    "        ),\n",
    "        \"AuthorId\",\n",
    "        how=\"inner\"\n",
    "    ).\n",
    "    filter(\n",
    "        [_.Year <= degree_year_to_query + 5, # TODO: careful with years here!\n",
    "         _.Year >= degree_year_to_query - 5] \n",
    "    )\n",
    ")\n",
    "\n",
    "query_author_papers = (\n",
    "    paper_author_unique\n",
    "    .join(\n",
    "        papers\n",
    "        .filter(\n",
    "            _.DocType == \"Journal\"\n",
    "        )\n",
    "        .select(\n",
    "            _.PaperId,\n",
    "            _.Year\n",
    "        ),\n",
    "        \"PaperId\",\n",
    "        how=\"inner\"\n",
    "    )\n",
    "    .join(\n",
    "        query_collaborators\n",
    "        .select(_.AuthorId),\n",
    "        \"AuthorId\",\n",
    "        how=\"inner\"\n",
    "    )\n",
    "    .filter(\n",
    "        [_.Year <= degree_year_to_query + 5,\n",
    "        _.Year >= degree_year_to_query - 5]\n",
    "    )\n",
    "    .select(\n",
    "        _.PaperId,\n",
    "        _.AuthorId,\n",
    "        _.Year\n",
    "    )\n",
    ")\n",
    "\n",
    "\n",
    "\n",
    "\n",
    "query_collaborators_topics = (\n",
    "    author_fields_detailed\n",
    "    .join(\n",
    "        author_fields\n",
    "        .filter(\n",
    "            _.FieldClass == \"main\"\n",
    "        )\n",
    "        .select(\n",
    "            _.AuthorId,\n",
    "            Field0 = _.FieldOfStudyId\n",
    "        ),\n",
    "        \"AuthorId\",\n",
    "        how=\"inner\"\n",
    "    ).\n",
    "    join(\n",
    "        query_collaborators\n",
    "        .select(_.AuthorId),\n",
    "        \"AuthorId\",\n",
    "        how=\"inner\"\n",
    "    )\n",
    "    .join(\n",
    "        query_fields_up_to_max_level,\n",
    "        \"FieldOfStudyId\",\n",
    "        how=\"inner\"\n",
    "    )\n",
    "    .mutate(\n",
    "        Score = _.Score / _.PaperCount\n",
    "    )\n",
    "    .filter(\n",
    "        [_.Year <= degree_year_to_query + 5,\n",
    "         _.Year >= degree_year_to_query - 5]\n",
    "    )\n",
    "    .select(\n",
    "        _.AuthorId,\n",
    "        _.FieldOfStudyId,\n",
    "        _.Year,\n",
    "        _.Field0,\n",
    "        _.PaperCount,\n",
    "        _.Score\n",
    "    )\n",
    ")\n",
    "\n",
    "\n",
    "query_affiliation_topics = (\n",
    "        affiliation_fields\n",
    "        .join(\n",
    "            affiliation_outcomes\n",
    "            .select(\n",
    "                _.AffiliationId,\n",
    "                _.Field0,\n",
    "                _.Year,\n",
    "                _.PaperCount\n",
    "            ),\n",
    "            [\"AffiliationId\", \"Year\", \"Field0\",\n",
    "             affiliation_fields.Field0 == field_to_query,\n",
    "             affiliation_outcomes.Year <= degree_year_to_query + 5,\n",
    "             affiliation_outcomes.Year >= degree_year_to_query - 5],\n",
    "            how=\"inner\"\n",
    "        )\n",
    "        .join(\n",
    "            query_affiliations,\n",
    "            \"AffiliationId\",\n",
    "            how=\"inner\"\n",
    "        )\n",
    "        .join( # subset to the relevant fields of study -- I think we forgot that previously\n",
    "            query_fields_up_to_max_level,\n",
    "            \"FieldOfStudyId\",\n",
    "            how=\"inner\"\n",
    "        )\n",
    "        .select(\n",
    "            _.AffiliationId,\n",
    "            _.Field0,\n",
    "            _.Year,\n",
    "            _.FieldOfStudyId,\n",
    "            Score = _.Score / _.PaperCount\n",
    "        )\n",
    ")\n"
   ]
  },
  {
   "cell_type": "code",
   "execution_count": 89,
   "metadata": {},
   "outputs": [
    {
     "data": {
      "text/html": [
       "<pre style=\"white-space:pre;overflow-x:auto;line-height:normal;font-family:Menlo,'DejaVu Sans Mono',consolas,'Courier New',monospace\">┏━━━━━━━━━━━━━━━┳━━━━━━━━━━┳━━━━━━━┳━━━━━━━━━━━━━━━━┳━━━━━━━━━━┓\n",
       "┃<span style=\"font-weight: bold\"> AffiliationId </span>┃<span style=\"font-weight: bold\"> Field0   </span>┃<span style=\"font-weight: bold\"> Year  </span>┃<span style=\"font-weight: bold\"> FieldOfStudyId </span>┃<span style=\"font-weight: bold\"> Score    </span>┃\n",
       "┡━━━━━━━━━━━━━━━╇━━━━━━━━━━╇━━━━━━━╇━━━━━━━━━━━━━━━━╇━━━━━━━━━━┩\n",
       "│ <span style=\"color: #7f7f7f; text-decoration-color: #7f7f7f\">int64</span>         │ <span style=\"color: #7f7f7f; text-decoration-color: #7f7f7f\">int64</span>    │ <span style=\"color: #7f7f7f; text-decoration-color: #7f7f7f\">int64</span> │ <span style=\"color: #7f7f7f; text-decoration-color: #7f7f7f\">int64</span>          │ <span style=\"color: #7f7f7f; text-decoration-color: #7f7f7f\">float64</span>  │\n",
       "├───────────────┼──────────┼───────┼────────────────┼──────────┤\n",
       "│     <span style=\"color: #008080; text-decoration-color: #008080; font-weight: bold\">130701444</span> │ <span style=\"color: #008080; text-decoration-color: #008080; font-weight: bold\">95457728</span> │  <span style=\"color: #008080; text-decoration-color: #008080; font-weight: bold\">1996</span> │       <span style=\"color: #008080; text-decoration-color: #008080; font-weight: bold\">76155785</span> │ <span style=\"color: #008080; text-decoration-color: #008080; font-weight: bold\">0.431343</span> │\n",
       "│     <span style=\"color: #008080; text-decoration-color: #008080; font-weight: bold\">130701444</span> │ <span style=\"color: #008080; text-decoration-color: #008080; font-weight: bold\">95457728</span> │  <span style=\"color: #008080; text-decoration-color: #008080; font-weight: bold\">1996</span> │      <span style=\"color: #008080; text-decoration-color: #008080; font-weight: bold\">127413603</span> │ <span style=\"color: #008080; text-decoration-color: #008080; font-weight: bold\">0.411168</span> │\n",
       "│     <span style=\"color: #008080; text-decoration-color: #008080; font-weight: bold\">130701444</span> │ <span style=\"color: #008080; text-decoration-color: #008080; font-weight: bold\">95457728</span> │  <span style=\"color: #008080; text-decoration-color: #008080; font-weight: bold\">1996</span> │     <span style=\"color: #008080; text-decoration-color: #008080; font-weight: bold\">2776398702</span> │ <span style=\"color: #008080; text-decoration-color: #008080; font-weight: bold\">0.401332</span> │\n",
       "│     <span style=\"color: #008080; text-decoration-color: #008080; font-weight: bold\">130701444</span> │ <span style=\"color: #008080; text-decoration-color: #008080; font-weight: bold\">95457728</span> │  <span style=\"color: #008080; text-decoration-color: #008080; font-weight: bold\">1996</span> │     <span style=\"color: #008080; text-decoration-color: #008080; font-weight: bold\">2777683733</span> │ <span style=\"color: #008080; text-decoration-color: #008080; font-weight: bold\">0.449975</span> │\n",
       "│     <span style=\"color: #008080; text-decoration-color: #008080; font-weight: bold\">130701444</span> │ <span style=\"color: #008080; text-decoration-color: #008080; font-weight: bold\">95457728</span> │  <span style=\"color: #008080; text-decoration-color: #008080; font-weight: bold\">1996</span> │     <span style=\"color: #008080; text-decoration-color: #008080; font-weight: bold\">2780031656</span> │ <span style=\"color: #008080; text-decoration-color: #008080; font-weight: bold\">0.456387</span> │\n",
       "└───────────────┴──────────┴───────┴────────────────┴──────────┘\n",
       "</pre>\n"
      ],
      "text/plain": [
       "┏━━━━━━━━━━━━━━━┳━━━━━━━━━━┳━━━━━━━┳━━━━━━━━━━━━━━━━┳━━━━━━━━━━┓\n",
       "┃\u001b[1m \u001b[0m\u001b[1mAffiliationId\u001b[0m\u001b[1m \u001b[0m┃\u001b[1m \u001b[0m\u001b[1mField0\u001b[0m\u001b[1m  \u001b[0m\u001b[1m \u001b[0m┃\u001b[1m \u001b[0m\u001b[1mYear\u001b[0m\u001b[1m \u001b[0m\u001b[1m \u001b[0m┃\u001b[1m \u001b[0m\u001b[1mFieldOfStudyId\u001b[0m\u001b[1m \u001b[0m┃\u001b[1m \u001b[0m\u001b[1mScore\u001b[0m\u001b[1m   \u001b[0m\u001b[1m \u001b[0m┃\n",
       "┡━━━━━━━━━━━━━━━╇━━━━━━━━━━╇━━━━━━━╇━━━━━━━━━━━━━━━━╇━━━━━━━━━━┩\n",
       "│ \u001b[2mint64\u001b[0m         │ \u001b[2mint64\u001b[0m    │ \u001b[2mint64\u001b[0m │ \u001b[2mint64\u001b[0m          │ \u001b[2mfloat64\u001b[0m  │\n",
       "├───────────────┼──────────┼───────┼────────────────┼──────────┤\n",
       "│     \u001b[1;36m130701444\u001b[0m │ \u001b[1;36m95457728\u001b[0m │  \u001b[1;36m1996\u001b[0m │       \u001b[1;36m76155785\u001b[0m │ \u001b[1;36m0.431343\u001b[0m │\n",
       "│     \u001b[1;36m130701444\u001b[0m │ \u001b[1;36m95457728\u001b[0m │  \u001b[1;36m1996\u001b[0m │      \u001b[1;36m127413603\u001b[0m │ \u001b[1;36m0.411168\u001b[0m │\n",
       "│     \u001b[1;36m130701444\u001b[0m │ \u001b[1;36m95457728\u001b[0m │  \u001b[1;36m1996\u001b[0m │     \u001b[1;36m2776398702\u001b[0m │ \u001b[1;36m0.401332\u001b[0m │\n",
       "│     \u001b[1;36m130701444\u001b[0m │ \u001b[1;36m95457728\u001b[0m │  \u001b[1;36m1996\u001b[0m │     \u001b[1;36m2777683733\u001b[0m │ \u001b[1;36m0.449975\u001b[0m │\n",
       "│     \u001b[1;36m130701444\u001b[0m │ \u001b[1;36m95457728\u001b[0m │  \u001b[1;36m1996\u001b[0m │     \u001b[1;36m2780031656\u001b[0m │ \u001b[1;36m0.456387\u001b[0m │\n",
       "└───────────────┴──────────┴───────┴────────────────┴──────────┘"
      ]
     },
     "execution_count": 89,
     "metadata": {},
     "output_type": "execute_result"
    }
   ],
   "source": [
    "query_affiliation_topics.head()"
   ]
  },
  {
   "cell_type": "code",
   "execution_count": 90,
   "metadata": {},
   "outputs": [
    {
     "data": {
      "text/html": [
       "<pre style=\"white-space:pre;overflow-x:auto;line-height:normal;font-family:Menlo,'DejaVu Sans Mono',consolas,'Courier New',monospace\">┏━━━━━━━━━━━┳━━━━━━━━━━━┳━━━━━━━━━━━━━┳━━━━━━━━━━┓\n",
       "┃<span style=\"font-weight: bold\"> goid      </span>┃<span style=\"font-weight: bold\"> AuthorId  </span>┃<span style=\"font-weight: bold\"> degree_year </span>┃<span style=\"font-weight: bold\"> Field0   </span>┃\n",
       "┡━━━━━━━━━━━╇━━━━━━━━━━━╇━━━━━━━━━━━━━╇━━━━━━━━━━┩\n",
       "│ <span style=\"color: #7f7f7f; text-decoration-color: #7f7f7f\">int64</span>     │ <span style=\"color: #7f7f7f; text-decoration-color: #7f7f7f\">int64</span>     │ <span style=\"color: #7f7f7f; text-decoration-color: #7f7f7f\">int64</span>       │ <span style=\"color: #7f7f7f; text-decoration-color: #7f7f7f\">int64</span>    │\n",
       "├───────────┼───────────┼─────────────┼──────────┤\n",
       "│ <span style=\"color: #008080; text-decoration-color: #008080; font-weight: bold\">304697883</span> │  <span style=\"color: #008080; text-decoration-color: #008080; font-weight: bold\">20514481</span> │        <span style=\"color: #008080; text-decoration-color: #008080; font-weight: bold\">2001</span> │ <span style=\"color: #008080; text-decoration-color: #008080; font-weight: bold\">95457728</span> │\n",
       "│ <span style=\"color: #008080; text-decoration-color: #008080; font-weight: bold\">304731168</span> │  <span style=\"color: #008080; text-decoration-color: #008080; font-weight: bold\">73798689</span> │        <span style=\"color: #008080; text-decoration-color: #008080; font-weight: bold\">2001</span> │ <span style=\"color: #008080; text-decoration-color: #008080; font-weight: bold\">95457728</span> │\n",
       "│ <span style=\"color: #008080; text-decoration-color: #008080; font-weight: bold\">304692505</span> │  <span style=\"color: #008080; text-decoration-color: #008080; font-weight: bold\">97269945</span> │        <span style=\"color: #008080; text-decoration-color: #008080; font-weight: bold\">2001</span> │ <span style=\"color: #008080; text-decoration-color: #008080; font-weight: bold\">95457728</span> │\n",
       "│ <span style=\"color: #008080; text-decoration-color: #008080; font-weight: bold\">304720798</span> │ <span style=\"color: #008080; text-decoration-color: #008080; font-weight: bold\">103099795</span> │        <span style=\"color: #008080; text-decoration-color: #008080; font-weight: bold\">2001</span> │ <span style=\"color: #008080; text-decoration-color: #008080; font-weight: bold\">95457728</span> │\n",
       "│ <span style=\"color: #008080; text-decoration-color: #008080; font-weight: bold\">275944833</span> │ <span style=\"color: #008080; text-decoration-color: #008080; font-weight: bold\">115250268</span> │        <span style=\"color: #008080; text-decoration-color: #008080; font-weight: bold\">2001</span> │ <span style=\"color: #008080; text-decoration-color: #008080; font-weight: bold\">95457728</span> │\n",
       "└───────────┴───────────┴─────────────┴──────────┘\n",
       "</pre>\n"
      ],
      "text/plain": [
       "┏━━━━━━━━━━━┳━━━━━━━━━━━┳━━━━━━━━━━━━━┳━━━━━━━━━━┓\n",
       "┃\u001b[1m \u001b[0m\u001b[1mgoid\u001b[0m\u001b[1m     \u001b[0m\u001b[1m \u001b[0m┃\u001b[1m \u001b[0m\u001b[1mAuthorId\u001b[0m\u001b[1m \u001b[0m\u001b[1m \u001b[0m┃\u001b[1m \u001b[0m\u001b[1mdegree_year\u001b[0m\u001b[1m \u001b[0m┃\u001b[1m \u001b[0m\u001b[1mField0\u001b[0m\u001b[1m  \u001b[0m\u001b[1m \u001b[0m┃\n",
       "┡━━━━━━━━━━━╇━━━━━━━━━━━╇━━━━━━━━━━━━━╇━━━━━━━━━━┩\n",
       "│ \u001b[2mint64\u001b[0m     │ \u001b[2mint64\u001b[0m     │ \u001b[2mint64\u001b[0m       │ \u001b[2mint64\u001b[0m    │\n",
       "├───────────┼───────────┼─────────────┼──────────┤\n",
       "│ \u001b[1;36m304697883\u001b[0m │  \u001b[1;36m20514481\u001b[0m │        \u001b[1;36m2001\u001b[0m │ \u001b[1;36m95457728\u001b[0m │\n",
       "│ \u001b[1;36m304731168\u001b[0m │  \u001b[1;36m73798689\u001b[0m │        \u001b[1;36m2001\u001b[0m │ \u001b[1;36m95457728\u001b[0m │\n",
       "│ \u001b[1;36m304692505\u001b[0m │  \u001b[1;36m97269945\u001b[0m │        \u001b[1;36m2001\u001b[0m │ \u001b[1;36m95457728\u001b[0m │\n",
       "│ \u001b[1;36m304720798\u001b[0m │ \u001b[1;36m103099795\u001b[0m │        \u001b[1;36m2001\u001b[0m │ \u001b[1;36m95457728\u001b[0m │\n",
       "│ \u001b[1;36m275944833\u001b[0m │ \u001b[1;36m115250268\u001b[0m │        \u001b[1;36m2001\u001b[0m │ \u001b[1;36m95457728\u001b[0m │\n",
       "└───────────┴───────────┴─────────────┴──────────┘"
      ]
     },
     "execution_count": 90,
     "metadata": {},
     "output_type": "execute_result"
    }
   ],
   "source": [
    "query_graduates.head()"
   ]
  },
  {
   "cell_type": "code",
   "execution_count": 91,
   "metadata": {},
   "outputs": [
    {
     "data": {
      "text/html": [
       "<pre style=\"white-space:pre;overflow-x:auto;line-height:normal;font-family:Menlo,'DejaVu Sans Mono',consolas,'Courier New',monospace\">┏━━━━━━━━━━━┳━━━━━━━━━━━┳━━━━━━━━━━━━━━━━┳━━━━━━━━━┳━━━━━━━━━━┳━━━━━━━━━━━━━┳━━━━━━━━━━┓\n",
       "┃<span style=\"font-weight: bold\"> goid      </span>┃<span style=\"font-weight: bold\"> fieldrank </span>┃<span style=\"font-weight: bold\"> FieldOfStudyId </span>┃<span style=\"font-weight: bold\"> score   </span>┃<span style=\"font-weight: bold\"> AuthorId </span>┃<span style=\"font-weight: bold\"> degree_year </span>┃<span style=\"font-weight: bold\"> Field0   </span>┃\n",
       "┡━━━━━━━━━━━╇━━━━━━━━━━━╇━━━━━━━━━━━━━━━━╇━━━━━━━━━╇━━━━━━━━━━╇━━━━━━━━━━━━━╇━━━━━━━━━━┩\n",
       "│ <span style=\"color: #7f7f7f; text-decoration-color: #7f7f7f\">int64</span>     │ <span style=\"color: #7f7f7f; text-decoration-color: #7f7f7f\">int64</span>     │ <span style=\"color: #7f7f7f; text-decoration-color: #7f7f7f\">int64</span>          │ <span style=\"color: #7f7f7f; text-decoration-color: #7f7f7f\">float64</span> │ <span style=\"color: #7f7f7f; text-decoration-color: #7f7f7f\">int64</span>    │ <span style=\"color: #7f7f7f; text-decoration-color: #7f7f7f\">int64</span>       │ <span style=\"color: #7f7f7f; text-decoration-color: #7f7f7f\">int64</span>    │\n",
       "├───────────┼───────────┼────────────────┼─────────┼──────────┼─────────────┼──────────┤\n",
       "│ <span style=\"color: #008080; text-decoration-color: #008080; font-weight: bold\">304697883</span> │         <span style=\"color: #008080; text-decoration-color: #008080; font-weight: bold\">2</span> │       <span style=\"color: #008080; text-decoration-color: #008080; font-weight: bold\">94625758</span> │  <span style=\"color: #008080; text-decoration-color: #008080; font-weight: bold\">0.5364</span> │ <span style=\"color: #008080; text-decoration-color: #008080; font-weight: bold\">20514481</span> │        <span style=\"color: #008080; text-decoration-color: #008080; font-weight: bold\">2001</span> │ <span style=\"color: #008080; text-decoration-color: #008080; font-weight: bold\">95457728</span> │\n",
       "│ <span style=\"color: #008080; text-decoration-color: #008080; font-weight: bold\">304697883</span> │         <span style=\"color: #008080; text-decoration-color: #008080; font-weight: bold\">1</span> │      <span style=\"color: #008080; text-decoration-color: #008080; font-weight: bold\">202565627</span> │  <span style=\"color: #008080; text-decoration-color: #008080; font-weight: bold\">0.5537</span> │ <span style=\"color: #008080; text-decoration-color: #008080; font-weight: bold\">20514481</span> │        <span style=\"color: #008080; text-decoration-color: #008080; font-weight: bold\">2001</span> │ <span style=\"color: #008080; text-decoration-color: #008080; font-weight: bold\">95457728</span> │\n",
       "│ <span style=\"color: #008080; text-decoration-color: #008080; font-weight: bold\">304731168</span> │        <span style=\"color: #008080; text-decoration-color: #008080; font-weight: bold\">10</span> │       <span style=\"color: #008080; text-decoration-color: #008080; font-weight: bold\">17744445</span> │  <span style=\"color: #008080; text-decoration-color: #008080; font-weight: bold\">0.4442</span> │ <span style=\"color: #008080; text-decoration-color: #008080; font-weight: bold\">73798689</span> │        <span style=\"color: #008080; text-decoration-color: #008080; font-weight: bold\">2001</span> │ <span style=\"color: #008080; text-decoration-color: #008080; font-weight: bold\">95457728</span> │\n",
       "│ <span style=\"color: #008080; text-decoration-color: #008080; font-weight: bold\">304731168</span> │         <span style=\"color: #008080; text-decoration-color: #008080; font-weight: bold\">1</span> │       <span style=\"color: #008080; text-decoration-color: #008080; font-weight: bold\">39853841</span> │  <span style=\"color: #008080; text-decoration-color: #008080; font-weight: bold\">0.5339</span> │ <span style=\"color: #008080; text-decoration-color: #008080; font-weight: bold\">73798689</span> │        <span style=\"color: #008080; text-decoration-color: #008080; font-weight: bold\">2001</span> │ <span style=\"color: #008080; text-decoration-color: #008080; font-weight: bold\">95457728</span> │\n",
       "│ <span style=\"color: #008080; text-decoration-color: #008080; font-weight: bold\">304731168</span> │         <span style=\"color: #008080; text-decoration-color: #008080; font-weight: bold\">8</span> │       <span style=\"color: #008080; text-decoration-color: #008080; font-weight: bold\">95124753</span> │  <span style=\"color: #008080; text-decoration-color: #008080; font-weight: bold\">0.4514</span> │ <span style=\"color: #008080; text-decoration-color: #008080; font-weight: bold\">73798689</span> │        <span style=\"color: #008080; text-decoration-color: #008080; font-weight: bold\">2001</span> │ <span style=\"color: #008080; text-decoration-color: #008080; font-weight: bold\">95457728</span> │\n",
       "└───────────┴───────────┴────────────────┴─────────┴──────────┴─────────────┴──────────┘\n",
       "</pre>\n"
      ],
      "text/plain": [
       "┏━━━━━━━━━━━┳━━━━━━━━━━━┳━━━━━━━━━━━━━━━━┳━━━━━━━━━┳━━━━━━━━━━┳━━━━━━━━━━━━━┳━━━━━━━━━━┓\n",
       "┃\u001b[1m \u001b[0m\u001b[1mgoid\u001b[0m\u001b[1m     \u001b[0m\u001b[1m \u001b[0m┃\u001b[1m \u001b[0m\u001b[1mfieldrank\u001b[0m\u001b[1m \u001b[0m┃\u001b[1m \u001b[0m\u001b[1mFieldOfStudyId\u001b[0m\u001b[1m \u001b[0m┃\u001b[1m \u001b[0m\u001b[1mscore\u001b[0m\u001b[1m  \u001b[0m\u001b[1m \u001b[0m┃\u001b[1m \u001b[0m\u001b[1mAuthorId\u001b[0m\u001b[1m \u001b[0m┃\u001b[1m \u001b[0m\u001b[1mdegree_year\u001b[0m\u001b[1m \u001b[0m┃\u001b[1m \u001b[0m\u001b[1mField0\u001b[0m\u001b[1m  \u001b[0m\u001b[1m \u001b[0m┃\n",
       "┡━━━━━━━━━━━╇━━━━━━━━━━━╇━━━━━━━━━━━━━━━━╇━━━━━━━━━╇━━━━━━━━━━╇━━━━━━━━━━━━━╇━━━━━━━━━━┩\n",
       "│ \u001b[2mint64\u001b[0m     │ \u001b[2mint64\u001b[0m     │ \u001b[2mint64\u001b[0m          │ \u001b[2mfloat64\u001b[0m │ \u001b[2mint64\u001b[0m    │ \u001b[2mint64\u001b[0m       │ \u001b[2mint64\u001b[0m    │\n",
       "├───────────┼───────────┼────────────────┼─────────┼──────────┼─────────────┼──────────┤\n",
       "│ \u001b[1;36m304697883\u001b[0m │         \u001b[1;36m2\u001b[0m │       \u001b[1;36m94625758\u001b[0m │  \u001b[1;36m0.5364\u001b[0m │ \u001b[1;36m20514481\u001b[0m │        \u001b[1;36m2001\u001b[0m │ \u001b[1;36m95457728\u001b[0m │\n",
       "│ \u001b[1;36m304697883\u001b[0m │         \u001b[1;36m1\u001b[0m │      \u001b[1;36m202565627\u001b[0m │  \u001b[1;36m0.5537\u001b[0m │ \u001b[1;36m20514481\u001b[0m │        \u001b[1;36m2001\u001b[0m │ \u001b[1;36m95457728\u001b[0m │\n",
       "│ \u001b[1;36m304731168\u001b[0m │        \u001b[1;36m10\u001b[0m │       \u001b[1;36m17744445\u001b[0m │  \u001b[1;36m0.4442\u001b[0m │ \u001b[1;36m73798689\u001b[0m │        \u001b[1;36m2001\u001b[0m │ \u001b[1;36m95457728\u001b[0m │\n",
       "│ \u001b[1;36m304731168\u001b[0m │         \u001b[1;36m1\u001b[0m │       \u001b[1;36m39853841\u001b[0m │  \u001b[1;36m0.5339\u001b[0m │ \u001b[1;36m73798689\u001b[0m │        \u001b[1;36m2001\u001b[0m │ \u001b[1;36m95457728\u001b[0m │\n",
       "│ \u001b[1;36m304731168\u001b[0m │         \u001b[1;36m8\u001b[0m │       \u001b[1;36m95124753\u001b[0m │  \u001b[1;36m0.4514\u001b[0m │ \u001b[1;36m73798689\u001b[0m │        \u001b[1;36m2001\u001b[0m │ \u001b[1;36m95457728\u001b[0m │\n",
       "└───────────┴───────────┴────────────────┴─────────┴──────────┴─────────────┴──────────┘"
      ]
     },
     "execution_count": 91,
     "metadata": {},
     "output_type": "execute_result"
    }
   ],
   "source": [
    "query_topics_dissertation.head()"
   ]
  },
  {
   "cell_type": "code",
   "execution_count": 92,
   "metadata": {},
   "outputs": [],
   "source": [
    "concepts_dissertation = (\n",
    "    query_topics_dissertation\n",
    "    .select(\n",
    "        _.AuthorId,\n",
    "        _.FieldOfStudyId,\n",
    "        _.score\n",
    "    )\n",
    ")"
   ]
  },
  {
   "cell_type": "code",
   "execution_count": 93,
   "metadata": {},
   "outputs": [],
   "source": [
    "concepts_dissertation = concepts_dissertation.execute()"
   ]
  },
  {
   "cell_type": "code",
   "execution_count": 94,
   "metadata": {},
   "outputs": [
    {
     "data": {
      "text/html": [
       "<div>\n",
       "<style scoped>\n",
       "    .dataframe tbody tr th:only-of-type {\n",
       "        vertical-align: middle;\n",
       "    }\n",
       "\n",
       "    .dataframe tbody tr th {\n",
       "        vertical-align: top;\n",
       "    }\n",
       "\n",
       "    .dataframe thead th {\n",
       "        text-align: right;\n",
       "    }\n",
       "</style>\n",
       "<table border=\"1\" class=\"dataframe\">\n",
       "  <thead>\n",
       "    <tr style=\"text-align: right;\">\n",
       "      <th></th>\n",
       "      <th>AuthorId</th>\n",
       "      <th>FieldOfStudyId</th>\n",
       "      <th>score</th>\n",
       "    </tr>\n",
       "  </thead>\n",
       "  <tbody>\n",
       "    <tr>\n",
       "      <th>0</th>\n",
       "      <td>20514481</td>\n",
       "      <td>94625758</td>\n",
       "      <td>0.5364</td>\n",
       "    </tr>\n",
       "    <tr>\n",
       "      <th>1</th>\n",
       "      <td>20514481</td>\n",
       "      <td>202565627</td>\n",
       "      <td>0.5537</td>\n",
       "    </tr>\n",
       "    <tr>\n",
       "      <th>2</th>\n",
       "      <td>73798689</td>\n",
       "      <td>17744445</td>\n",
       "      <td>0.4442</td>\n",
       "    </tr>\n",
       "    <tr>\n",
       "      <th>3</th>\n",
       "      <td>73798689</td>\n",
       "      <td>39853841</td>\n",
       "      <td>0.5339</td>\n",
       "    </tr>\n",
       "    <tr>\n",
       "      <th>4</th>\n",
       "      <td>73798689</td>\n",
       "      <td>95124753</td>\n",
       "      <td>0.4514</td>\n",
       "    </tr>\n",
       "  </tbody>\n",
       "</table>\n",
       "</div>"
      ],
      "text/plain": [
       "   AuthorId  FieldOfStudyId   score\n",
       "0  20514481        94625758  0.5364\n",
       "1  20514481       202565627  0.5537\n",
       "2  73798689        17744445  0.4442\n",
       "3  73798689        39853841  0.5339\n",
       "4  73798689        95124753  0.4514"
      ]
     },
     "execution_count": 94,
     "metadata": {},
     "output_type": "execute_result"
    }
   ],
   "source": [
    "concepts_dissertation.head()"
   ]
  },
  {
   "cell_type": "code",
   "execution_count": 95,
   "metadata": {},
   "outputs": [
    {
     "data": {
      "text/html": [
       "<div>\n",
       "<style scoped>\n",
       "    .dataframe tbody tr th:only-of-type {\n",
       "        vertical-align: middle;\n",
       "    }\n",
       "\n",
       "    .dataframe tbody tr th {\n",
       "        vertical-align: top;\n",
       "    }\n",
       "\n",
       "    .dataframe thead th {\n",
       "        text-align: right;\n",
       "    }\n",
       "</style>\n",
       "<table border=\"1\" class=\"dataframe\">\n",
       "  <thead>\n",
       "    <tr style=\"text-align: right;\">\n",
       "      <th></th>\n",
       "      <th>AuthorId</th>\n",
       "      <th>FieldOfStudyId</th>\n",
       "      <th>score</th>\n",
       "    </tr>\n",
       "  </thead>\n",
       "  <tbody>\n",
       "    <tr>\n",
       "      <th>count</th>\n",
       "      <td>1.855000e+03</td>\n",
       "      <td>1.855000e+03</td>\n",
       "      <td>1855.000000</td>\n",
       "    </tr>\n",
       "    <tr>\n",
       "      <th>mean</th>\n",
       "      <td>2.103080e+09</td>\n",
       "      <td>8.253521e+08</td>\n",
       "      <td>0.480156</td>\n",
       "    </tr>\n",
       "    <tr>\n",
       "      <th>std</th>\n",
       "      <td>6.133085e+08</td>\n",
       "      <td>1.171812e+09</td>\n",
       "      <td>0.038223</td>\n",
       "    </tr>\n",
       "    <tr>\n",
       "      <th>min</th>\n",
       "      <td>2.051448e+07</td>\n",
       "      <td>1.370556e+06</td>\n",
       "      <td>0.366000</td>\n",
       "    </tr>\n",
       "    <tr>\n",
       "      <th>25%</th>\n",
       "      <td>2.050481e+09</td>\n",
       "      <td>7.707779e+07</td>\n",
       "      <td>0.455400</td>\n",
       "    </tr>\n",
       "    <tr>\n",
       "      <th>50%</th>\n",
       "      <td>2.154136e+09</td>\n",
       "      <td>1.389217e+08</td>\n",
       "      <td>0.474100</td>\n",
       "    </tr>\n",
       "    <tr>\n",
       "      <th>75%</th>\n",
       "      <td>2.485259e+09</td>\n",
       "      <td>2.776051e+09</td>\n",
       "      <td>0.500750</td>\n",
       "    </tr>\n",
       "    <tr>\n",
       "      <th>max</th>\n",
       "      <td>2.998531e+09</td>\n",
       "      <td>3.020690e+09</td>\n",
       "      <td>0.668700</td>\n",
       "    </tr>\n",
       "  </tbody>\n",
       "</table>\n",
       "</div>"
      ],
      "text/plain": [
       "           AuthorId  FieldOfStudyId        score\n",
       "count  1.855000e+03    1.855000e+03  1855.000000\n",
       "mean   2.103080e+09    8.253521e+08     0.480156\n",
       "std    6.133085e+08    1.171812e+09     0.038223\n",
       "min    2.051448e+07    1.370556e+06     0.366000\n",
       "25%    2.050481e+09    7.707779e+07     0.455400\n",
       "50%    2.154136e+09    1.389217e+08     0.474100\n",
       "75%    2.485259e+09    2.776051e+09     0.500750\n",
       "max    2.998531e+09    3.020690e+09     0.668700"
      ]
     },
     "execution_count": 95,
     "metadata": {},
     "output_type": "execute_result"
    }
   ],
   "source": [
    "concepts_dissertation.describe()"
   ]
  },
  {
   "cell_type": "code",
   "execution_count": 290,
   "metadata": {},
   "outputs": [],
   "source": [
    "concepts_affiliations = (\n",
    "    query_affiliation_topics\n",
    "    .filter([_.Year < degree_year_to_query,\n",
    "            _.Score > 0])\n",
    "    .select(_.AffiliationId, _.FieldOfStudyId, score = _.Score)\n",
    ")"
   ]
  },
  {
   "cell_type": "code",
   "execution_count": 291,
   "metadata": {},
   "outputs": [],
   "source": [
    "concepts_affiliations = concepts_affiliations.execute()"
   ]
  },
  {
   "cell_type": "code",
   "execution_count": 292,
   "metadata": {},
   "outputs": [
    {
     "data": {
      "text/html": [
       "<div>\n",
       "<style scoped>\n",
       "    .dataframe tbody tr th:only-of-type {\n",
       "        vertical-align: middle;\n",
       "    }\n",
       "\n",
       "    .dataframe tbody tr th {\n",
       "        vertical-align: top;\n",
       "    }\n",
       "\n",
       "    .dataframe thead th {\n",
       "        text-align: right;\n",
       "    }\n",
       "</style>\n",
       "<table border=\"1\" class=\"dataframe\">\n",
       "  <thead>\n",
       "    <tr style=\"text-align: right;\">\n",
       "      <th></th>\n",
       "      <th>AffiliationId</th>\n",
       "      <th>FieldOfStudyId</th>\n",
       "      <th>score</th>\n",
       "    </tr>\n",
       "  </thead>\n",
       "  <tbody>\n",
       "    <tr>\n",
       "      <th>0</th>\n",
       "      <td>130701444</td>\n",
       "      <td>76155785</td>\n",
       "      <td>0.431343</td>\n",
       "    </tr>\n",
       "    <tr>\n",
       "      <th>1</th>\n",
       "      <td>130701444</td>\n",
       "      <td>127413603</td>\n",
       "      <td>0.411168</td>\n",
       "    </tr>\n",
       "    <tr>\n",
       "      <th>2</th>\n",
       "      <td>130701444</td>\n",
       "      <td>2776398702</td>\n",
       "      <td>0.401332</td>\n",
       "    </tr>\n",
       "    <tr>\n",
       "      <th>3</th>\n",
       "      <td>130701444</td>\n",
       "      <td>2777683733</td>\n",
       "      <td>0.449975</td>\n",
       "    </tr>\n",
       "    <tr>\n",
       "      <th>4</th>\n",
       "      <td>130701444</td>\n",
       "      <td>2780031656</td>\n",
       "      <td>0.456387</td>\n",
       "    </tr>\n",
       "  </tbody>\n",
       "</table>\n",
       "</div>"
      ],
      "text/plain": [
       "   AffiliationId  FieldOfStudyId     score\n",
       "0      130701444        76155785  0.431343\n",
       "1      130701444       127413603  0.411168\n",
       "2      130701444      2776398702  0.401332\n",
       "3      130701444      2777683733  0.449975\n",
       "4      130701444      2780031656  0.456387"
      ]
     },
     "execution_count": 292,
     "metadata": {},
     "output_type": "execute_result"
    }
   ],
   "source": [
    "concepts_affiliations.head()"
   ]
  },
  {
   "cell_type": "code",
   "execution_count": 293,
   "metadata": {},
   "outputs": [],
   "source": [
    "fields_of_study = query_fields_up_to_max_level.execute()"
   ]
  },
  {
   "cell_type": "code",
   "execution_count": 294,
   "metadata": {},
   "outputs": [
    {
     "data": {
      "text/html": [
       "<div>\n",
       "<style scoped>\n",
       "    .dataframe tbody tr th:only-of-type {\n",
       "        vertical-align: middle;\n",
       "    }\n",
       "\n",
       "    .dataframe tbody tr th {\n",
       "        vertical-align: top;\n",
       "    }\n",
       "\n",
       "    .dataframe thead th {\n",
       "        text-align: right;\n",
       "    }\n",
       "</style>\n",
       "<table border=\"1\" class=\"dataframe\">\n",
       "  <thead>\n",
       "    <tr style=\"text-align: right;\">\n",
       "      <th></th>\n",
       "      <th>FieldOfStudyId</th>\n",
       "    </tr>\n",
       "  </thead>\n",
       "  <tbody>\n",
       "    <tr>\n",
       "      <th>0</th>\n",
       "      <td>417682</td>\n",
       "    </tr>\n",
       "    <tr>\n",
       "      <th>1</th>\n",
       "      <td>1443462</td>\n",
       "    </tr>\n",
       "    <tr>\n",
       "      <th>2</th>\n",
       "      <td>3079626</td>\n",
       "    </tr>\n",
       "    <tr>\n",
       "      <th>3</th>\n",
       "      <td>4084960</td>\n",
       "    </tr>\n",
       "    <tr>\n",
       "      <th>4</th>\n",
       "      <td>8748842</td>\n",
       "    </tr>\n",
       "  </tbody>\n",
       "</table>\n",
       "</div>"
      ],
      "text/plain": [
       "   FieldOfStudyId\n",
       "0          417682\n",
       "1         1443462\n",
       "2         3079626\n",
       "3         4084960\n",
       "4         8748842"
      ]
     },
     "execution_count": 294,
     "metadata": {},
     "output_type": "execute_result"
    }
   ],
   "source": [
    "fields_of_study.head()"
   ]
  },
  {
   "cell_type": "code",
   "execution_count": 295,
   "metadata": {},
   "outputs": [
    {
     "data": {
      "text/plain": [
       "FieldOfStudyId    int64\n",
       "dtype: object"
      ]
     },
     "execution_count": 295,
     "metadata": {},
     "output_type": "execute_result"
    }
   ],
   "source": [
    "fields_of_study.dtypes"
   ]
  },
  {
   "cell_type": "code",
   "execution_count": 296,
   "metadata": {},
   "outputs": [],
   "source": [
    "import numpy as np                                                                                                                                                                          \n",
    "from scipy.sparse import csr_matrix                                                                                                                                                         \n",
    "from sklearn.decomposition import TruncatedSVD  "
   ]
  },
  {
   "cell_type": "code",
   "execution_count": 297,
   "metadata": {},
   "outputs": [
    {
     "data": {
      "text/html": [
       "<div>\n",
       "<style scoped>\n",
       "    .dataframe tbody tr th:only-of-type {\n",
       "        vertical-align: middle;\n",
       "    }\n",
       "\n",
       "    .dataframe tbody tr th {\n",
       "        vertical-align: top;\n",
       "    }\n",
       "\n",
       "    .dataframe thead th {\n",
       "        text-align: right;\n",
       "    }\n",
       "</style>\n",
       "<table border=\"1\" class=\"dataframe\">\n",
       "  <thead>\n",
       "    <tr style=\"text-align: right;\">\n",
       "      <th></th>\n",
       "      <th>AffiliationId</th>\n",
       "      <th>FieldOfStudyId</th>\n",
       "      <th>score</th>\n",
       "    </tr>\n",
       "  </thead>\n",
       "  <tbody>\n",
       "    <tr>\n",
       "      <th>count</th>\n",
       "      <td>2.026500e+04</td>\n",
       "      <td>2.026500e+04</td>\n",
       "      <td>20265.000000</td>\n",
       "    </tr>\n",
       "    <tr>\n",
       "      <th>mean</th>\n",
       "      <td>1.201400e+08</td>\n",
       "      <td>7.409110e+08</td>\n",
       "      <td>0.147631</td>\n",
       "    </tr>\n",
       "    <tr>\n",
       "      <th>std</th>\n",
       "      <td>1.387701e+08</td>\n",
       "      <td>1.126991e+09</td>\n",
       "      <td>0.142217</td>\n",
       "    </tr>\n",
       "    <tr>\n",
       "      <th>min</th>\n",
       "      <td>3.922820e+05</td>\n",
       "      <td>4.070000e+04</td>\n",
       "      <td>0.007696</td>\n",
       "    </tr>\n",
       "    <tr>\n",
       "      <th>25%</th>\n",
       "      <td>5.720697e+07</td>\n",
       "      <td>7.490951e+07</td>\n",
       "      <td>0.041217</td>\n",
       "    </tr>\n",
       "    <tr>\n",
       "      <th>50%</th>\n",
       "      <td>1.046510e+08</td>\n",
       "      <td>1.399977e+08</td>\n",
       "      <td>0.091227</td>\n",
       "    </tr>\n",
       "    <tr>\n",
       "      <th>75%</th>\n",
       "      <td>1.545704e+08</td>\n",
       "      <td>5.315936e+08</td>\n",
       "      <td>0.207460</td>\n",
       "    </tr>\n",
       "    <tr>\n",
       "      <th>max</th>\n",
       "      <td>1.327163e+09</td>\n",
       "      <td>3.019993e+09</td>\n",
       "      <td>0.838451</td>\n",
       "    </tr>\n",
       "  </tbody>\n",
       "</table>\n",
       "</div>"
      ],
      "text/plain": [
       "       AffiliationId  FieldOfStudyId         score\n",
       "count   2.026500e+04    2.026500e+04  20265.000000\n",
       "mean    1.201400e+08    7.409110e+08      0.147631\n",
       "std     1.387701e+08    1.126991e+09      0.142217\n",
       "min     3.922820e+05    4.070000e+04      0.007696\n",
       "25%     5.720697e+07    7.490951e+07      0.041217\n",
       "50%     1.046510e+08    1.399977e+08      0.091227\n",
       "75%     1.545704e+08    5.315936e+08      0.207460\n",
       "max     1.327163e+09    3.019993e+09      0.838451"
      ]
     },
     "execution_count": 297,
     "metadata": {},
     "output_type": "execute_result"
    }
   ],
   "source": [
    "concepts_affiliations.describe()"
   ]
  },
  {
   "cell_type": "code",
   "execution_count": 298,
   "metadata": {},
   "outputs": [
    {
     "data": {
      "text/plain": [
       "array([0.43134296, 0.41116807, 0.4013321 ])"
      ]
     },
     "execution_count": 298,
     "metadata": {},
     "output_type": "execute_result"
    }
   ],
   "source": [
    "concepts_affiliations[\"score\"].values[:3]"
   ]
  },
  {
   "cell_type": "markdown",
   "metadata": {},
   "source": [
    "### Create sparse matrices"
   ]
  },
  {
   "cell_type": "code",
   "execution_count": 299,
   "metadata": {},
   "outputs": [],
   "source": [
    "\n",
    "field_to_index = {id: index for index, id in enumerate(fields_of_study['FieldOfStudyId'].unique())}\n",
    "field_to_index_map = np.vectorize(field_to_index.get)\n"
   ]
  },
  {
   "cell_type": "code",
   "execution_count": 300,
   "metadata": {},
   "outputs": [],
   "source": [
    "# # reference for all fields of study\n",
    "# field_to_index = {id: index for index, id in enumerate(fields_of_study['FieldOfStudyId'].unique())}\n",
    "# field_to_index_map = np.vectorize(field_to_index.get)\n",
    "# cols = field_to_index_map(np.array(concepts_affiliations[\"FieldOfStudyId\"]))\n",
    "# # concepts_affiliations[\"FieldOfStudyId\"].map(fie?ld_to_index)\n",
    "# assert cols.shape == np.array(concepts_affiliations[\"FieldOfStudyId\"]).shape\n",
    "# col_to_index_map = {id: index for index, id in enumerate(concepts_affiliations['AffiliationId'].unique())}\n",
    "# affiliation_to_index_map = np.vectorize(col_to_index.get)\n",
    "# rows = affiliation_to_index_map(np.array(concepts_affiliations[\"AffiliationId\"]))\n",
    "# assert rows.shape == np.array(concepts_affiliations[\"AffiliationId\"]).shape\n",
    "# a = csr_matrix(\n",
    "#     (np.array(concepts_affiliations[\"score\"]), (rows, cols)),\n",
    "#     shape=(rows.shape[0], len(field_to_index)))"
   ]
  },
  {
   "cell_type": "code",
   "execution_count": null,
   "metadata": {},
   "outputs": [],
   "source": []
  },
  {
   "cell_type": "code",
   "execution_count": 321,
   "metadata": {},
   "outputs": [],
   "source": [
    "def make_sparse(long_df, field_to_index, rows=\"AffiliationId\", cols=\"FieldOfStudyId\", value_col=\"score\"): \n",
    "    # col = concepts_affiliations['AffiliationId']\n",
    "    # row = \n",
    "    \"\"\"Create sparse matrix from a dataframe.\n",
    "\n",
    "    Args:\n",
    "        col (np.ndarray): values for index 0 in the resulting sparse matrix\n",
    "        row (np.ndarray): values for index 1 in the resulting sparse matrix.\n",
    "        row_map: mapping of all possible row values to identifiers.\n",
    "        data: non-zero values to to fill the sparse matrix.  \n",
    "    \n",
    "    \"\"\" \n",
    "\n",
    "    row_values = np.array(long_df[rows])\n",
    "    col_values = np.array(long_df[cols])\n",
    "    data = np.array(long_df[value_col])\n",
    "    print(data.shape)\n",
    "\n",
    "    row_to_index = {id: index for index, id in enumerate(np.unique(row_values))}\n",
    "    row_to_index_map = np.vectorize(row_to_index.get)\n",
    "\n",
    "    field_to_index_map = np.vectorize(field_to_index.get)\n",
    "\n",
    "    cols = field_to_index_map(col_values)\n",
    "    rows = row_to_index_map(row_values)\n",
    "\n",
    "    print(cols.shape)\n",
    "    print(rows.shape)\n",
    "    print(data.shape)\n",
    "\n",
    "    out = csr_matrix((data, (rows, cols)),\n",
    "                     shape=(len(row_to_index), len(field_to_index)),\n",
    "                     dtype=np.int64)\n",
    "    print(out.__repr__())\n",
    "    return out\n",
    "    \n",
    "    \n",
    "    "
   ]
  },
  {
   "cell_type": "code",
   "execution_count": 322,
   "metadata": {},
   "outputs": [
    {
     "name": "stdout",
     "output_type": "stream",
     "text": [
      "(20265,)\n",
      "(20265,)\n",
      "(20265,)\n",
      "(20265,)\n",
      "<Compressed Sparse Row sparse matrix of dtype 'int64'\n",
      "\twith 15599 stored elements and shape (577, 137499)>\n"
     ]
    }
   ],
   "source": [
    "v_affiliations = make_sparse(\n",
    "    concepts_affiliations, field_to_index, \"AffiliationId\", \"FieldOfStudyId\", \"score\")"
   ]
  },
  {
   "cell_type": "code",
   "execution_count": 323,
   "metadata": {},
   "outputs": [
    {
     "name": "stdout",
     "output_type": "stream",
     "text": [
      "(1855,)\n",
      "(1855,)\n",
      "(1855,)\n",
      "(1855,)\n",
      "<Compressed Sparse Row sparse matrix of dtype 'int64'\n",
      "\twith 1855 stored elements and shape (240, 137499)>\n"
     ]
    }
   ],
   "source": [
    "v_graduates = make_sparse(\n",
    "    concepts_dissertation, field_to_index, \"AuthorId\", \"FieldOfStudyId\", \"score\")\n",
    "    "
   ]
  },
  {
   "cell_type": "code",
   "execution_count": null,
   "metadata": {},
   "outputs": [],
   "source": []
  },
  {
   "cell_type": "code",
   "execution_count": 304,
   "metadata": {},
   "outputs": [],
   "source": [
    "def run_svd(in_matrix, n_components=50):\n",
    "    # n_components = 100  # Number of dimensions to reduce to                                                                                                                                      \n",
    "    svd = TruncatedSVD(n_components=n_components, random_state=42)                                                                                                                              \n",
    "    embs = svd.fit_transform(in_matrix)     \n",
    "    \n",
    "    print(f\"Original matrix shape: {embs.shape}\")                                                                                                                                \n",
    "    print(f\"Reduced matrix shape: {embs.shape}\")                                                                                                                                   \n",
    "    print(f\"Explained variance ratio: {svd.explained_variance_ratio_.sum():.4f}\")                       \n",
    "    \n",
    "    return svd"
   ]
  },
  {
   "cell_type": "code",
   "execution_count": null,
   "metadata": {},
   "outputs": [],
   "source": []
  },
  {
   "cell_type": "code",
   "execution_count": 282,
   "metadata": {},
   "outputs": [
    {
     "name": "stdout",
     "output_type": "stream",
     "text": [
      "Original matrix shape: (577, 10)\n",
      "Reduced matrix shape: (577, 10)\n",
      "Explained variance ratio: nan\n"
     ]
    }
   ],
   "source": [
    "a = run_svd(v_affiliations, 10)"
   ]
  },
  {
   "cell_type": "code",
   "execution_count": 283,
   "metadata": {},
   "outputs": [
    {
     "name": "stdout",
     "output_type": "stream",
     "text": [
      "Original matrix shape: (240, 10)\n",
      "Reduced matrix shape: (240, 10)\n",
      "Explained variance ratio: nan\n"
     ]
    }
   ],
   "source": [
    "b = run_svd(v_graduates, 10)"
   ]
  },
  {
   "cell_type": "code",
   "execution_count": 284,
   "metadata": {},
   "outputs": [
    {
     "data": {
      "text/plain": [
       "{'algorithm': 'randomized',\n",
       " 'n_components': 10,\n",
       " 'n_iter': 5,\n",
       " 'n_oversamples': 10,\n",
       " 'power_iteration_normalizer': 'auto',\n",
       " 'random_state': 42,\n",
       " 'tol': 0.0,\n",
       " 'n_features_in_': 137499,\n",
       " 'components_': array([[1., 0., 0., ..., 0., 0., 0.],\n",
       "        [0., 1., 0., ..., 0., 0., 0.],\n",
       "        [0., 0., 1., ..., 0., 0., 0.],\n",
       "        ...,\n",
       "        [0., 0., 0., ..., 0., 0., 0.],\n",
       "        [0., 0., 0., ..., 0., 0., 0.],\n",
       "        [0., 0., 0., ..., 0., 0., 0.]]),\n",
       " 'explained_variance_': array([0., 0., 0., 0., 0., 0., 0., 0., 0., 0.]),\n",
       " 'explained_variance_ratio_': array([nan, nan, nan, nan, nan, nan, nan, nan, nan, nan]),\n",
       " 'singular_values_': array([0., 0., 0., 0., 0., 0., 0., 0., 0., 0.])}"
      ]
     },
     "execution_count": 284,
     "metadata": {},
     "output_type": "execute_result"
    }
   ],
   "source": [
    "vars(a)"
   ]
  },
  {
   "cell_type": "code",
   "execution_count": null,
   "metadata": {},
   "outputs": [],
   "source": []
  },
  {
   "cell_type": "code",
   "execution_count": 220,
   "metadata": {},
   "outputs": [
    {
     "data": {
      "text/plain": [
       "<Axes: >"
      ]
     },
     "execution_count": 220,
     "metadata": {},
     "output_type": "execute_result"
    },
    {
     "data": {
      "image/png": "[encoded data removed]",
      "text/plain": [
       "<Figure size 640x480 with 1 Axes>"
      ]
     },
     "metadata": {},
     "output_type": "display_data"
    }
   ],
   "source": [
    "concepts_dissertation[\"score\"].hist()"
   ]
  },
  {
   "cell_type": "code",
   "execution_count": 221,
   "metadata": {},
   "outputs": [
    {
     "data": {
      "text/plain": [
       "<Axes: >"
      ]
     },
     "execution_count": 221,
     "metadata": {},
     "output_type": "execute_result"
    },
    {
     "data": {
      "image/png": "[encoded data removed]",
      "text/plain": [
       "<Figure size 640x480 with 1 Axes>"
      ]
     },
     "metadata": {},
     "output_type": "display_data"
    }
   ],
   "source": [
    "concepts_affiliations[\"score\"].hist()"
   ]
  },
  {
   "cell_type": "code",
   "execution_count": 289,
   "metadata": {},
   "outputs": [
    {
     "name": "stdout",
     "output_type": "stream",
     "text": [
      "(20265, 3)\n",
      "(1855, 3)\n"
     ]
    }
   ],
   "source": [
    "mask = concepts_affiliations[\"score\"] > 0.\n",
    "# WHY ARE THERE NOT 20k entries in the sparse matrix??\n",
    "print(concepts_affiliations[mask].shape)\n",
    "print(concepts_dissertation.shape)"
   ]
  },
  {
   "cell_type": "code",
   "execution_count": 231,
   "metadata": {},
   "outputs": [
    {
     "data": {
      "text/plain": [
       "240"
      ]
     },
     "execution_count": 231,
     "metadata": {},
     "output_type": "execute_result"
    }
   ],
   "source": [
    "concepts_dissertation[\"AuthorId\"].nunique()"
   ]
  },
  {
   "cell_type": "code",
   "execution_count": 348,
   "metadata": {},
   "outputs": [
    {
     "data": {
      "text/html": [
       "<div>\n",
       "<style scoped>\n",
       "    .dataframe tbody tr th:only-of-type {\n",
       "        vertical-align: middle;\n",
       "    }\n",
       "\n",
       "    .dataframe tbody tr th {\n",
       "        vertical-align: top;\n",
       "    }\n",
       "\n",
       "    .dataframe thead th {\n",
       "        text-align: right;\n",
       "    }\n",
       "</style>\n",
       "<table border=\"1\" class=\"dataframe\">\n",
       "  <thead>\n",
       "    <tr style=\"text-align: right;\">\n",
       "      <th></th>\n",
       "      <th>AffiliationId</th>\n",
       "      <th>FieldOfStudyId</th>\n",
       "      <th>score</th>\n",
       "    </tr>\n",
       "  </thead>\n",
       "  <tbody>\n",
       "    <tr>\n",
       "      <th>0</th>\n",
       "      <td>130701444</td>\n",
       "      <td>76155785</td>\n",
       "      <td>0.431343</td>\n",
       "    </tr>\n",
       "    <tr>\n",
       "      <th>1</th>\n",
       "      <td>130701444</td>\n",
       "      <td>127413603</td>\n",
       "      <td>0.411168</td>\n",
       "    </tr>\n",
       "    <tr>\n",
       "      <th>2</th>\n",
       "      <td>130701444</td>\n",
       "      <td>2776398702</td>\n",
       "      <td>0.401332</td>\n",
       "    </tr>\n",
       "    <tr>\n",
       "      <th>3</th>\n",
       "      <td>130701444</td>\n",
       "      <td>2777683733</td>\n",
       "      <td>0.449975</td>\n",
       "    </tr>\n",
       "    <tr>\n",
       "      <th>4</th>\n",
       "      <td>130701444</td>\n",
       "      <td>2780031656</td>\n",
       "      <td>0.456387</td>\n",
       "    </tr>\n",
       "  </tbody>\n",
       "</table>\n",
       "</div>"
      ],
      "text/plain": [
       "   AffiliationId  FieldOfStudyId     score\n",
       "0      130701444        76155785  0.431343\n",
       "1      130701444       127413603  0.411168\n",
       "2      130701444      2776398702  0.401332\n",
       "3      130701444      2777683733  0.449975\n",
       "4      130701444      2780031656  0.456387"
      ]
     },
     "execution_count": 348,
     "metadata": {},
     "output_type": "execute_result"
    }
   ],
   "source": [
    "concepts_affiliations.head()"
   ]
  },
  {
   "cell_type": "code",
   "execution_count": 349,
   "metadata": {},
   "outputs": [
    {
     "name": "stdout",
     "output_type": "stream",
     "text": [
      "(20265, 3)\n",
      "(15599, 3)\n"
     ]
    }
   ],
   "source": [
    "print(concepts_affiliations.shape)\n",
    "print(concepts_affiliations.drop_duplicates(subset=[\"AffiliationId\", \"FieldOfStudyId\"]).shape)"
   ]
  },
  {
   "cell_type": "markdown",
   "metadata": {},
   "source": [
    "### Todo\n",
    "\n",
    "- For author topics: what is Papers? do we need to divide the score by the number of papers?\n",
    "- for concepts_affiliations: there are duplicated combinations of affiliationid - field of study id. why? -- fix!\n"
   ]
  },
  {
   "cell_type": "code",
   "execution_count": null,
   "metadata": {},
   "outputs": [],
   "source": []
  },
  {
   "cell_type": "code",
   "execution_count": null,
   "metadata": {},
   "outputs": [],
   "source": []
  },
  {
   "cell_type": "code",
   "execution_count": 222,
   "metadata": {},
   "outputs": [
    {
     "name": "stdout",
     "output_type": "stream",
     "text": [
      "[0.01570766 0.05122679 0.04998062 0.04795064 0.04539933]\n",
      "0.21026503465070345\n",
      "[35.24105443  4.5981613   4.54200434  4.44866153  4.32887456]\n"
     ]
    }
   ],
   "source": []
  },
  {
   "cell_type": "code",
   "execution_count": 226,
   "metadata": {},
   "outputs": [
    {
     "name": "stdout",
     "output_type": "stream",
     "text": [
      "Sparse matrix shape: (4, 5)\n",
      "Number of non-zero elements: 6\n",
      "Identifier to index mapping: {'A': 0, 'B': 1, 'C': 2, 'D': 3}\n",
      "Fields: ['f1', 'f2', 'f3', 'f4', 'f5']\n",
      "\n",
      "Dense matrix:\n",
      "[[1. 2. 0. 0. 0.]\n",
      " [0. 0. 3. 0. 0.]\n",
      " [4. 0. 0. 5. 0.]\n",
      " [0. 6. 0. 0. 0.]]\n"
     ]
    }
   ],
   "source": [
    "import pandas as pd\n",
    "import numpy as np\n",
    "from scipy.sparse import csr_matrix\n",
    "\n",
    "def create_sparse_matrix(df, field_to_id_map):\n",
    "    \"\"\"\n",
    "    Create a sparse matrix from a DataFrame and a field-to-identifier mapping.\n",
    "    \n",
    "    Parameters:\n",
    "    df (pd.DataFrame): DataFrame with columns ['identifier', 'field', 'score']\n",
    "    field_to_id_map (dict): Mapping from field to identifier\n",
    "    \n",
    "    Returns:\n",
    "    scipy.sparse.csr_matrix: The resulting sparse matrix\n",
    "    dict: Mapping from original identifiers to matrix row indices\n",
    "    list: List of fields corresponding to matrix columns\n",
    "    \"\"\"\n",
    "    # Create mappings for identifiers and fields to indices\n",
    "    unique_identifiers = df['identifier'].unique()\n",
    "    id_to_index = {id: index for index, id in enumerate(unique_identifiers)}\n",
    "    \n",
    "    fields = list(field_to_id_map.keys())\n",
    "    field_to_index = {field: index for index, field in enumerate(fields)}\n",
    "    \n",
    "    # Create vectorized mapping functions\n",
    "    id_map = np.vectorize(id_to_index.get)\n",
    "    field_map = np.vectorize(field_to_index.get)\n",
    "    \n",
    "    # Apply mappings\n",
    "    rows = id_map(df['identifier'].values)\n",
    "    cols = field_map(df['field'].values)\n",
    "    data = df['score'].values\n",
    "    \n",
    "    # Check for and remove any None values (fields not in the mapping)\n",
    "    mask = (rows != None) & (cols != None)\n",
    "    rows = rows[mask]\n",
    "    cols = cols[mask]\n",
    "    data = data[mask]\n",
    "    \n",
    "    # Convert to proper types\n",
    "    rows = rows.astype(int)\n",
    "    cols = cols.astype(int)\n",
    "    data = data.astype(float)\n",
    "    \n",
    "    # Create the sparse matrix\n",
    "    matrix = csr_matrix((data, (rows, cols)), shape=(len(unique_identifiers), len(fields)))\n",
    "    \n",
    "    return matrix, id_to_index, fields\n",
    "\n",
    "# Example usage:\n",
    "# Sample data\n",
    "data = {\n",
    "    'identifier': ['A', 'A', 'B', 'C', 'C', 'D'],\n",
    "    'field': ['f1', 'f2', 'f3', 'f1', 'f4', 'f2'],\n",
    "    'score': [1.0, 2.0, 3.0, 4.0, 5.0, 6.0]\n",
    "}\n",
    "df = pd.DataFrame(data)\n",
    "\n",
    "# Sample field-to-identifier mapping\n",
    "field_to_id_map = {'f1': 'F1', 'f2': 'F2', 'f3': 'F3', 'f4': 'F4', 'f5': 'F5'}\n",
    "\n",
    "# Create the sparse matrix\n",
    "sparse_matrix, id_to_index, fields = create_sparse_matrix(df, field_to_id_map)\n",
    "\n",
    "print(\"Sparse matrix shape:\", sparse_matrix.shape)\n",
    "print(\"Number of non-zero elements:\", sparse_matrix.nnz)\n",
    "print(\"Identifier to index mapping:\", id_to_index)\n",
    "print(\"Fields:\", fields)\n",
    "\n",
    "# Convert to dense matrix for viewing (be careful with large matrices!)\n",
    "dense_matrix = sparse_matrix.todense()\n",
    "print(\"\\nDense matrix:\")\n",
    "print(dense_matrix)"
   ]
  },
  {
   "cell_type": "code",
   "execution_count": 326,
   "metadata": {},
   "outputs": [
    {
     "data": {
      "text/plain": [
       "<Compressed Sparse Row sparse matrix of dtype 'float64'\n",
       "\twith 6 stored elements and shape (4, 5)>"
      ]
     },
     "execution_count": 326,
     "metadata": {},
     "output_type": "execute_result"
    }
   ],
   "source": [
    "sparse_matrix"
   ]
  },
  {
   "cell_type": "code",
   "execution_count": 327,
   "metadata": {},
   "outputs": [
    {
     "data": {
      "text/plain": [
       "(6, 3)"
      ]
     },
     "execution_count": 327,
     "metadata": {},
     "output_type": "execute_result"
    }
   ],
   "source": [
    "df.shape"
   ]
  },
  {
   "cell_type": "code",
   "execution_count": 329,
   "metadata": {},
   "outputs": [
    {
     "data": {
      "text/html": [
       "<div>\n",
       "<style scoped>\n",
       "    .dataframe tbody tr th:only-of-type {\n",
       "        vertical-align: middle;\n",
       "    }\n",
       "\n",
       "    .dataframe tbody tr th {\n",
       "        vertical-align: top;\n",
       "    }\n",
       "\n",
       "    .dataframe thead th {\n",
       "        text-align: right;\n",
       "    }\n",
       "</style>\n",
       "<table border=\"1\" class=\"dataframe\">\n",
       "  <thead>\n",
       "    <tr style=\"text-align: right;\">\n",
       "      <th></th>\n",
       "      <th>AffiliationId</th>\n",
       "      <th>FieldOfStudyId</th>\n",
       "      <th>score</th>\n",
       "    </tr>\n",
       "  </thead>\n",
       "  <tbody>\n",
       "    <tr>\n",
       "      <th>0</th>\n",
       "      <td>130701444</td>\n",
       "      <td>76155785</td>\n",
       "      <td>0.431343</td>\n",
       "    </tr>\n",
       "    <tr>\n",
       "      <th>1</th>\n",
       "      <td>130701444</td>\n",
       "      <td>127413603</td>\n",
       "      <td>0.411168</td>\n",
       "    </tr>\n",
       "    <tr>\n",
       "      <th>2</th>\n",
       "      <td>130701444</td>\n",
       "      <td>2776398702</td>\n",
       "      <td>0.401332</td>\n",
       "    </tr>\n",
       "    <tr>\n",
       "      <th>3</th>\n",
       "      <td>130701444</td>\n",
       "      <td>2777683733</td>\n",
       "      <td>0.449975</td>\n",
       "    </tr>\n",
       "    <tr>\n",
       "      <th>4</th>\n",
       "      <td>130701444</td>\n",
       "      <td>2780031656</td>\n",
       "      <td>0.456387</td>\n",
       "    </tr>\n",
       "  </tbody>\n",
       "</table>\n",
       "</div>"
      ],
      "text/plain": [
       "   AffiliationId  FieldOfStudyId     score\n",
       "0      130701444        76155785  0.431343\n",
       "1      130701444       127413603  0.411168\n",
       "2      130701444      2776398702  0.401332\n",
       "3      130701444      2777683733  0.449975\n",
       "4      130701444      2780031656  0.456387"
      ]
     },
     "execution_count": 329,
     "metadata": {},
     "output_type": "execute_result"
    }
   ],
   "source": [
    "concepts_affiliations.head()"
   ]
  },
  {
   "cell_type": "code",
   "execution_count": 335,
   "metadata": {},
   "outputs": [],
   "source": [
    "dk = concepts_affiliations.rename(columns={\"AffiliationId\": \"identifier\", \"FieldOfStudyId\": \"field\"})\n",
    "dk.head()\n",
    "sparse_matrix, id_to_index, fields = create_sparse_matrix(dk, field_to_index)"
   ]
  },
  {
   "cell_type": "code",
   "execution_count": 342,
   "metadata": {},
   "outputs": [
    {
     "data": {
      "text/plain": [
       "np.int64(15599)"
      ]
     },
     "execution_count": 342,
     "metadata": {},
     "output_type": "execute_result"
    }
   ],
   "source": [
    "(sparse_matrix != v_affiliations).sum()"
   ]
  },
  {
   "cell_type": "code",
   "execution_count": 343,
   "metadata": {},
   "outputs": [
    {
     "data": {
      "text/plain": [
       "<Compressed Sparse Row sparse matrix of dtype 'float64'\n",
       "\twith 15599 stored elements and shape (577, 137499)>"
      ]
     },
     "execution_count": 343,
     "metadata": {},
     "output_type": "execute_result"
    }
   ],
   "source": [
    "sparse_matrix"
   ]
  }
 ],
 "metadata": {
  "kernelspec": {
   "display_name": "Python 3 (ipykernel)",
   "language": "python",
   "name": "python3"
  },
  "language_info": {
   "codemirror_mode": {
    "name": "ipython",
    "version": 3
   },
   "file_extension": ".py",
   "mimetype": "text/x-python",
   "name": "python",
   "nbconvert_exporter": "python",
   "pygments_lexer": "ipython3",
   "version": "3.12.0"
  }
 },
 "nbformat": 4,
 "nbformat_minor": 4
}
