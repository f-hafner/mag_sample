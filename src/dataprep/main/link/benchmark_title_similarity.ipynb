{
 "cells": [
  {
   "cell_type": "code",
   "execution_count": 1,
   "metadata": {},
   "outputs": [],
   "source": [
    "from sklearn.feature_extraction.text import TfidfVectorizer\n",
    "from sklearn.metrics.pairwise import cosine_similarity\n",
    "\n",
    "import pandas as pd \n",
    "import numpy as np\n",
    "\n",
    "\n",
    "import matplotlib.pyplot as plt\n",
    "import matplotlib as mpl\n",
    "\n",
    "import sqlite3 as sqlite \n",
    "import math \n",
    "\n",
    "from src.dataprep.helpers.comparator_functions import text_comparator\n",
    "from src.dataprep.helpers.variables import db_file\n"
   ]
  },
  {
   "cell_type": "markdown",
   "metadata": {},
   "source": [
    "#### Overview\n",
    "- Motivation\n",
    "    - Because titles are short, we are not sure whether tfidf on the titles of scientific papers can detect links across authors\n",
    "    - So we build a benchmark by comparing true and fake links between authors in MAG\n",
    "- Approach\n",
    "    - Sample authors within mag field 0 and their first papers stored in `author_info_linking`\n",
    "    - Calculate true similarity\n",
    "        - Randomly split paper titles in two, calculate maximum similarity between two papers in the two corpuses\n",
    "    - Calculate fake similarity\n",
    "        - For each author, draw one of their papers\n",
    "        - Compare similarity to the paper titles of any of the other authors in the same population\n",
    "    - Compare similiarities across the samples\n"
   ]
  },
  {
   "cell_type": "markdown",
   "metadata": {},
   "source": [
    "Define functions"
   ]
  },
  {
   "cell_type": "code",
   "execution_count": 2,
   "metadata": {},
   "outputs": [],
   "source": [
    "def extract_titles(s):\n",
    "    s = s.split(\";\")\n",
    "    l = [x.split(\"//\")[1] for x in s]\n",
    "    return l\n",
    "\n",
    "def compare_random_split(rng, l):\n",
    "    \"Randomly split a list into 2 parts and apply text_comparator\"\n",
    "    if len(l) > 1:\n",
    "        rint = rng.integers(low=1, high=len(l), size=1)[0]\n",
    "        x = l[:rint]\n",
    "        y = l[rint:]\n",
    "        return text_comparator(x, y)\n",
    "    else:\n",
    "        return None\n",
    "\n",
    "def query_db(db_file, field):\n",
    "    query = f\"\"\"\n",
    "        select authorid, year_papertitle\n",
    "        from author_info_linking\n",
    "        inner join (\n",
    "            select authorid, fieldofstudyid\n",
    "            from author_fields\n",
    "            inner join (\n",
    "                select fieldofstudyid\n",
    "                from fieldsofstudy\n",
    "                where normalizedname = \"{field}\"\n",
    "            ) using(fieldofstudyid)\n",
    "            where fieldclass = \"main\"\n",
    "        ) using(authorid)\n",
    "        inner join (\n",
    "            select authorid\n",
    "            from author_sample\n",
    "            where yearfirstpub > 1990\n",
    "                and yearlastpub < 2020\n",
    "        ) using(authorid)\n",
    "        where main_us_institutions_career is not NULL\n",
    "        \"\"\"\n",
    "\n",
    "    con = sqlite.connect(db_file)\n",
    "    with con:\n",
    "        df = pd.read_sql(con=con, sql=query)\n",
    "\n",
    "    con.close()\n",
    "    return df\n",
    "\n",
    "\n",
    "def records_sample_to_dict(df, random_state, sample_size):\n",
    "    df[\"titles\"] = df.apply(lambda row: extract_titles(row[\"year_papertitle\"]), axis=1)\n",
    "    df[\"n_titles\"] = df.apply(lambda row: len(row[\"titles\"]), axis=1)\n",
    "    # take only first 5 papers -- the more there are, the more likely a high similarity by chance\n",
    "    df[\"titles\"] = df.apply(lambda row: row[\"titles\"][:5], axis=1)\n",
    "\n",
    "    dd = (df\n",
    "            .loc[df[\"n_titles\"] > 1, [\"AuthorId\", \"titles\"]]\n",
    "            .sample(n=sample_size, random_state=random_state)\n",
    "            .set_index(\"AuthorId\")\n",
    "            .to_dict(\"index\"))\n",
    "    dd = {k: v[\"titles\"] for k, v in dd.items()}\n",
    "    return dd"
   ]
  },
  {
   "cell_type": "code",
   "execution_count": 3,
   "metadata": {},
   "outputs": [],
   "source": [
    "\n",
    "\n",
    "def compare_true(records, rng):\n",
    "    \"Compare title similarity for a sample of records\"\n",
    "    result = {\n",
    "        k: compare_random_split(rng, v) for k, v in records.items()\n",
    "    }\n",
    "    df = pd.DataFrame.from_dict(result, orient=\"index\")\n",
    "    df = (df\n",
    "            .rename(columns={0: \"sim\"})\n",
    "            .reset_index()\n",
    "            .rename(columns={\"index\": \"AuthorId\"})\n",
    "            )\n",
    "    df[\"link\"] = \"true_link\"\n",
    "    return df\n"
   ]
  },
  {
   "cell_type": "code",
   "execution_count": 4,
   "metadata": {},
   "outputs": [],
   "source": [
    "\n",
    "def fake_similarity_one_record(sample, ref_id, rng):\n",
    "    \"\"\"\n",
    "    create a fake pair of papers:\n",
    "    - one doctitle from ref_id\n",
    "    - all doctitles from a randomly drawn other record in sample\n",
    "\n",
    "    Parameters:\n",
    "    sample: a dictionary where keys identify authors and values are lists of doc titles by this author\n",
    "    ref_id: reference author id\n",
    "    rng: random number generator (integers)\n",
    "    \"\"\"\n",
    "    set1 = sample[ref_id]\n",
    "    # print(set1)\n",
    "    if len(set1) > 1:\n",
    "        draw_text1 = rng.integers(low=1, high=len(set1), size=1)[0]\n",
    "        # print(draw_text1)\n",
    "        text1 = [set1[draw_text1]]\n",
    "    else:\n",
    "        text1 = set1\n",
    "\n",
    "    # print(text1)\n",
    "    candidates = [x for x in sample.keys() if x != ref_id]\n",
    "    draw_id2 = rng.integers(low=1, high=len(candidates), size=1)[0]\n",
    "    # print(f\"draw_set2 is {draw_id2}\")\n",
    "    id2 = candidates[draw_id2]\n",
    "    # print(f\"id2 is {id2}\")\n",
    "    set2 = sample[id2]\n",
    "    # print(set2)\n",
    "\n",
    "    return(text_comparator(set1, set2))\n",
    "\n",
    "\n",
    "def compare_fake(records, rng):\n",
    "    result = {\n",
    "        k: fake_similarity_one_record(records, k, rng) for k in records.keys()\n",
    "    }\n",
    "    df = pd.DataFrame.from_dict(result, orient=\"index\")\n",
    "    df = (df\n",
    "            .rename(columns={0: \"sim\"})\n",
    "            .reset_index()\n",
    "            .rename(columns={\"index\": \"AuthorId\"})\n",
    "            )\n",
    "    df[\"link\"] = \"fake_link\"\n",
    "    return df \n",
    "\n"
   ]
  },
  {
   "cell_type": "code",
   "execution_count": 5,
   "metadata": {},
   "outputs": [],
   "source": [
    "def benchmark_field(db_file, field, random_state=1, n=1000):\n",
    "    \"\"\"\n",
    "    Benchmark the name comparator for field\n",
    "    \n",
    "    Parameters\n",
    "    ----------\n",
    "    db_file: file to database\n",
    "    field: MAG field of study level 0\n",
    "    random_state: input to np random number generator\n",
    "    n: draw sample of n records from the population of researchers\n",
    "\n",
    "    Details\n",
    "    -------\n",
    "    The population of researchers is defined as\n",
    "    those with `field` as their main field ofstudy,\n",
    "    that start their careers between 1990 and 2020,\n",
    "    at least once work in the United States,\n",
    "    and publish at least two papers.\n",
    "    \"\"\"\n",
    "    rng = np.random.default_rng(random_state)\n",
    "\n",
    "    df = query_db(db_file, field)\n",
    "    sample = records_sample_to_dict(df, random_state=random_state, sample_size=n)\n",
    "    similarity_true = compare_true(records=sample, rng=rng)\n",
    "    similarity_fake = compare_fake(records=sample, rng=rng)\n",
    "\n",
    "    results = [\n",
    "        similarity_true,\n",
    "        similarity_fake\n",
    "    ]\n",
    "    results = pd.concat(results)\n",
    "    results[\"field\"] = field\n",
    "\n",
    "    return results\n",
    "\n",
    "\n"
   ]
  },
  {
   "cell_type": "code",
   "execution_count": 6,
   "metadata": {},
   "outputs": [],
   "source": [
    "\n",
    "results = []\n",
    "fields=[\"geology\", \"geography\", \"chemistry\",\n",
    "        \"sociology\", \"mathematics\",\n",
    "        \"biology\", \"computer science\", \"political science\",\n",
    "        \"engineering\", \"psychology\", \"environmental science\",\n",
    "        \"physics\", \"economics\"]\n",
    "\n",
    "n_authors = 1000\n",
    "\n",
    "for f in fields:\n",
    "    r = benchmark_field(db_file=db_file, field=f, random_state=2, n=n_authors)\n",
    "    results.append(r)\n",
    "\n",
    "results = pd.concat(results)"
   ]
  },
  {
   "cell_type": "code",
   "execution_count": 7,
   "metadata": {},
   "outputs": [
    {
     "data": {
      "text/html": [
       "<div>\n",
       "<style scoped>\n",
       "    .dataframe tbody tr th:only-of-type {\n",
       "        vertical-align: middle;\n",
       "    }\n",
       "\n",
       "    .dataframe tbody tr th {\n",
       "        vertical-align: top;\n",
       "    }\n",
       "\n",
       "    .dataframe thead th {\n",
       "        text-align: right;\n",
       "    }\n",
       "</style>\n",
       "<table border=\"1\" class=\"dataframe\">\n",
       "  <thead>\n",
       "    <tr style=\"text-align: right;\">\n",
       "      <th></th>\n",
       "      <th>AuthorId</th>\n",
       "      <th>sim</th>\n",
       "      <th>link</th>\n",
       "      <th>field</th>\n",
       "    </tr>\n",
       "  </thead>\n",
       "  <tbody>\n",
       "    <tr>\n",
       "      <th>0</th>\n",
       "      <td>2503703537</td>\n",
       "      <td>0.090597</td>\n",
       "      <td>true_link</td>\n",
       "      <td>geology</td>\n",
       "    </tr>\n",
       "    <tr>\n",
       "      <th>1</th>\n",
       "      <td>2144803850</td>\n",
       "      <td>0.056210</td>\n",
       "      <td>true_link</td>\n",
       "      <td>geology</td>\n",
       "    </tr>\n",
       "    <tr>\n",
       "      <th>2</th>\n",
       "      <td>2151828208</td>\n",
       "      <td>0.000000</td>\n",
       "      <td>true_link</td>\n",
       "      <td>geology</td>\n",
       "    </tr>\n",
       "    <tr>\n",
       "      <th>3</th>\n",
       "      <td>2116067800</td>\n",
       "      <td>0.123036</td>\n",
       "      <td>true_link</td>\n",
       "      <td>geology</td>\n",
       "    </tr>\n",
       "    <tr>\n",
       "      <th>4</th>\n",
       "      <td>2602164763</td>\n",
       "      <td>0.301137</td>\n",
       "      <td>true_link</td>\n",
       "      <td>geology</td>\n",
       "    </tr>\n",
       "  </tbody>\n",
       "</table>\n",
       "</div>"
      ],
      "text/plain": [
       "     AuthorId       sim       link    field\n",
       "0  2503703537  0.090597  true_link  geology\n",
       "1  2144803850  0.056210  true_link  geology\n",
       "2  2151828208  0.000000  true_link  geology\n",
       "3  2116067800  0.123036  true_link  geology\n",
       "4  2602164763  0.301137  true_link  geology"
      ]
     },
     "execution_count": 7,
     "metadata": {},
     "output_type": "execute_result"
    }
   ],
   "source": [
    "results.head()"
   ]
  },
  {
   "cell_type": "code",
   "execution_count": 8,
   "metadata": {},
   "outputs": [
    {
     "data": {
      "image/png": "[encoded data removed]",
      "text/plain": [
       "<Figure size 640x480 with 6 Axes>"
      ]
     },
     "metadata": {},
     "output_type": "display_data"
    }
   ],
   "source": [
    "\n",
    "\n",
    "fields = [\"physics\", \"chemistry\", \"computer science\", \"biology\", \"psychology\", \"mathematics\"]\n",
    "n_fields = len(fields)\n",
    "n_rows = 2\n",
    "n_cols = math.ceil(n_fields/n_rows)\n",
    "\n",
    "\n",
    "fig, axs = plt.subplots(n_rows, n_cols, sharey=True, sharex=True,  tight_layout=True)\n",
    "nbins = 20\n",
    "\n",
    "row = 0\n",
    "col = 0\n",
    "with mpl.rc_context({\"lines.linewidth\": 1}):\n",
    "    for i in range(n_fields):\n",
    "        #print(f\"(col, row) are ({col}, {row})\")\n",
    "        f = fields[i]\n",
    "        data = results.loc[results[\"field\"] == f, :]\n",
    "        groups = data[\"link\"].unique()\n",
    "        x = [data.loc[data[\"link\"] == g, \"sim\"] for g in groups]\n",
    "        medians = [np.median(i) for i in x]\n",
    "        axs[row, col].hist(x, bins=nbins, label=groups, density=True)\n",
    "        axs[row, col].title.set_text(f)\n",
    "        #axs[row, col].vlines(x=medians, ymin=0, ymax=20, linestyles=\"dashed\", label=groups)\n",
    "        # update col, row for next plot\n",
    "        col += 1\n",
    "        if col >= n_cols:\n",
    "            row += 1\n",
    "            col = 0\n",
    "\n",
    "\n",
    "plt.show()\n",
    "\n"
   ]
  },
  {
   "cell_type": "code",
   "execution_count": 9,
   "metadata": {},
   "outputs": [
    {
     "data": {
      "text/html": [
       "<div>\n",
       "<style scoped>\n",
       "    .dataframe tbody tr th:only-of-type {\n",
       "        vertical-align: middle;\n",
       "    }\n",
       "\n",
       "    .dataframe tbody tr th {\n",
       "        vertical-align: top;\n",
       "    }\n",
       "\n",
       "    .dataframe thead th {\n",
       "        text-align: right;\n",
       "    }\n",
       "</style>\n",
       "<table border=\"1\" class=\"dataframe\">\n",
       "  <thead>\n",
       "    <tr style=\"text-align: right;\">\n",
       "      <th></th>\n",
       "      <th>field</th>\n",
       "      <th>link</th>\n",
       "      <th>variable</th>\n",
       "      <th>value</th>\n",
       "    </tr>\n",
       "  </thead>\n",
       "  <tbody>\n",
       "    <tr>\n",
       "      <th>0</th>\n",
       "      <td>biology</td>\n",
       "      <td>fake_link</td>\n",
       "      <td>mean</td>\n",
       "      <td>0.026346</td>\n",
       "    </tr>\n",
       "    <tr>\n",
       "      <th>1</th>\n",
       "      <td>biology</td>\n",
       "      <td>true_link</td>\n",
       "      <td>mean</td>\n",
       "      <td>0.140574</td>\n",
       "    </tr>\n",
       "    <tr>\n",
       "      <th>2</th>\n",
       "      <td>chemistry</td>\n",
       "      <td>fake_link</td>\n",
       "      <td>mean</td>\n",
       "      <td>0.023841</td>\n",
       "    </tr>\n",
       "    <tr>\n",
       "      <th>3</th>\n",
       "      <td>chemistry</td>\n",
       "      <td>true_link</td>\n",
       "      <td>mean</td>\n",
       "      <td>0.155825</td>\n",
       "    </tr>\n",
       "    <tr>\n",
       "      <th>4</th>\n",
       "      <td>computer science</td>\n",
       "      <td>fake_link</td>\n",
       "      <td>mean</td>\n",
       "      <td>0.030321</td>\n",
       "    </tr>\n",
       "  </tbody>\n",
       "</table>\n",
       "</div>"
      ],
      "text/plain": [
       "              field       link variable     value\n",
       "0           biology  fake_link     mean  0.026346\n",
       "1           biology  true_link     mean  0.140574\n",
       "2         chemistry  fake_link     mean  0.023841\n",
       "3         chemistry  true_link     mean  0.155825\n",
       "4  computer science  fake_link     mean  0.030321"
      ]
     },
     "execution_count": 9,
     "metadata": {},
     "output_type": "execute_result"
    }
   ],
   "source": [
    "results.head()\n",
    "\n",
    "aggstat = (results\n",
    "            .groupby([\"field\", \"link\"])\n",
    "            .agg(mean=(\"sim\", np.mean),\n",
    "                 median=(\"sim\", np.median),\n",
    "                 sd=(\"sim\", np.std)\n",
    "                 )\n",
    "            .reset_index()\n",
    "            .melt(\n",
    "               id_vars=[\"field\", \"link\"],\n",
    "               value_vars=[\"mean\", \"median\", \"sd\"]\n",
    "            )\n",
    "            )\n",
    "\n",
    "aggstat.head()"
   ]
  },
  {
   "cell_type": "code",
   "execution_count": 10,
   "metadata": {},
   "outputs": [
    {
     "data": {
      "image/png": "[encoded data removed]",
      "text/plain": [
       "<Figure size 640x480 with 1 Axes>"
      ]
     },
     "metadata": {},
     "output_type": "display_data"
    },
    {
     "data": {
      "image/png": "[encoded data removed]",
      "text/plain": [
       "<Figure size 640x480 with 1 Axes>"
      ]
     },
     "metadata": {},
     "output_type": "display_data"
    }
   ],
   "source": [
    "\n",
    "fields = [\"physics\", \"chemistry\", \"computer science\", \"biology\", \"psychology\", \"mathematics\"]\n",
    "#fields = [\"sociology\", \"economics\", \"psychology\", \"political science\"] # seems to do worse on social sciences\n",
    "\n",
    "keep_stats = [\"median\", \"mean\"]\n",
    "\n",
    "for stat in keep_stats:\n",
    "        mask = (aggstat.variable == stat) \\\n",
    "                & (aggstat.field.isin(fields))\n",
    "\n",
    "        d = aggstat.loc[mask, :].copy()\n",
    "        d[\"field\"] = np.where(d[\"field\"] == \"computer science\", \"compsci\", d.loc[:, \"field\"])\n",
    "\n",
    "        true_means = list(d.loc[d.link == \"true_link\", \"value\"])\n",
    "        fake_means = list(d.loc[d.link == \"fake_link\", \"value\"])\n",
    "        labels = list(d.field.unique())\n",
    "\n",
    "        x = np.arange(len(labels)) # the label locations\n",
    "        width = 0.35\n",
    "\n",
    "        fig, ax = plt.subplots()\n",
    "        rects1 = ax.bar(x - width/2, true_means, width, label='True')\n",
    "        rects2 = ax.bar(x + width/2, fake_means, width, label='Fake')\n",
    "\n",
    "        # Add some text for labels, title and custom x-axis tick labels, etc.\n",
    "        ax.set_ylabel(stat)\n",
    "        ax.set_title(f'{stat} title similarity for true and fake author pairs')\n",
    "        ax.set_xticks(x, labels)\n",
    "        ax.legend()\n",
    "        \n",
    "        fig.tight_layout()      \n",
    "\n",
    "        plt.show()\n"
   ]
  },
  {
   "cell_type": "code",
   "execution_count": 11,
   "metadata": {},
   "outputs": [
    {
     "data": {
      "text/plain": [
       "count    13.000000\n",
       "mean      0.164677\n",
       "std       0.023518\n",
       "min       0.126357\n",
       "25%       0.146577\n",
       "50%       0.152290\n",
       "75%       0.192390\n",
       "max       0.196659\n",
       "Name: value, dtype: float64"
      ]
     },
     "execution_count": 11,
     "metadata": {},
     "output_type": "execute_result"
    }
   ],
   "source": [
    "mask = (aggstat[\"link\"] == \"true_link\") & (aggstat[\"variable\"] == \"sd\")\n",
    "aggstat.loc[mask, \"value\"].describe()"
   ]
  },
  {
   "cell_type": "markdown",
   "metadata": {},
   "source": [
    "Comments\n",
    "- There is a lot of noise in the true sample \n",
    "    - How can we increase precision?\n",
    "    - Can we reduce the mean in the fake sample by adding more stop words?\n",
    "- How representative is this of the problem of theses to publications?\n",
    "    - we only use few papers from beginning; and authors may be working on two topics that do not have many words in common\n"
   ]
  },
  {
   "cell_type": "code",
   "execution_count": 12,
   "metadata": {},
   "outputs": [
    {
     "name": "stdout",
     "output_type": "stream",
     "text": [
      "['progesterone receptor isoforms a and b temporal and spatial differences in expression during murine mammary gland development', 'progestins and breast cancer', 'differential hormonal regulation and function of progesterone receptor isoforms in normal adult mouse mammary gland', 'progesterone receptor isoforms and proliferation in the rat mammary gland during development', 'progesterone receptor isoform functions in normal breast development and breast cancer']\n",
      "[[1.         0.         0.17116456 0.29414288 0.14096145]\n",
      " [0.         1.         0.         0.         0.374278  ]\n",
      " [0.17116456 0.         1.         0.21267662 0.19887646]\n",
      " [0.29414288 0.         0.21267662 1.         0.17514844]\n",
      " [0.14096145 0.374278   0.19887646 0.17514844 1.        ]]\n",
      "[[1.         0.09361234 0.28279756 0.4905356  0.22153608]\n",
      " [0.09361234 1.         0.04475981 0.05547573 0.4994145 ]\n",
      " [0.28279756 0.04475981 1.         0.30752228 0.20903453]\n",
      " [0.4905356  0.05547573 0.30752228 1.         0.2304273 ]\n",
      " [0.22153608 0.4994145  0.20903453 0.2304273  1.        ]]\n"
     ]
    }
   ],
   "source": [
    "\n",
    "from src.dataprep.helpers.comparator_functions import stemmed_words\n",
    "\n",
    "doc = \"progesterone receptor isoforms a and b temporal and spatial differences in expression during murine mammary gland development\"\n",
    "stemmed_words(doc)\n",
    "\n",
    "\n",
    "# stem_vectorizer = CountVectorizer(analyzer=stemmed_words)\n",
    "# print(stem_vectorizer.fit_transform(['automorphisms of the nottingham group']))\n",
    "# print(stem_vectorizer.get_feature_names())\n",
    "\n",
    "\n",
    "Vectorizer = TfidfVectorizer(\n",
    "    analyzer=stemmed_words\n",
    "    )\n",
    "corpus = [\"progesterone receptor isoforms a and b temporal and spatial differences in expression during murine mammary gland development\",\n",
    "            \"progestins and breast cancer\", \n",
    "            \"differential hormonal regulation and function of progesterone receptor isoforms in normal adult mouse mammary gland\",\n",
    "            \"progesterone receptor isoforms and proliferation in the rat mammary gland during development\",\n",
    "            \"progesterone receptor isoform functions in normal breast development and breast cancer\"]\n",
    "\n",
    "\n",
    "tfidf = Vectorizer.fit_transform(corpus)\n",
    "pairwise_similarity = tfidf * tfidf.T\n",
    "similarity = pairwise_similarity.toarray()\n",
    "print(corpus)\n",
    "print(similarity)\n",
    "\n",
    "Vectorizer = TfidfVectorizer()\n",
    "tfidf = Vectorizer.fit_transform(corpus)\n",
    "pairwise_similarity = tfidf * tfidf.T\n",
    "similarity = pairwise_similarity.toarray()\n",
    "print(similarity)"
   ]
  },
  {
   "cell_type": "code",
   "execution_count": 5,
   "metadata": {},
   "outputs": [
    {
     "data": {
      "text/plain": [
       "0.1683975003721528"
      ]
     },
     "execution_count": 5,
     "metadata": {},
     "output_type": "execute_result"
    }
   ],
   "source": [
    "\n",
    "a = ['sliding toward the free market shifting political coalitions and u s agricultural policy 1945 1975']\n",
    "b = ['welcome to the free market class bases of united states agricultural policy 1938 1996']\n",
    "text_comparator(a, b)"
   ]
  }
 ],
 "metadata": {
  "kernelspec": {
   "display_name": "Python 3.9.0 ('science-career-tempenv')",
   "language": "python",
   "name": "python3"
  },
  "language_info": {
   "codemirror_mode": {
    "name": "ipython",
    "version": 3
   },
   "file_extension": ".py",
   "mimetype": "text/x-python",
   "name": "python",
   "nbconvert_exporter": "python",
   "pygments_lexer": "ipython3",
   "version": "3.9.0"
  },
  "orig_nbformat": 4,
  "vscode": {
   "interpreter": {
    "hash": "01d47e42c9ce3af19e9317e83b2ca6d34d34fc45133e73ebcfed26242cbdd057"
   }
  }
 },
 "nbformat": 4,
 "nbformat_minor": 2
}
