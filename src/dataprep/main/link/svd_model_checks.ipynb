{
 "cells": [
  {
   "cell_type": "code",
   "execution_count": 65,
   "id": "833d6a84-5a2e-4c8a-8b29-9b1c60bd1a20",
   "metadata": {},
   "outputs": [],
   "source": [
    "import os\n",
    "import sqlite3 as sqlite\n",
    "import numpy as np\n",
    "import pandas as pd\n",
    "import pickle\n",
    "import scipy\n",
    "import matplotlib.pyplot as plt"
   ]
  },
  {
   "cell_type": "markdown",
   "id": "a4ec8c51-8e98-4cdc-b711-2f9e91e54cf7",
   "metadata": {},
   "source": [
    "This notebook works when starting like this:\n",
    "```bash\n",
    "cd mag_sample\n",
    "conda activate science-career-tempenv\n",
    "env PYTHONPATH=/absolute/path/to/mag_sample/src/dataprep/ juptyer-lab --no-browser\n",
    "```\n",
    "\n",
    "or probably with VS code"
   ]
  },
  {
   "cell_type": "markdown",
   "id": "66f7cd79-a4d8-47d5-9362-8c0ce7ed4448",
   "metadata": {},
   "source": [
    "### Load data"
   ]
  },
  {
   "cell_type": "code",
   "execution_count": 3,
   "id": "dcb5545c-8438-4d6e-9248-e4efead1d2ee",
   "metadata": {},
   "outputs": [],
   "source": [
    "from main.link.fit_svd_model import MODEL_URL, make_sparse, run_svd\n",
    "from helpers.variables import db_file\n",
    "max_level = 2"
   ]
  },
  {
   "cell_type": "code",
   "execution_count": 4,
   "id": "2624c1e0-8631-47f3-8288-7b8d77d42fdb",
   "metadata": {},
   "outputs": [],
   "source": [
    "sqlite.register_adapter(np.int64, lambda val: int(val))\n",
    "con = sqlite.connect(database=db_file, isolation_level=None)"
   ]
  },
  {
   "cell_type": "code",
   "execution_count": 13,
   "id": "83307afe-40ba-47c6-8e6f-d458e0cccae7",
   "metadata": {},
   "outputs": [],
   "source": [
    "with open(MODEL_URL + \".pkl\", \"rb\") as f:\n",
    "    svd_model = pickle.load(f)"
   ]
  },
  {
   "cell_type": "code",
   "execution_count": 5,
   "id": "a0b71cc1-67eb-4b73-b276-d8aaef11e3ad",
   "metadata": {},
   "outputs": [
    {
     "data": {
      "text/plain": [
       "<sqlite3.Cursor at 0x71daf1f31e30>"
      ]
     },
     "execution_count": 5,
     "metadata": {},
     "output_type": "execute_result"
    }
   ],
   "source": [
    "con.execute(\n",
    "        \"\"\"CREATE TEMP TABLE fields_to_max_level AS\n",
    "        SELECT FieldOfStudyId\n",
    "        FROM FieldsOfStudy\n",
    "        WHERE Level > 0 AND Level <= (?)\n",
    "        \"\"\"\n",
    "        , (max_level,)\n",
    "        )\n",
    "con.execute(\"CREATE UNIQUE INDEX idx_temp1 ON fields_to_max_level(FieldOfStudyId ASC)\") # TODO: need to query this without overwriting the table `valid_papers`"
   ]
  },
  {
   "cell_type": "code",
   "execution_count": null,
   "id": "6a1c436b-895b-4942-8df2-8afd0b39d0d0",
   "metadata": {},
   "outputs": [],
   "source": []
  },
  {
   "cell_type": "code",
   "execution_count": 17,
   "id": "98f86419-a0c3-4c5d-bb99-a07a8a3ba999",
   "metadata": {},
   "outputs": [],
   "source": [
    "sql_papers = \"\"\"\n",
    "SELECT PaperId, FieldOfStudyId, Score\n",
    "FROM PaperFieldsOfStudy\n",
    "INNER JOIN (\n",
    "    SElECT PaperId\n",
    "    FROM valid_papers\n",
    "    ORDER BY RANDOM()\n",
    "    LIMIT 10000\n",
    ")\n",
    "USING (PaperId)\n",
    "INNER JOIN fields_to_max_level USING(FieldOfStudyId)\n",
    "\"\"\""
   ]
  },
  {
   "cell_type": "code",
   "execution_count": 18,
   "id": "9d764fb0-f339-4749-b7b4-a70c258448af",
   "metadata": {},
   "outputs": [],
   "source": [
    "papers_concepts = pd.read_sql(sql_papers, con)"
   ]
  },
  {
   "cell_type": "code",
   "execution_count": 99,
   "id": "7201079b-ce6f-48af-80c6-d8dd6db995db",
   "metadata": {},
   "outputs": [
    {
     "data": {
      "text/plain": [
       "9192"
      ]
     },
     "execution_count": 99,
     "metadata": {},
     "output_type": "execute_result"
    }
   ],
   "source": [
    "papers_concepts[\"PaperId\"].nunique()"
   ]
  },
  {
   "cell_type": "code",
   "execution_count": 100,
   "id": "9ab9e65f-03d6-4233-8862-3a9cc0b81b37",
   "metadata": {},
   "outputs": [],
   "source": [
    "assert papers_concepts.drop_duplicates(subset=[\"PaperId\", \"FieldOfStudyId\"]).shape == papers_concepts.shape"
   ]
  },
  {
   "cell_type": "code",
   "execution_count": 101,
   "id": "51c0bf96-2add-46a5-95b8-f20234ece603",
   "metadata": {},
   "outputs": [],
   "source": [
    "fields_of_study = pd.read_sql(\"SELECT * FROM fields_to_max_level ORDER BY FieldOfStudyId\", con=con) # TODO: refactor this; add it do the function that loads the data?"
   ]
  },
  {
   "cell_type": "code",
   "execution_count": 20,
   "id": "5ab6d4fc-c522-4b9b-b850-96f63f8fe1ef",
   "metadata": {},
   "outputs": [],
   "source": [
    "field_to_index = {id: index for index, id in enumerate(fields_of_study['FieldOfStudyId'].unique())}\n"
   ]
  },
  {
   "cell_type": "markdown",
   "id": "824527c8-5f2f-4d4e-8880-baba1ef2fb6f",
   "metadata": {},
   "source": [
    "### Compute embeddings"
   ]
  },
  {
   "cell_type": "code",
   "execution_count": 49,
   "id": "4b1d8545-1bf9-4735-a358-88035637809c",
   "metadata": {},
   "outputs": [
    {
     "name": "stdout",
     "output_type": "stream",
     "text": [
      "(46398,)\n",
      "<9192x137480 sparse matrix of type '<class 'numpy.float64'>'\n",
      "\twith 46398 stored elements in Compressed Sparse Row format>\n",
      "Original matrix shape: (9192, 137480)\n",
      "Reduced matrix shape: (9192, 1024)\n",
      "Explained variance ratio: 0.5472\n"
     ]
    }
   ],
   "source": [
    "papers_concepts_sparse, row_to_index = make_sparse(\n",
    "    papers_concepts, field_to_index, \"PaperId\", \"FieldOfStudyId\", \"Score\")\n",
    "\n",
    "svd, embs = run_svd(papers_concepts_sparse, 1024, svd_model) # TODO: need to refactor! n_components not necessary! also don't print out the fitting stats when just transforming"
   ]
  },
  {
   "cell_type": "code",
   "execution_count": 22,
   "id": "223e9715-46df-4188-abd2-5478fa92e19b",
   "metadata": {},
   "outputs": [
    {
     "data": {
      "text/plain": [
       "(9192, 1024)"
      ]
     },
     "execution_count": 22,
     "metadata": {},
     "output_type": "execute_result"
    }
   ],
   "source": [
    "embs.shape"
   ]
  },
  {
   "cell_type": "code",
   "execution_count": 70,
   "id": "6349abd8-cf5d-46bf-991d-a537b2d7694a",
   "metadata": {},
   "outputs": [
    {
     "data": {
      "text/plain": [
       "0.8257507897916694"
      ]
     },
     "execution_count": 70,
     "metadata": {},
     "output_type": "execute_result"
    }
   ],
   "source": [
    "embs.max()"
   ]
  },
  {
   "cell_type": "code",
   "execution_count": 96,
   "id": "20a3fc7e-912f-4ded-a067-65b4b1f3196d",
   "metadata": {},
   "outputs": [],
   "source": [
    "papers_concepts.head()\n",
    "paper_ids = papers_concepts[\"PaperId\"].unique()\n"
   ]
  },
  {
   "cell_type": "markdown",
   "id": "61e4d170-e67d-4911-817f-d756ee7f5602",
   "metadata": {},
   "source": [
    "### Sanity checks"
   ]
  },
  {
   "cell_type": "markdown",
   "id": "06c073a9-266b-441e-881f-84ceb7f7168f",
   "metadata": {},
   "source": [
    "#### KNN classification check"
   ]
  },
  {
   "cell_type": "code",
   "execution_count": 44,
   "id": "97a052b2-aa1b-497b-b523-ccf19b7f690e",
   "metadata": {},
   "outputs": [],
   "source": [
    "q_paper_id = [x for x in paper_ids]\n",
    "qmarks_paper_id = \",\".join([\"?\" for _ in paper_ids])"
   ]
  },
  {
   "cell_type": "code",
   "execution_count": 40,
   "id": "7752c168-068e-4d8c-9fa6-5a6274e5005f",
   "metadata": {},
   "outputs": [],
   "source": [
    "sql_main_field = f\"\"\"\n",
    "SELECT PaperId, Field0\n",
    "FROM PaperMainFieldsOfStudy\n",
    "WHERE PaperId IN ({qmarks_paper_id})\"\"\""
   ]
  },
  {
   "cell_type": "code",
   "execution_count": 45,
   "id": "568b2672-c38d-45f9-b01e-5b92261df4f9",
   "metadata": {},
   "outputs": [],
   "source": [
    "papers_main_field = pd.read_sql(sql_main_field, con, params=q_paper_id)"
   ]
  },
  {
   "cell_type": "code",
   "execution_count": 46,
   "id": "ff71b27b-fdff-44a1-8d8c-926f33020a25",
   "metadata": {},
   "outputs": [
    {
     "data": {
      "text/html": [
       "<div>\n",
       "<style scoped>\n",
       "    .dataframe tbody tr th:only-of-type {\n",
       "        vertical-align: middle;\n",
       "    }\n",
       "\n",
       "    .dataframe tbody tr th {\n",
       "        vertical-align: top;\n",
       "    }\n",
       "\n",
       "    .dataframe thead th {\n",
       "        text-align: right;\n",
       "    }\n",
       "</style>\n",
       "<table border=\"1\" class=\"dataframe\">\n",
       "  <thead>\n",
       "    <tr style=\"text-align: right;\">\n",
       "      <th></th>\n",
       "      <th>PaperId</th>\n",
       "      <th>Field0</th>\n",
       "    </tr>\n",
       "  </thead>\n",
       "  <tbody>\n",
       "    <tr>\n",
       "      <th>0</th>\n",
       "      <td>600888</td>\n",
       "      <td>144024400</td>\n",
       "    </tr>\n",
       "    <tr>\n",
       "      <th>1</th>\n",
       "      <td>1788564</td>\n",
       "      <td>41008148</td>\n",
       "    </tr>\n",
       "    <tr>\n",
       "      <th>2</th>\n",
       "      <td>2021061</td>\n",
       "      <td>185592680</td>\n",
       "    </tr>\n",
       "    <tr>\n",
       "      <th>3</th>\n",
       "      <td>3019212</td>\n",
       "      <td>144133560</td>\n",
       "    </tr>\n",
       "    <tr>\n",
       "      <th>4</th>\n",
       "      <td>3035123</td>\n",
       "      <td>71924100</td>\n",
       "    </tr>\n",
       "  </tbody>\n",
       "</table>\n",
       "</div>"
      ],
      "text/plain": [
       "   PaperId     Field0\n",
       "0   600888  144024400\n",
       "1  1788564   41008148\n",
       "2  2021061  185592680\n",
       "3  3019212  144133560\n",
       "4  3035123   71924100"
      ]
     },
     "execution_count": 46,
     "metadata": {},
     "output_type": "execute_result"
    }
   ],
   "source": [
    "papers_main_field.head()"
   ]
  },
  {
   "cell_type": "code",
   "execution_count": 54,
   "id": "b6eea030-72ce-43e3-a357-52168e0d42ed",
   "metadata": {},
   "outputs": [],
   "source": [
    "labels = papers_main_field[\"Field0\"].values\n",
    "paper_ids = papers_main_field[\"PaperId\"].values\n",
    "x_full = []\n",
    "x_reduced = []\n"
   ]
  },
  {
   "cell_type": "code",
   "execution_count": 55,
   "id": "570f563f-b29e-42e1-929d-4b7deaca531c",
   "metadata": {},
   "outputs": [],
   "source": [
    "for paperid in paper_ids:\n",
    "    row_index = row_to_index[paperid]\n",
    "    x_full.append(papers_fields_sparse[row_index, :])\n",
    "    x_reduced.append(embs[row_index, :])"
   ]
  },
  {
   "cell_type": "code",
   "execution_count": 56,
   "id": "3a2d1fba-258b-47ea-b713-ccfeb9bf9d0c",
   "metadata": {},
   "outputs": [],
   "source": [
    "x_full = scipy.sparse.vstack(x_full)\n",
    "x_reduced = np.array(x_reduced)"
   ]
  },
  {
   "cell_type": "code",
   "execution_count": 58,
   "id": "e4020623-5262-4635-b646-2540706892eb",
   "metadata": {},
   "outputs": [],
   "source": [
    "from sklearn.neighbors import KNeighborsClassifier\n",
    "from sklearn.model_selection import cross_val_score\n"
   ]
  },
  {
   "cell_type": "code",
   "execution_count": 59,
   "id": "ca8bf737-1dc5-43f0-8fe1-6499706420de",
   "metadata": {},
   "outputs": [],
   "source": [
    "n_neighbors = 50\n",
    "neigh = KNeighborsClassifier(n_neighbors=n_neighbors)\n",
    "# neigh_reduced = KNeighborsClassifier(n_neighbors=n_neighbors)"
   ]
  },
  {
   "cell_type": "code",
   "execution_count": 103,
   "id": "e7605011-dfff-4e02-ad70-e6826fbbcc94",
   "metadata": {},
   "outputs": [
    {
     "name": "stdout",
     "output_type": "stream",
     "text": [
      "cv scores on full dataset: [0.39151713 0.43393148 0.45375408 0.35908596 0.35418934]\n"
     ]
    }
   ],
   "source": [
    "scores = cross_val_score(neigh, x_full, labels, cv=5)\n",
    "print(f\"cv scores on full dataset: {scores}\")"
   ]
  },
  {
   "cell_type": "code",
   "execution_count": 104,
   "id": "f5486302-b35e-4f91-b34f-77db79270921",
   "metadata": {},
   "outputs": [
    {
     "name": "stdout",
     "output_type": "stream",
     "text": [
      "cv scores on reduced dataset: [0.66122893 0.66231648 0.66322089 0.60718172 0.6523395 ]\n"
     ]
    }
   ],
   "source": [
    "scores = cross_val_score(neigh, x_reduced, labels, cv=5)\n",
    "print(f\"cv scores on reduced dataset: {scores}\")"
   ]
  },
  {
   "cell_type": "markdown",
   "id": "14954f2d-8e3b-47d8-a656-d92ee022b8b9",
   "metadata": {},
   "source": [
    "#### Cosine similarity check"
   ]
  },
  {
   "cell_type": "code",
   "execution_count": 81,
   "id": "34e64b6d-cdfb-4834-b610-1a00a89b4628",
   "metadata": {},
   "outputs": [],
   "source": [
    "def cosine_similarity(m, i, j):\n",
    "    a = m[i]\n",
    "    b = m[j]\n",
    "    ab = (a @ b.T)\n",
    "    if isinstance(ab, scipy.sparse._csr.csr_matrix):\n",
    "        ab = ab.toarray()\n",
    "        a = a.toarray()\n",
    "        b = b.toarray()\n",
    "\n",
    "    denominator = (np.power(a, 2).sum() * np.power(b, 2).sum() + 0.001)\n",
    "    denominator = np.sqrt(denominator)\n",
    "    return ab / denominator\n"
   ]
  },
  {
   "cell_type": "code",
   "execution_count": 85,
   "id": "2456ce2f-b7d9-42db-b3d0-379093a2d827",
   "metadata": {},
   "outputs": [],
   "source": [
    "n = 5000\n",
    "sim_full = []\n",
    "sim_reduced = []\n",
    "for _ in range(n):\n",
    "    n_vectors = papers_fields_sparse.shape[0]\n",
    "    i, j = np.random.choice(np.arange(n_vectors), 2)\n",
    "    while i == j:\n",
    "        i, j = np.random.choice(np.arange(n_vectors), 2)\n",
    "    sim = cosine_similarity(papers_fields_sparse, i, j)\n",
    "    sim_full.append(sim[0][0])\n",
    "    sim = cosine_similarity(embs, i, j)\n",
    "    sim_reduced.append(sim)\n",
    "\n",
    "sim_full = np.array(sim_full)\n",
    "sim_reduced = np.array(sim_reduced)\n",
    "    "
   ]
  },
  {
   "cell_type": "code",
   "execution_count": 90,
   "id": "0081cfed-e4ce-449a-b8b2-27053e290a60",
   "metadata": {},
   "outputs": [
    {
     "data": {
      "text/plain": [
       "0.0"
      ]
     },
     "execution_count": 90,
     "metadata": {},
     "output_type": "execute_result"
    }
   ],
   "source": [
    "np.abs(sim_full).min()\n",
    "np.abs(sim_reduced).min()"
   ]
  },
  {
   "cell_type": "code",
   "execution_count": null,
   "id": "9329d4fa-9d6e-4bff-99a1-cbdda666966a",
   "metadata": {},
   "outputs": [],
   "source": []
  },
  {
   "cell_type": "code",
   "execution_count": 88,
   "id": "7c4440b8-afb6-4f92-ae9e-abf8da04c8b3",
   "metadata": {},
   "outputs": [
    {
     "data": {
      "image/png": "[encoded data removed]",
      "text/plain": [
       "<Figure size 1000x600 with 1 Axes>"
      ]
     },
     "metadata": {},
     "output_type": "display_data"
    }
   ],
   "source": [
    "plt.figure(figsize=(10, 6))\n",
    "plt.hist(sim_full, bins=30, alpha=0.7, color='blue', label='Full')\n",
    "plt.hist(sim_reduced, bins=30, alpha=0.7, color='red', label='Reduced')\n",
    "# Customize the plot\n",
    "plt.title('Histogram of Two Arrays')\n",
    "plt.xlabel('Value')\n",
    "plt.ylabel('Frequency')\n",
    "\n",
    "# Add legend\n",
    "plt.legend()\n",
    "\n",
    "# Display the plot\n",
    "plt.show()\n"
   ]
  },
  {
   "cell_type": "code",
   "execution_count": null,
   "id": "6fcd0757-b98f-46ea-b105-110ef06ee336",
   "metadata": {},
   "outputs": [],
   "source": []
  },
  {
   "cell_type": "code",
   "execution_count": null,
   "id": "ac572d54-3bc9-4950-9eb0-810bd3f05b1f",
   "metadata": {},
   "outputs": [],
   "source": []
  }
 ],
 "metadata": {
  "kernelspec": {
   "display_name": "Python 3 (ipykernel)",
   "language": "python",
   "name": "python3"
  },
  "language_info": {
   "codemirror_mode": {
    "name": "ipython",
    "version": 3
   },
   "file_extension": ".py",
   "mimetype": "text/x-python",
   "name": "python",
   "nbconvert_exporter": "python",
   "pygments_lexer": "ipython3",
   "version": "3.9.19"
  }
 },
 "nbformat": 4,
 "nbformat_minor": 5
}
