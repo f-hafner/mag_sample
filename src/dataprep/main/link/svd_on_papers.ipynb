{
 "cells": [
  {
   "cell_type": "code",
   "execution_count": 229,
   "id": "431feb42-83be-4832-ab2e-4c9681939d15",
   "metadata": {},
   "outputs": [],
   "source": [
    "import ibis\n",
    "from ibis import _\n",
    "import matplotlib.pyplot as plt  \n",
    "import numpy as np \n",
    "import sqlite3 as sqlite\n",
    "import numpy as np                                                                                                                                                                          \n",
    "from scipy.sparse import csr_matrix                                                                                                                                                         \n",
    "from sklearn.decomposition import TruncatedSVD  \n",
    "import scipy"
   ]
  },
  {
   "cell_type": "code",
   "execution_count": 175,
   "id": "b247334c-ca18-4ae2-b674-285f3dbf15c6",
   "metadata": {},
   "outputs": [],
   "source": [
    "def make_sparse(long_df, field_to_index, rows=\"AffiliationId\", cols=\"FieldOfStudyId\", value_col=\"score\"): \n",
    "    # col = concepts_affiliations['AffiliationId']\n",
    "    # row = \n",
    "    \"\"\"Create sparse matrix from a dataframe.\n",
    "\n",
    "    Args:\n",
    "        col (np.ndarray): values for index 0 in the resulting sparse matrix\n",
    "        row (np.ndarray): values for index 1 in the resulting sparse matrix.\n",
    "        row_map: mapping of all possible row values to identifiers.\n",
    "        data: non-zero values to to fill the sparse matrix.  \n",
    "\n",
    "    Returns:\n",
    "    (sparse matrix, map from row IDs in dataframe to row index in the sparse matrix)\n",
    "    \"\"\" \n",
    "\n",
    "    row_values = np.array(long_df[rows])\n",
    "    col_values = np.array(long_df[cols])\n",
    "    data = np.array(long_df[value_col])\n",
    "    print(data.shape)\n",
    "\n",
    "    row_to_index = {id: index for index, id in enumerate(np.unique(row_values))}\n",
    "    row_to_index_map = np.vectorize(row_to_index.get)\n",
    "\n",
    "    field_to_index_map = np.vectorize(field_to_index.get)\n",
    "\n",
    "    cols = field_to_index_map(col_values)\n",
    "    rows = row_to_index_map(row_values)\n",
    "\n",
    "    # print(cols.shape)\n",
    "    # print(rows.shape)\n",
    "    # print(data.shape)\n",
    "\n",
    "    out = csr_matrix((data, (rows, cols)),\n",
    "                     shape=(len(row_to_index), len(field_to_index))\n",
    "                    )\n",
    "    print(out.__repr__())\n",
    "    return out, row_to_index\n",
    "    \n",
    "    \n",
    "    "
   ]
  },
  {
   "cell_type": "markdown",
   "id": "ad83742a-8e1c-4f9e-97eb-eed3c469778d",
   "metadata": {},
   "source": [
    "### To fix\n",
    "- duplicate rows in fields of study?"
   ]
  },
  {
   "cell_type": "code",
   "execution_count": 68,
   "id": "730601b2-7868-4156-bcc8-050a2b30c16c",
   "metadata": {},
   "outputs": [],
   "source": [
    "\n",
    "db_file = \"/mnt/ssd/AcademicGraph/AcademicGraph.sqlite\" \n",
    "sqlite.register_adapter(np.int64, lambda val: int(val))\n",
    "ibis.options.interactive = True\n",
    "con = ibis.connect(db_file)\n",
    "sqlite_con = sqlite.connect(database = db_file, isolation_level= None)\n",
    "\n",
    "random_seed = 583523592352\n",
    "sample_size = 1_000_000\n",
    "\n",
    "max_level = 2\n",
    "generator = np.random.default_rng(random_seed)\n"
   ]
  },
  {
   "cell_type": "markdown",
   "id": "e8e473d9-49f9-4f1e-bbf7-44e57eade1d5",
   "metadata": {},
   "source": [
    "### Define main tables to query"
   ]
  },
  {
   "cell_type": "code",
   "execution_count": null,
   "id": "c816b0d4-19e9-4a2a-869a-d2612dc2af32",
   "metadata": {},
   "outputs": [],
   "source": [
    "links_to_cng = con.table(\"links_to_cng\")\n",
    "papers = con.table(\"Papers\")\n",
    "fields_of_study = con.table(\"FieldsOfStudy\")\n",
    "paper_fields_of_study = con.table(\"PaperFieldsOfStudy\")\n",
    "\n",
    "query_fields_up_to_max_level = (\n",
    "    fields_of_study\n",
    "    .filter(\n",
    "        _.Level <= max_level,\n",
    "        _.Level > 0\n",
    "    )\n",
    "    .select(\n",
    "        _.FieldOfStudyId\n",
    "    )\n",
    ")"
   ]
  },
  {
   "cell_type": "markdown",
   "id": "71bbe4d7-ade0-48bb-b9ea-b96ab6b8f8f4",
   "metadata": {},
   "source": [
    "### First we need to create a table with the papers we want to sample \n",
    "\n",
    "- `ibis.sample` does not guarantee reproducibility\n",
    "- let's explicitly sample with `np.random` and a seed\n",
    "- we can choose if we want to overwrite this table or not -> make command line arg"
   ]
  },
  {
   "cell_type": "code",
   "execution_count": null,
   "id": "53bf9365-13a7-4d21-9a16-420dd9cfdbd8",
   "metadata": {},
   "outputs": [],
   "source": [
    "selected_papers = (\n",
    "    papers.\n",
    "    filter(\n",
    "        _.DocType.isin([\"Journal\",\"Book\", \"BookChapter\", \"Conference\"]),\n",
    "        _.Year >= 1985,\n",
    "        _.Year <= 2020\n",
    "    )\n",
    "    .select(\"PaperId\")\n",
    ")"
   ]
  },
  {
   "cell_type": "code",
   "execution_count": null,
   "id": "03178a51-cbe3-4705-b8f3-247e0a11505a",
   "metadata": {},
   "outputs": [],
   "source": [
    "all_papers = selected_papers.execute(limit=None)"
   ]
  },
  {
   "cell_type": "code",
   "execution_count": 69,
   "id": "8f3620f3-7ee5-4228-ae6a-f2656250edcc",
   "metadata": {},
   "outputs": [
    {
     "data": {
      "text/html": [
       "<div>\n",
       "<style scoped>\n",
       "    .dataframe tbody tr th:only-of-type {\n",
       "        vertical-align: middle;\n",
       "    }\n",
       "\n",
       "    .dataframe tbody tr th {\n",
       "        vertical-align: top;\n",
       "    }\n",
       "\n",
       "    .dataframe thead th {\n",
       "        text-align: right;\n",
       "    }\n",
       "</style>\n",
       "<table border=\"1\" class=\"dataframe\">\n",
       "  <thead>\n",
       "    <tr style=\"text-align: right;\">\n",
       "      <th></th>\n",
       "      <th>PaperId</th>\n",
       "    </tr>\n",
       "  </thead>\n",
       "  <tbody>\n",
       "    <tr>\n",
       "      <th>0</th>\n",
       "      <td>181141341</td>\n",
       "    </tr>\n",
       "    <tr>\n",
       "      <th>1</th>\n",
       "      <td>1523036014</td>\n",
       "    </tr>\n",
       "    <tr>\n",
       "      <th>2</th>\n",
       "      <td>3046356728</td>\n",
       "    </tr>\n",
       "    <tr>\n",
       "      <th>3</th>\n",
       "      <td>1935107624</td>\n",
       "    </tr>\n",
       "    <tr>\n",
       "      <th>4</th>\n",
       "      <td>2784083118</td>\n",
       "    </tr>\n",
       "  </tbody>\n",
       "</table>\n",
       "</div>"
      ],
      "text/plain": [
       "      PaperId\n",
       "0   181141341\n",
       "1  1523036014\n",
       "2  3046356728\n",
       "3  1935107624\n",
       "4  2784083118"
      ]
     },
     "execution_count": 69,
     "metadata": {},
     "output_type": "execute_result"
    }
   ],
   "source": [
    "all_papers.head()"
   ]
  },
  {
   "cell_type": "code",
   "execution_count": 46,
   "id": "db5c17c9-3876-4ca0-a116-90ceb7b4119e",
   "metadata": {},
   "outputs": [
    {
     "data": {
      "text/html": [
       "<div>\n",
       "<style scoped>\n",
       "    .dataframe tbody tr th:only-of-type {\n",
       "        vertical-align: middle;\n",
       "    }\n",
       "\n",
       "    .dataframe tbody tr th {\n",
       "        vertical-align: top;\n",
       "    }\n",
       "\n",
       "    .dataframe thead th {\n",
       "        text-align: right;\n",
       "    }\n",
       "</style>\n",
       "<table border=\"1\" class=\"dataframe\">\n",
       "  <thead>\n",
       "    <tr style=\"text-align: right;\">\n",
       "      <th></th>\n",
       "      <th>PaperId</th>\n",
       "    </tr>\n",
       "  </thead>\n",
       "  <tbody>\n",
       "    <tr>\n",
       "      <th>49911031</th>\n",
       "      <td>2370566524</td>\n",
       "    </tr>\n",
       "    <tr>\n",
       "      <th>70350564</th>\n",
       "      <td>2606940148</td>\n",
       "    </tr>\n",
       "    <tr>\n",
       "      <th>50162113</th>\n",
       "      <td>2090109623</td>\n",
       "    </tr>\n",
       "    <tr>\n",
       "      <th>35223217</th>\n",
       "      <td>2028287106</td>\n",
       "    </tr>\n",
       "    <tr>\n",
       "      <th>39103612</th>\n",
       "      <td>2314045099</td>\n",
       "    </tr>\n",
       "  </tbody>\n",
       "</table>\n",
       "</div>"
      ],
      "text/plain": [
       "             PaperId\n",
       "49911031  2370566524\n",
       "70350564  2606940148\n",
       "50162113  2090109623\n",
       "35223217  2028287106\n",
       "39103612  2314045099"
      ]
     },
     "execution_count": 46,
     "metadata": {},
     "output_type": "execute_result"
    }
   ],
   "source": [
    "subsample = all_papers.sample(n=sample_size, random_state=generator)\n",
    "subsample.head()"
   ]
  },
  {
   "cell_type": "code",
   "execution_count": 70,
   "id": "7bbbb2c2-1efd-443c-8ee0-34e94e6553c4",
   "metadata": {},
   "outputs": [],
   "source": [
    "cursor = sqlite_con.cursor()\n",
    "data_to_insert = [(x,) for x in subsample[\"PaperId\"].values]\n",
    "sql_delete = \"DROP TABLE IF EXISTS selected_papers_svd\"\n",
    "sql_create = \"CREATE TABLE selected_papers_svd (PaperId INT)\"\n"
   ]
  },
  {
   "cell_type": "code",
   "execution_count": 71,
   "id": "273c56ee-1b71-4a05-8426-1a2acc765603",
   "metadata": {},
   "outputs": [
    {
     "data": {
      "text/plain": [
       "<sqlite3.Cursor at 0x7f699af9d840>"
      ]
     },
     "execution_count": 71,
     "metadata": {},
     "output_type": "execute_result"
    }
   ],
   "source": [
    "cursor.execute(sql_delete)\n",
    "cursor.execute(sql_create)"
   ]
  },
  {
   "cell_type": "code",
   "execution_count": 72,
   "id": "715b1f77-5d12-470f-b7b4-92afc03f0535",
   "metadata": {},
   "outputs": [
    {
     "data": {
      "text/plain": [
       "<sqlite3.Cursor at 0x7f699af9d840>"
      ]
     },
     "execution_count": 72,
     "metadata": {},
     "output_type": "execute_result"
    }
   ],
   "source": [
    "cursor.executemany(\"INSERT INTO selected_papers_svd (PaperId) VALUES (?)\", data_to_insert)"
   ]
  },
  {
   "cell_type": "code",
   "execution_count": 73,
   "id": "e2176deb-3a65-42b7-a5a1-b6a6f10745a5",
   "metadata": {},
   "outputs": [
    {
     "data": {
      "text/plain": [
       "<sqlite3.Cursor at 0x7f699af9d840>"
      ]
     },
     "execution_count": 73,
     "metadata": {},
     "output_type": "execute_result"
    }
   ],
   "source": [
    "cursor.execute(\"CREATE UNIQUE INDEX idx_paperid_selp ON selected_papers_svd(PaperId)\")"
   ]
  },
  {
   "cell_type": "code",
   "execution_count": 74,
   "id": "ffa5c9c9-4941-4f3a-a737-c986bb12bfd7",
   "metadata": {},
   "outputs": [],
   "source": [
    "sqlite_con.commit()"
   ]
  },
  {
   "cell_type": "code",
   "execution_count": 65,
   "id": "46ae559a-7a6d-45f4-a06d-69a15923fe11",
   "metadata": {},
   "outputs": [
    {
     "data": {
      "text/plain": [
       "[(np.int64(2370566524),), (np.int64(2606940148),), (np.int64(2090109623),)]"
      ]
     },
     "execution_count": 65,
     "metadata": {},
     "output_type": "execute_result"
    }
   ],
   "source": [
    "data_to_insert[:3]"
   ]
  },
  {
   "cell_type": "markdown",
   "id": "32e6d89f-c492-4b0d-ab46-d52daf7f91b6",
   "metadata": {},
   "source": [
    "### Now load the sampled papers and their fields"
   ]
  },
  {
   "cell_type": "code",
   "execution_count": 75,
   "id": "c8b3cefd-575d-4ac9-a31e-09ca5766bc6e",
   "metadata": {},
   "outputs": [
    {
     "data": {
      "text/html": [
       "<pre style=\"white-space:pre;overflow-x:auto;line-height:normal;font-family:Menlo,'DejaVu Sans Mono',consolas,'Courier New',monospace\">┏━━━━━━━━━━━━┓\n",
       "┃<span style=\"font-weight: bold\"> PaperId    </span>┃\n",
       "┡━━━━━━━━━━━━┩\n",
       "│ <span style=\"color: #7f7f7f; text-decoration-color: #7f7f7f\">int64</span>      │\n",
       "├────────────┤\n",
       "│  <span style=\"color: #008080; text-decoration-color: #008080; font-weight: bold\">181141341</span> │\n",
       "│ <span style=\"color: #008080; text-decoration-color: #008080; font-weight: bold\">1523036014</span> │\n",
       "│ <span style=\"color: #008080; text-decoration-color: #008080; font-weight: bold\">3046356728</span> │\n",
       "│ <span style=\"color: #008080; text-decoration-color: #008080; font-weight: bold\">1935107624</span> │\n",
       "│ <span style=\"color: #008080; text-decoration-color: #008080; font-weight: bold\">2784083118</span> │\n",
       "└────────────┘\n",
       "</pre>\n"
      ],
      "text/plain": [
       "┏━━━━━━━━━━━━┓\n",
       "┃\u001b[1m \u001b[0m\u001b[1mPaperId\u001b[0m\u001b[1m   \u001b[0m\u001b[1m \u001b[0m┃\n",
       "┡━━━━━━━━━━━━┩\n",
       "│ \u001b[2mint64\u001b[0m      │\n",
       "├────────────┤\n",
       "│  \u001b[1;36m181141341\u001b[0m │\n",
       "│ \u001b[1;36m1523036014\u001b[0m │\n",
       "│ \u001b[1;36m3046356728\u001b[0m │\n",
       "│ \u001b[1;36m1935107624\u001b[0m │\n",
       "│ \u001b[1;36m2784083118\u001b[0m │\n",
       "└────────────┘"
      ]
     },
     "execution_count": 75,
     "metadata": {},
     "output_type": "execute_result"
    }
   ],
   "source": [
    "selected_papers.head()"
   ]
  },
  {
   "cell_type": "code",
   "execution_count": 77,
   "id": "4c61ccb9-5d85-4008-a3ea-29b23624ae46",
   "metadata": {},
   "outputs": [],
   "source": [
    "selected_papers_fields = (\n",
    "    selected_papers\n",
    "    .join(\n",
    "        paper_fields_of_study,\n",
    "        \"PaperId\",\n",
    "        how=\"inner\"\n",
    "    )\n",
    "    .join(\n",
    "        query_fields_up_to_max_level,\n",
    "        \"FieldOfStudyId\",\n",
    "        how=\"inner\"\n",
    "    )\n",
    "    .join(\n",
    "        con.table(\"selected_papers_svd\"),\n",
    "        \"PaperId\",\n",
    "        how=\"inner\"\n",
    "    )\n",
    ")\n",
    "    "
   ]
  },
  {
   "cell_type": "code",
   "execution_count": 79,
   "id": "93717bed-f7ca-45a8-aa4c-7a171da97928",
   "metadata": {},
   "outputs": [
    {
     "data": {
      "text/html": [
       "<pre style=\"white-space:pre;overflow-x:auto;line-height:normal;font-family:Menlo,'DejaVu Sans Mono',consolas,'Courier New',monospace\">┏━━━━━━━━━━━━┳━━━━━━━━━━━━━━━━┳━━━━━━━━━━┓\n",
       "┃<span style=\"font-weight: bold\"> PaperId    </span>┃<span style=\"font-weight: bold\"> FieldOfStudyId </span>┃<span style=\"font-weight: bold\"> Score    </span>┃\n",
       "┡━━━━━━━━━━━━╇━━━━━━━━━━━━━━━━╇━━━━━━━━━━┩\n",
       "│ <span style=\"color: #7f7f7f; text-decoration-color: #7f7f7f\">int64</span>      │ <span style=\"color: #7f7f7f; text-decoration-color: #7f7f7f\">int64</span>          │ <span style=\"color: #7f7f7f; text-decoration-color: #7f7f7f\">decimal</span>  │\n",
       "├────────────┼────────────────┼──────────┤\n",
       "│ <span style=\"color: #008080; text-decoration-color: #008080; font-weight: bold\">2370566524</span> │       <span style=\"color: #008080; text-decoration-color: #008080; font-weight: bold\">89611455</span> │ <span style=\"color: #008080; text-decoration-color: #008080; font-weight: bold\">0.404437</span> │\n",
       "│ <span style=\"color: #008080; text-decoration-color: #008080; font-weight: bold\">2370566524</span> │       <span style=\"color: #008080; text-decoration-color: #008080; font-weight: bold\">98274493</span> │ <span style=\"color: #008080; text-decoration-color: #008080; font-weight: bold\">0.366141</span> │\n",
       "│ <span style=\"color: #008080; text-decoration-color: #008080; font-weight: bold\">2370566524</span> │      <span style=\"color: #008080; text-decoration-color: #008080; font-weight: bold\">181389837</span> │ <span style=\"color: #008080; text-decoration-color: #008080; font-weight: bold\">0.540288</span> │\n",
       "│ <span style=\"color: #008080; text-decoration-color: #008080; font-weight: bold\">2370566524</span> │      <span style=\"color: #008080; text-decoration-color: #008080; font-weight: bold\">185592680</span> │ <span style=\"color: #008080; text-decoration-color: #008080; font-weight: bold\">0.355965</span> │\n",
       "│ <span style=\"color: #008080; text-decoration-color: #008080; font-weight: bold\">2606940148</span> │       <span style=\"color: #008080; text-decoration-color: #008080; font-weight: bold\">15744967</span> │ <span style=\"color: #008080; text-decoration-color: #008080; font-weight: bold\">0.339810</span> │\n",
       "└────────────┴────────────────┴──────────┘\n",
       "</pre>\n"
      ],
      "text/plain": [
       "┏━━━━━━━━━━━━┳━━━━━━━━━━━━━━━━┳━━━━━━━━━━┓\n",
       "┃\u001b[1m \u001b[0m\u001b[1mPaperId\u001b[0m\u001b[1m   \u001b[0m\u001b[1m \u001b[0m┃\u001b[1m \u001b[0m\u001b[1mFieldOfStudyId\u001b[0m\u001b[1m \u001b[0m┃\u001b[1m \u001b[0m\u001b[1mScore\u001b[0m\u001b[1m   \u001b[0m\u001b[1m \u001b[0m┃\n",
       "┡━━━━━━━━━━━━╇━━━━━━━━━━━━━━━━╇━━━━━━━━━━┩\n",
       "│ \u001b[2mint64\u001b[0m      │ \u001b[2mint64\u001b[0m          │ \u001b[2mdecimal\u001b[0m  │\n",
       "├────────────┼────────────────┼──────────┤\n",
       "│ \u001b[1;36m2370566524\u001b[0m │       \u001b[1;36m89611455\u001b[0m │ \u001b[1;36m0.404437\u001b[0m │\n",
       "│ \u001b[1;36m2370566524\u001b[0m │       \u001b[1;36m98274493\u001b[0m │ \u001b[1;36m0.366141\u001b[0m │\n",
       "│ \u001b[1;36m2370566524\u001b[0m │      \u001b[1;36m181389837\u001b[0m │ \u001b[1;36m0.540288\u001b[0m │\n",
       "│ \u001b[1;36m2370566524\u001b[0m │      \u001b[1;36m185592680\u001b[0m │ \u001b[1;36m0.355965\u001b[0m │\n",
       "│ \u001b[1;36m2606940148\u001b[0m │       \u001b[1;36m15744967\u001b[0m │ \u001b[1;36m0.339810\u001b[0m │\n",
       "└────────────┴────────────────┴──────────┘"
      ]
     },
     "execution_count": 79,
     "metadata": {},
     "output_type": "execute_result"
    }
   ],
   "source": [
    "selected_papers_fields.head()"
   ]
  },
  {
   "cell_type": "code",
   "execution_count": 104,
   "id": "fb35dec3-241e-4b12-8602-d04ca3245f6b",
   "metadata": {},
   "outputs": [
    {
     "data": {
      "text/html": [
       "<pre style=\"white-space:pre;overflow-x:auto;line-height:normal;font-family:Menlo,'DejaVu Sans Mono',consolas,'Courier New',monospace\">┏━━━━━━━━━━━━┳━━━━━━━━━━━━━━━━┳━━━━━━━━━━┓\n",
       "┃<span style=\"font-weight: bold\"> PaperId    </span>┃<span style=\"font-weight: bold\"> FieldOfStudyId </span>┃<span style=\"font-weight: bold\"> Score    </span>┃\n",
       "┡━━━━━━━━━━━━╇━━━━━━━━━━━━━━━━╇━━━━━━━━━━┩\n",
       "│ <span style=\"color: #7f7f7f; text-decoration-color: #7f7f7f\">int64</span>      │ <span style=\"color: #7f7f7f; text-decoration-color: #7f7f7f\">int64</span>          │ <span style=\"color: #7f7f7f; text-decoration-color: #7f7f7f\">decimal</span>  │\n",
       "├────────────┼────────────────┼──────────┤\n",
       "│ <span style=\"color: #008080; text-decoration-color: #008080; font-weight: bold\">2370566524</span> │       <span style=\"color: #008080; text-decoration-color: #008080; font-weight: bold\">89611455</span> │ <span style=\"color: #008080; text-decoration-color: #008080; font-weight: bold\">0.404437</span> │\n",
       "│ <span style=\"color: #008080; text-decoration-color: #008080; font-weight: bold\">2370566524</span> │       <span style=\"color: #008080; text-decoration-color: #008080; font-weight: bold\">98274493</span> │ <span style=\"color: #008080; text-decoration-color: #008080; font-weight: bold\">0.366141</span> │\n",
       "│ <span style=\"color: #008080; text-decoration-color: #008080; font-weight: bold\">2370566524</span> │      <span style=\"color: #008080; text-decoration-color: #008080; font-weight: bold\">181389837</span> │ <span style=\"color: #008080; text-decoration-color: #008080; font-weight: bold\">0.540288</span> │\n",
       "│ <span style=\"color: #008080; text-decoration-color: #008080; font-weight: bold\">2370566524</span> │      <span style=\"color: #008080; text-decoration-color: #008080; font-weight: bold\">185592680</span> │ <span style=\"color: #008080; text-decoration-color: #008080; font-weight: bold\">0.355965</span> │\n",
       "│ <span style=\"color: #008080; text-decoration-color: #008080; font-weight: bold\">2606940148</span> │       <span style=\"color: #008080; text-decoration-color: #008080; font-weight: bold\">15744967</span> │ <span style=\"color: #008080; text-decoration-color: #008080; font-weight: bold\">0.339810</span> │\n",
       "│ <span style=\"color: #008080; text-decoration-color: #008080; font-weight: bold\">2606940148</span> │       <span style=\"color: #008080; text-decoration-color: #008080; font-weight: bold\">47611674</span> │ <span style=\"color: #008080; text-decoration-color: #008080; font-weight: bold\">0.469222</span> │\n",
       "│ <span style=\"color: #008080; text-decoration-color: #008080; font-weight: bold\">2606940148</span> │       <span style=\"color: #008080; text-decoration-color: #008080; font-weight: bold\">58693492</span> │ <span style=\"color: #008080; text-decoration-color: #008080; font-weight: bold\">0.482417</span> │\n",
       "│ <span style=\"color: #008080; text-decoration-color: #008080; font-weight: bold\">2606940148</span> │      <span style=\"color: #008080; text-decoration-color: #008080; font-weight: bold\">169760540</span> │ <span style=\"color: #008080; text-decoration-color: #008080; font-weight: bold\">0.428821</span> │\n",
       "│ <span style=\"color: #008080; text-decoration-color: #008080; font-weight: bold\">2606940148</span> │      <span style=\"color: #008080; text-decoration-color: #008080; font-weight: bold\">172268261</span> │ <span style=\"color: #008080; text-decoration-color: #008080; font-weight: bold\">0.418724</span> │\n",
       "│ <span style=\"color: #008080; text-decoration-color: #008080; font-weight: bold\">2606940148</span> │     <span style=\"color: #008080; text-decoration-color: #008080; font-weight: bold\">2778818304</span> │ <span style=\"color: #008080; text-decoration-color: #008080; font-weight: bold\">0.425182</span> │\n",
       "│          <span style=\"color: #7f7f7f; text-decoration-color: #7f7f7f\">…</span> │              <span style=\"color: #7f7f7f; text-decoration-color: #7f7f7f\">…</span> │        <span style=\"color: #7f7f7f; text-decoration-color: #7f7f7f\">…</span> │\n",
       "└────────────┴────────────────┴──────────┘\n",
       "</pre>\n"
      ],
      "text/plain": [
       "┏━━━━━━━━━━━━┳━━━━━━━━━━━━━━━━┳━━━━━━━━━━┓\n",
       "┃\u001b[1m \u001b[0m\u001b[1mPaperId\u001b[0m\u001b[1m   \u001b[0m\u001b[1m \u001b[0m┃\u001b[1m \u001b[0m\u001b[1mFieldOfStudyId\u001b[0m\u001b[1m \u001b[0m┃\u001b[1m \u001b[0m\u001b[1mScore\u001b[0m\u001b[1m   \u001b[0m\u001b[1m \u001b[0m┃\n",
       "┡━━━━━━━━━━━━╇━━━━━━━━━━━━━━━━╇━━━━━━━━━━┩\n",
       "│ \u001b[2mint64\u001b[0m      │ \u001b[2mint64\u001b[0m          │ \u001b[2mdecimal\u001b[0m  │\n",
       "├────────────┼────────────────┼──────────┤\n",
       "│ \u001b[1;36m2370566524\u001b[0m │       \u001b[1;36m89611455\u001b[0m │ \u001b[1;36m0.404437\u001b[0m │\n",
       "│ \u001b[1;36m2370566524\u001b[0m │       \u001b[1;36m98274493\u001b[0m │ \u001b[1;36m0.366141\u001b[0m │\n",
       "│ \u001b[1;36m2370566524\u001b[0m │      \u001b[1;36m181389837\u001b[0m │ \u001b[1;36m0.540288\u001b[0m │\n",
       "│ \u001b[1;36m2370566524\u001b[0m │      \u001b[1;36m185592680\u001b[0m │ \u001b[1;36m0.355965\u001b[0m │\n",
       "│ \u001b[1;36m2606940148\u001b[0m │       \u001b[1;36m15744967\u001b[0m │ \u001b[1;36m0.339810\u001b[0m │\n",
       "│ \u001b[1;36m2606940148\u001b[0m │       \u001b[1;36m47611674\u001b[0m │ \u001b[1;36m0.469222\u001b[0m │\n",
       "│ \u001b[1;36m2606940148\u001b[0m │       \u001b[1;36m58693492\u001b[0m │ \u001b[1;36m0.482417\u001b[0m │\n",
       "│ \u001b[1;36m2606940148\u001b[0m │      \u001b[1;36m169760540\u001b[0m │ \u001b[1;36m0.428821\u001b[0m │\n",
       "│ \u001b[1;36m2606940148\u001b[0m │      \u001b[1;36m172268261\u001b[0m │ \u001b[1;36m0.418724\u001b[0m │\n",
       "│ \u001b[1;36m2606940148\u001b[0m │     \u001b[1;36m2778818304\u001b[0m │ \u001b[1;36m0.425182\u001b[0m │\n",
       "│          \u001b[2m…\u001b[0m │              \u001b[2m…\u001b[0m │        \u001b[2m…\u001b[0m │\n",
       "└────────────┴────────────────┴──────────┘"
      ]
     },
     "execution_count": 104,
     "metadata": {},
     "output_type": "execute_result"
    }
   ],
   "source": [
    "selected_papers_fields"
   ]
  },
  {
   "cell_type": "code",
   "execution_count": 105,
   "id": "d0871f97-b0af-47ae-b9db-d7094dcb10cb",
   "metadata": {},
   "outputs": [
    {
     "ename": "AttributeError",
     "evalue": "'Table' object has no attribute 'fetch'",
     "output_type": "error",
     "traceback": [
      "\u001b[0;31m---------------------------------------------------------------------------\u001b[0m",
      "\u001b[0;31mAttributeError\u001b[0m                            Traceback (most recent call last)",
      "Cell \u001b[0;32mIn[105], line 1\u001b[0m\n\u001b[0;32m----> 1\u001b[0m papers_fields \u001b[38;5;241m=\u001b[39m \u001b[43mselected_papers_fields\u001b[49m\u001b[38;5;241;43m.\u001b[39;49m\u001b[43mfetch\u001b[49m()\n",
      "File \u001b[0;32m~/miniconda3/envs/science-career-test/lib/python3.12/site-packages/ibis/expr/types/relations.py:757\u001b[0m, in \u001b[0;36mTable.__getattr__\u001b[0;34m(self, key)\u001b[0m\n\u001b[1;32m    752\u001b[0m     hint \u001b[38;5;241m=\u001b[39m common_typos[key]\n\u001b[1;32m    753\u001b[0m     \u001b[38;5;28;01mraise\u001b[39;00m \u001b[38;5;167;01mAttributeError\u001b[39;00m(\n\u001b[1;32m    754\u001b[0m         \u001b[38;5;124mf\u001b[39m\u001b[38;5;124m\"\u001b[39m\u001b[38;5;132;01m{\u001b[39;00m\u001b[38;5;28mtype\u001b[39m(\u001b[38;5;28mself\u001b[39m)\u001b[38;5;241m.\u001b[39m\u001b[38;5;18m__name__\u001b[39m\u001b[38;5;132;01m}\u001b[39;00m\u001b[38;5;124m object has no attribute \u001b[39m\u001b[38;5;132;01m{\u001b[39;00mkey\u001b[38;5;132;01m!r}\u001b[39;00m\u001b[38;5;124m, did you mean \u001b[39m\u001b[38;5;132;01m{\u001b[39;00mhint\u001b[38;5;132;01m!r}\u001b[39;00m\u001b[38;5;124m\"\u001b[39m\n\u001b[1;32m    755\u001b[0m     )\n\u001b[0;32m--> 757\u001b[0m \u001b[38;5;28;01mraise\u001b[39;00m \u001b[38;5;167;01mAttributeError\u001b[39;00m(\u001b[38;5;124mf\u001b[39m\u001b[38;5;124m\"\u001b[39m\u001b[38;5;124m'\u001b[39m\u001b[38;5;124mTable\u001b[39m\u001b[38;5;124m'\u001b[39m\u001b[38;5;124m object has no attribute \u001b[39m\u001b[38;5;132;01m{\u001b[39;00mkey\u001b[38;5;132;01m!r}\u001b[39;00m\u001b[38;5;124m\"\u001b[39m)\n",
      "\u001b[0;31mAttributeError\u001b[0m: 'Table' object has no attribute 'fetch'"
     ]
    }
   ],
   "source": [
    "papers_fields = selected_papers_fields.execute(limit=None)"
   ]
  },
  {
   "cell_type": "code",
   "execution_count": 106,
   "id": "e40c0bd0-98b3-4997-b132-7fdc95aaa65c",
   "metadata": {},
   "outputs": [
    {
     "data": {
      "text/html": [
       "<div>\n",
       "<style scoped>\n",
       "    .dataframe tbody tr th:only-of-type {\n",
       "        vertical-align: middle;\n",
       "    }\n",
       "\n",
       "    .dataframe tbody tr th {\n",
       "        vertical-align: top;\n",
       "    }\n",
       "\n",
       "    .dataframe thead th {\n",
       "        text-align: right;\n",
       "    }\n",
       "</style>\n",
       "<table border=\"1\" class=\"dataframe\">\n",
       "  <thead>\n",
       "    <tr style=\"text-align: right;\">\n",
       "      <th></th>\n",
       "      <th>PaperId</th>\n",
       "      <th>FieldOfStudyId</th>\n",
       "      <th>Score</th>\n",
       "    </tr>\n",
       "  </thead>\n",
       "  <tbody>\n",
       "    <tr>\n",
       "      <th>0</th>\n",
       "      <td>2370566524</td>\n",
       "      <td>89611455</td>\n",
       "      <td>0.404436558</td>\n",
       "    </tr>\n",
       "    <tr>\n",
       "      <th>1</th>\n",
       "      <td>2370566524</td>\n",
       "      <td>98274493</td>\n",
       "      <td>0.3661408</td>\n",
       "    </tr>\n",
       "    <tr>\n",
       "      <th>2</th>\n",
       "      <td>2370566524</td>\n",
       "      <td>181389837</td>\n",
       "      <td>0.5402883</td>\n",
       "    </tr>\n",
       "    <tr>\n",
       "      <th>3</th>\n",
       "      <td>2370566524</td>\n",
       "      <td>185592680</td>\n",
       "      <td>0.35596478</td>\n",
       "    </tr>\n",
       "    <tr>\n",
       "      <th>4</th>\n",
       "      <td>2606940148</td>\n",
       "      <td>15744967</td>\n",
       "      <td>0.339810282</td>\n",
       "    </tr>\n",
       "  </tbody>\n",
       "</table>\n",
       "</div>"
      ],
      "text/plain": [
       "      PaperId  FieldOfStudyId        Score\n",
       "0  2370566524        89611455  0.404436558\n",
       "1  2370566524        98274493    0.3661408\n",
       "2  2370566524       181389837    0.5402883\n",
       "3  2370566524       185592680   0.35596478\n",
       "4  2606940148        15744967  0.339810282"
      ]
     },
     "execution_count": 106,
     "metadata": {},
     "output_type": "execute_result"
    }
   ],
   "source": [
    "papers_fields.head()"
   ]
  },
  {
   "cell_type": "code",
   "execution_count": 109,
   "id": "b011ee8e-03fc-478a-8b19-5c3ecc5f9ee8",
   "metadata": {},
   "outputs": [],
   "source": [
    "papers_fields[\"score\"] = papers_fields[\"Score\"].astype(np.float32)"
   ]
  },
  {
   "cell_type": "code",
   "execution_count": 110,
   "id": "745e0767-e44f-4190-b385-f6f3328b774e",
   "metadata": {},
   "outputs": [
    {
     "data": {
      "text/html": [
       "<div>\n",
       "<style scoped>\n",
       "    .dataframe tbody tr th:only-of-type {\n",
       "        vertical-align: middle;\n",
       "    }\n",
       "\n",
       "    .dataframe tbody tr th {\n",
       "        vertical-align: top;\n",
       "    }\n",
       "\n",
       "    .dataframe thead th {\n",
       "        text-align: right;\n",
       "    }\n",
       "</style>\n",
       "<table border=\"1\" class=\"dataframe\">\n",
       "  <thead>\n",
       "    <tr style=\"text-align: right;\">\n",
       "      <th></th>\n",
       "      <th>PaperId</th>\n",
       "      <th>FieldOfStudyId</th>\n",
       "      <th>Score</th>\n",
       "      <th>score</th>\n",
       "    </tr>\n",
       "  </thead>\n",
       "  <tbody>\n",
       "    <tr>\n",
       "      <th>0</th>\n",
       "      <td>2370566524</td>\n",
       "      <td>89611455</td>\n",
       "      <td>0.404436558</td>\n",
       "      <td>0.404437</td>\n",
       "    </tr>\n",
       "    <tr>\n",
       "      <th>1</th>\n",
       "      <td>2370566524</td>\n",
       "      <td>98274493</td>\n",
       "      <td>0.3661408</td>\n",
       "      <td>0.366141</td>\n",
       "    </tr>\n",
       "    <tr>\n",
       "      <th>2</th>\n",
       "      <td>2370566524</td>\n",
       "      <td>181389837</td>\n",
       "      <td>0.5402883</td>\n",
       "      <td>0.540288</td>\n",
       "    </tr>\n",
       "    <tr>\n",
       "      <th>3</th>\n",
       "      <td>2370566524</td>\n",
       "      <td>185592680</td>\n",
       "      <td>0.35596478</td>\n",
       "      <td>0.355965</td>\n",
       "    </tr>\n",
       "    <tr>\n",
       "      <th>4</th>\n",
       "      <td>2606940148</td>\n",
       "      <td>15744967</td>\n",
       "      <td>0.339810282</td>\n",
       "      <td>0.339810</td>\n",
       "    </tr>\n",
       "  </tbody>\n",
       "</table>\n",
       "</div>"
      ],
      "text/plain": [
       "      PaperId  FieldOfStudyId        Score     score\n",
       "0  2370566524        89611455  0.404436558  0.404437\n",
       "1  2370566524        98274493    0.3661408  0.366141\n",
       "2  2370566524       181389837    0.5402883  0.540288\n",
       "3  2370566524       185592680   0.35596478  0.355965\n",
       "4  2606940148        15744967  0.339810282  0.339810"
      ]
     },
     "execution_count": 110,
     "metadata": {},
     "output_type": "execute_result"
    }
   ],
   "source": [
    "papers_fields.head()"
   ]
  },
  {
   "cell_type": "markdown",
   "id": "49b5b379-4b8c-418d-aa34-317b99f26849",
   "metadata": {},
   "source": [
    "### Mapping from field of study id to index"
   ]
  },
  {
   "cell_type": "code",
   "execution_count": 111,
   "id": "ebf458af-5dbd-4cde-bcab-068cc3927f92",
   "metadata": {},
   "outputs": [],
   "source": [
    "fields_of_study = query_fields_up_to_max_level.execute(limit=None)"
   ]
  },
  {
   "cell_type": "code",
   "execution_count": 112,
   "id": "1043b345-fa9e-4ece-b124-4832d8bc1f82",
   "metadata": {},
   "outputs": [],
   "source": [
    "\n",
    "field_to_index = {id: index for index, id in enumerate(fields_of_study['FieldOfStudyId'].unique())}\n",
    "field_to_index_map = np.vectorize(field_to_index.get)\n"
   ]
  },
  {
   "cell_type": "code",
   "execution_count": null,
   "id": "a244302a-4087-4da6-8ca7-3a6022a37a16",
   "metadata": {},
   "outputs": [],
   "source": []
  },
  {
   "cell_type": "code",
   "execution_count": null,
   "id": "0aca2c50-0fb2-4700-8b1e-df1521a520b5",
   "metadata": {},
   "outputs": [],
   "source": []
  },
  {
   "cell_type": "markdown",
   "id": "7f6677e6-1f96-4181-a035-8b34437b163e",
   "metadata": {},
   "source": [
    "### Make sparse"
   ]
  },
  {
   "cell_type": "markdown",
   "id": "cc2c8b6b-7af4-4688-8b5b-03bf81a360ec",
   "metadata": {},
   "source": [
    "TODO: why do we not have 1Mio rows?"
   ]
  },
  {
   "cell_type": "code",
   "execution_count": 176,
   "id": "58bab9ae-4221-47e7-9a4c-bcc4697ec9db",
   "metadata": {},
   "outputs": [
    {
     "name": "stdout",
     "output_type": "stream",
     "text": [
      "(5579567,)\n",
      "<Compressed Sparse Row sparse matrix of dtype 'float32'\n",
      "\twith 5579567 stored elements and shape (932508, 137499)>\n"
     ]
    }
   ],
   "source": [
    "papers_fields_sparse, row_to_index = make_sparse(\n",
    "    papers_fields, field_to_index, \"PaperId\", \"FieldOfStudyId\", \"score\")"
   ]
  },
  {
   "cell_type": "code",
   "execution_count": null,
   "id": "9a2a8ed5-9cf8-4076-ab45-c55686623b37",
   "metadata": {},
   "outputs": [],
   "source": []
  },
  {
   "cell_type": "markdown",
   "id": "7d447443-64a1-4b4c-ba7a-1bbe39cd11ba",
   "metadata": {},
   "source": [
    "### Run svd"
   ]
  },
  {
   "cell_type": "code",
   "execution_count": 125,
   "id": "a984fa61-63fd-4000-b2ff-ff76f41e5bce",
   "metadata": {},
   "outputs": [],
   "source": [
    "def run_svd(in_matrix, n_components=50):\n",
    "    # n_components = 100  # Number of dimensions to reduce to                                                                                                                                      \n",
    "    svd = TruncatedSVD(n_components=n_components, random_state=42)                                                                                                                              \n",
    "    embs = svd.fit_transform(in_matrix)     \n",
    "    \n",
    "    print(f\"Original matrix shape: {in_matrix.shape}\")                                                                                                                                \n",
    "    print(f\"Reduced matrix shape: {embs.shape}\")                                                                                                                                   \n",
    "    print(f\"Explained variance ratio: {svd.explained_variance_ratio_.sum():.4f}\")                       \n",
    "    \n",
    "    return svd, embs"
   ]
  },
  {
   "cell_type": "code",
   "execution_count": 7,
   "id": "563e0381-7e85-4f20-b976-b5bae7f4b740",
   "metadata": {},
   "outputs": [
    {
     "ename": "NameError",
     "evalue": "name 'run_svd' is not defined",
     "output_type": "error",
     "traceback": [
      "\u001b[0;31m---------------------------------------------------------------------------\u001b[0m",
      "\u001b[0;31mNameError\u001b[0m                                 Traceback (most recent call last)",
      "Cell \u001b[0;32mIn[7], line 1\u001b[0m\n\u001b[0;32m----> 1\u001b[0m svd, embs \u001b[38;5;241m=\u001b[39m \u001b[43mrun_svd\u001b[49m(papers_fields_sparse, \u001b[38;5;241m1024\u001b[39m)\n",
      "\u001b[0;31mNameError\u001b[0m: name 'run_svd' is not defined"
     ]
    }
   ],
   "source": [
    "svd, embs = run_svd(papers_fields_sparse, 1024)"
   ]
  },
  {
   "cell_type": "code",
   "execution_count": 128,
   "id": "728d22f2-8077-41ef-9098-dcf8f9f04a27",
   "metadata": {},
   "outputs": [
    {
     "data": {
      "image/png": "[encoded data removed]",
      "text/plain": [
       "<Figure size 1000x500 with 1 Axes>"
      ]
     },
     "metadata": {},
     "output_type": "display_data"
    }
   ],
   "source": [
    "plt.figure(figsize=(10, 5))                                                                                                                                                                 \n",
    "plt.plot(np.cumsum(svd.explained_variance_ratio_))                                                                                                                                          \n",
    "plt.xlabel('Number of Components')                                                                                                                                                          \n",
    "plt.ylabel('Cumulative Explained Variance Ratio')                                                                                                                                           \n",
    "plt.title('Explained Variance Ratio by Number of Components')                                                                                                                               \n",
    "plt.show() "
   ]
  },
  {
   "cell_type": "code",
   "execution_count": 191,
   "id": "6f28cdfe-babb-4f47-a79e-410a1fa9a61c",
   "metadata": {},
   "outputs": [],
   "source": [
    "check_sample_size = 10_000\n",
    "paper_ids_check = list(row_to_index.keys())[:check_sample_size]\n",
    "paper_index_check = list(row_to_index.values())[:check_sample_size]"
   ]
  },
  {
   "cell_type": "markdown",
   "id": "e2c6070c-3c54-49a5-89e0-33ec0b35d5a6",
   "metadata": {},
   "source": [
    "### Prepare sanity check: KNN classifier"
   ]
  },
  {
   "cell_type": "code",
   "execution_count": 202,
   "id": "d0e7c642-6c52-4327-b537-ea049ad8527a",
   "metadata": {},
   "outputs": [],
   "source": [
    "papers_main_field = (\n",
    "    con.table(\"PaperMainFieldsOfStudy\")\n",
    "    .join(\n",
    "        con.table(\"selected_papers_svd\"),\n",
    "        \"PaperId\",\n",
    "        how=\"inner\"\n",
    "    )\n",
    "    .filter(_.PaperId.isin(paper_ids_check))\n",
    "    .select(\"PaperId\", \"Field0\")\n",
    ")"
   ]
  },
  {
   "cell_type": "code",
   "execution_count": 203,
   "id": "39c2f982-c7af-4242-9f38-5b68e2292316",
   "metadata": {},
   "outputs": [
    {
     "data": {
      "text/html": [
       "<pre style=\"white-space:pre;overflow-x:auto;line-height:normal;font-family:Menlo,'DejaVu Sans Mono',consolas,'Courier New',monospace\">┏━━━━━━━━━┳━━━━━━━━━━━┓\n",
       "┃<span style=\"font-weight: bold\"> PaperId </span>┃<span style=\"font-weight: bold\"> Field0    </span>┃\n",
       "┡━━━━━━━━━╇━━━━━━━━━━━┩\n",
       "│ <span style=\"color: #7f7f7f; text-decoration-color: #7f7f7f\">int64</span>   │ <span style=\"color: #7f7f7f; text-decoration-color: #7f7f7f\">int64</span>     │\n",
       "├─────────┼───────────┤\n",
       "│    <span style=\"color: #008080; text-decoration-color: #008080; font-weight: bold\">1163</span> │  <span style=\"color: #008080; text-decoration-color: #008080; font-weight: bold\">15744967</span> │\n",
       "│   <span style=\"color: #008080; text-decoration-color: #008080; font-weight: bold\">20110</span> │  <span style=\"color: #008080; text-decoration-color: #008080; font-weight: bold\">71924100</span> │\n",
       "│   <span style=\"color: #008080; text-decoration-color: #008080; font-weight: bold\">26194</span> │  <span style=\"color: #008080; text-decoration-color: #008080; font-weight: bold\">71924100</span> │\n",
       "│   <span style=\"color: #008080; text-decoration-color: #008080; font-weight: bold\">42583</span> │  <span style=\"color: #008080; text-decoration-color: #008080; font-weight: bold\">86803240</span> │\n",
       "│   <span style=\"color: #008080; text-decoration-color: #008080; font-weight: bold\">46216</span> │ <span style=\"color: #008080; text-decoration-color: #008080; font-weight: bold\">185592680</span> │\n",
       "└─────────┴───────────┘\n",
       "</pre>\n"
      ],
      "text/plain": [
       "┏━━━━━━━━━┳━━━━━━━━━━━┓\n",
       "┃\u001b[1m \u001b[0m\u001b[1mPaperId\u001b[0m\u001b[1m \u001b[0m┃\u001b[1m \u001b[0m\u001b[1mField0\u001b[0m\u001b[1m   \u001b[0m\u001b[1m \u001b[0m┃\n",
       "┡━━━━━━━━━╇━━━━━━━━━━━┩\n",
       "│ \u001b[2mint64\u001b[0m   │ \u001b[2mint64\u001b[0m     │\n",
       "├─────────┼───────────┤\n",
       "│    \u001b[1;36m1163\u001b[0m │  \u001b[1;36m15744967\u001b[0m │\n",
       "│   \u001b[1;36m20110\u001b[0m │  \u001b[1;36m71924100\u001b[0m │\n",
       "│   \u001b[1;36m26194\u001b[0m │  \u001b[1;36m71924100\u001b[0m │\n",
       "│   \u001b[1;36m42583\u001b[0m │  \u001b[1;36m86803240\u001b[0m │\n",
       "│   \u001b[1;36m46216\u001b[0m │ \u001b[1;36m185592680\u001b[0m │\n",
       "└─────────┴───────────┘"
      ]
     },
     "execution_count": 203,
     "metadata": {},
     "output_type": "execute_result"
    }
   ],
   "source": [
    "papers_main_field.head()"
   ]
  },
  {
   "cell_type": "code",
   "execution_count": 204,
   "id": "788491da-e652-4b9c-89d7-d175ad1effe5",
   "metadata": {},
   "outputs": [],
   "source": [
    "papers_main_field = papers_main_field.execute(limit=None)"
   ]
  },
  {
   "cell_type": "code",
   "execution_count": 205,
   "id": "c80a82f1-7d3b-48d7-b6dd-2bdf37da5700",
   "metadata": {},
   "outputs": [
    {
     "data": {
      "text/html": [
       "<div>\n",
       "<style scoped>\n",
       "    .dataframe tbody tr th:only-of-type {\n",
       "        vertical-align: middle;\n",
       "    }\n",
       "\n",
       "    .dataframe tbody tr th {\n",
       "        vertical-align: top;\n",
       "    }\n",
       "\n",
       "    .dataframe thead th {\n",
       "        text-align: right;\n",
       "    }\n",
       "</style>\n",
       "<table border=\"1\" class=\"dataframe\">\n",
       "  <thead>\n",
       "    <tr style=\"text-align: right;\">\n",
       "      <th></th>\n",
       "      <th>PaperId</th>\n",
       "      <th>Field0</th>\n",
       "    </tr>\n",
       "  </thead>\n",
       "  <tbody>\n",
       "    <tr>\n",
       "      <th>0</th>\n",
       "      <td>1163</td>\n",
       "      <td>15744967</td>\n",
       "    </tr>\n",
       "    <tr>\n",
       "      <th>1</th>\n",
       "      <td>20110</td>\n",
       "      <td>71924100</td>\n",
       "    </tr>\n",
       "    <tr>\n",
       "      <th>2</th>\n",
       "      <td>26194</td>\n",
       "      <td>71924100</td>\n",
       "    </tr>\n",
       "    <tr>\n",
       "      <th>3</th>\n",
       "      <td>42583</td>\n",
       "      <td>86803240</td>\n",
       "    </tr>\n",
       "    <tr>\n",
       "      <th>4</th>\n",
       "      <td>46216</td>\n",
       "      <td>185592680</td>\n",
       "    </tr>\n",
       "  </tbody>\n",
       "</table>\n",
       "</div>"
      ],
      "text/plain": [
       "   PaperId     Field0\n",
       "0     1163   15744967\n",
       "1    20110   71924100\n",
       "2    26194   71924100\n",
       "3    42583   86803240\n",
       "4    46216  185592680"
      ]
     },
     "execution_count": 205,
     "metadata": {},
     "output_type": "execute_result"
    }
   ],
   "source": [
    "papers_main_field.head()"
   ]
  },
  {
   "cell_type": "code",
   "execution_count": 236,
   "id": "2283d11d-7b9d-4bbd-91ef-3d9bd8e35880",
   "metadata": {},
   "outputs": [],
   "source": [
    "labels = papers_main_field[\"Field0\"].values\n",
    "paper_ids = papers_main_field[\"PaperId\"].values\n",
    "x_full = []\n",
    "x_reduced = []\n"
   ]
  },
  {
   "cell_type": "code",
   "execution_count": 237,
   "id": "e1ff0841-11e5-45c3-8334-7fd115f0b81e",
   "metadata": {},
   "outputs": [],
   "source": [
    "for paperid in paper_ids:\n",
    "    row_index = row_to_index[paperid]\n",
    "    x_full.append(papers_fields_sparse[row_index, :])\n",
    "    x_reduced.append(embs[row_index, :])"
   ]
  },
  {
   "cell_type": "code",
   "execution_count": 238,
   "id": "43c4164a-1737-4f15-851b-8d77d56fc2b6",
   "metadata": {},
   "outputs": [],
   "source": [
    "x_full = scipy.sparse.vstack(x_full)\n",
    "x_reduced = np.array(x_reduced)"
   ]
  },
  {
   "cell_type": "code",
   "execution_count": 239,
   "id": "6696daa9-6703-42d6-90ec-762d3b295c3d",
   "metadata": {},
   "outputs": [
    {
     "data": {
      "text/plain": [
       "(10000, 1024)"
      ]
     },
     "execution_count": 239,
     "metadata": {},
     "output_type": "execute_result"
    }
   ],
   "source": [
    "x_reduced.shape"
   ]
  },
  {
   "cell_type": "code",
   "execution_count": 240,
   "id": "6773eb31-1f21-41b0-bc0c-cf404226bd4f",
   "metadata": {},
   "outputs": [
    {
     "data": {
      "text/plain": [
       "(10000, 137499)"
      ]
     },
     "execution_count": 240,
     "metadata": {},
     "output_type": "execute_result"
    }
   ],
   "source": [
    "x_full.shape"
   ]
  },
  {
   "cell_type": "code",
   "execution_count": 249,
   "id": "b65e0368-b900-4f23-b720-ceac9b393272",
   "metadata": {},
   "outputs": [],
   "source": [
    "from sklearn.neighbors import KNeighborsClassifier\n",
    "from sklearn.model_selection import cross_val_score\n"
   ]
  },
  {
   "cell_type": "code",
   "execution_count": 253,
   "id": "dbe262ba-dc68-4d2c-9fc6-78cbda4c43ce",
   "metadata": {},
   "outputs": [],
   "source": [
    "n_neighbors = 50\n",
    "neigh = KNeighborsClassifier(n_neighbors=n_neighbors)\n",
    "# neigh_reduced = KNeighborsClassifier(n_neighbors=n_neighbors)"
   ]
  },
  {
   "cell_type": "code",
   "execution_count": 247,
   "id": "bcc78bac-9cb1-402a-b767-39a756b26c94",
   "metadata": {},
   "outputs": [
    {
     "data": {
      "text/html": [
       "<style>#sk-container-id-3 {\n",
       "  /* Definition of color scheme common for light and dark mode */\n",
       "  --sklearn-color-text: black;\n",
       "  --sklearn-color-line: gray;\n",
       "  /* Definition of color scheme for unfitted estimators */\n",
       "  --sklearn-color-unfitted-level-0: #fff5e6;\n",
       "  --sklearn-color-unfitted-level-1: #f6e4d2;\n",
       "  --sklearn-color-unfitted-level-2: #ffe0b3;\n",
       "  --sklearn-color-unfitted-level-3: chocolate;\n",
       "  /* Definition of color scheme for fitted estimators */\n",
       "  --sklearn-color-fitted-level-0: #f0f8ff;\n",
       "  --sklearn-color-fitted-level-1: #d4ebff;\n",
       "  --sklearn-color-fitted-level-2: #b3dbfd;\n",
       "  --sklearn-color-fitted-level-3: cornflowerblue;\n",
       "\n",
       "  /* Specific color for light theme */\n",
       "  --sklearn-color-text-on-default-background: var(--sg-text-color, var(--theme-code-foreground, var(--jp-content-font-color1, black)));\n",
       "  --sklearn-color-background: var(--sg-background-color, var(--theme-background, var(--jp-layout-color0, white)));\n",
       "  --sklearn-color-border-box: var(--sg-text-color, var(--theme-code-foreground, var(--jp-content-font-color1, black)));\n",
       "  --sklearn-color-icon: #696969;\n",
       "\n",
       "  @media (prefers-color-scheme: dark) {\n",
       "    /* Redefinition of color scheme for dark theme */\n",
       "    --sklearn-color-text-on-default-background: var(--sg-text-color, var(--theme-code-foreground, var(--jp-content-font-color1, white)));\n",
       "    --sklearn-color-background: var(--sg-background-color, var(--theme-background, var(--jp-layout-color0, #111)));\n",
       "    --sklearn-color-border-box: var(--sg-text-color, var(--theme-code-foreground, var(--jp-content-font-color1, white)));\n",
       "    --sklearn-color-icon: #878787;\n",
       "  }\n",
       "}\n",
       "\n",
       "#sk-container-id-3 {\n",
       "  color: var(--sklearn-color-text);\n",
       "}\n",
       "\n",
       "#sk-container-id-3 pre {\n",
       "  padding: 0;\n",
       "}\n",
       "\n",
       "#sk-container-id-3 input.sk-hidden--visually {\n",
       "  border: 0;\n",
       "  clip: rect(1px 1px 1px 1px);\n",
       "  clip: rect(1px, 1px, 1px, 1px);\n",
       "  height: 1px;\n",
       "  margin: -1px;\n",
       "  overflow: hidden;\n",
       "  padding: 0;\n",
       "  position: absolute;\n",
       "  width: 1px;\n",
       "}\n",
       "\n",
       "#sk-container-id-3 div.sk-dashed-wrapped {\n",
       "  border: 1px dashed var(--sklearn-color-line);\n",
       "  margin: 0 0.4em 0.5em 0.4em;\n",
       "  box-sizing: border-box;\n",
       "  padding-bottom: 0.4em;\n",
       "  background-color: var(--sklearn-color-background);\n",
       "}\n",
       "\n",
       "#sk-container-id-3 div.sk-container {\n",
       "  /* jupyter's `normalize.less` sets `[hidden] { display: none; }`\n",
       "     but bootstrap.min.css set `[hidden] { display: none !important; }`\n",
       "     so we also need the `!important` here to be able to override the\n",
       "     default hidden behavior on the sphinx rendered scikit-learn.org.\n",
       "     See: https://github.com/scikit-learn/scikit-learn/issues/21755 */\n",
       "  display: inline-block !important;\n",
       "  position: relative;\n",
       "}\n",
       "\n",
       "#sk-container-id-3 div.sk-text-repr-fallback {\n",
       "  display: none;\n",
       "}\n",
       "\n",
       "div.sk-parallel-item,\n",
       "div.sk-serial,\n",
       "div.sk-item {\n",
       "  /* draw centered vertical line to link estimators */\n",
       "  background-image: linear-gradient(var(--sklearn-color-text-on-default-background), var(--sklearn-color-text-on-default-background));\n",
       "  background-size: 2px 100%;\n",
       "  background-repeat: no-repeat;\n",
       "  background-position: center center;\n",
       "}\n",
       "\n",
       "/* Parallel-specific style estimator block */\n",
       "\n",
       "#sk-container-id-3 div.sk-parallel-item::after {\n",
       "  content: \"\";\n",
       "  width: 100%;\n",
       "  border-bottom: 2px solid var(--sklearn-color-text-on-default-background);\n",
       "  flex-grow: 1;\n",
       "}\n",
       "\n",
       "#sk-container-id-3 div.sk-parallel {\n",
       "  display: flex;\n",
       "  align-items: stretch;\n",
       "  justify-content: center;\n",
       "  background-color: var(--sklearn-color-background);\n",
       "  position: relative;\n",
       "}\n",
       "\n",
       "#sk-container-id-3 div.sk-parallel-item {\n",
       "  display: flex;\n",
       "  flex-direction: column;\n",
       "}\n",
       "\n",
       "#sk-container-id-3 div.sk-parallel-item:first-child::after {\n",
       "  align-self: flex-end;\n",
       "  width: 50%;\n",
       "}\n",
       "\n",
       "#sk-container-id-3 div.sk-parallel-item:last-child::after {\n",
       "  align-self: flex-start;\n",
       "  width: 50%;\n",
       "}\n",
       "\n",
       "#sk-container-id-3 div.sk-parallel-item:only-child::after {\n",
       "  width: 0;\n",
       "}\n",
       "\n",
       "/* Serial-specific style estimator block */\n",
       "\n",
       "#sk-container-id-3 div.sk-serial {\n",
       "  display: flex;\n",
       "  flex-direction: column;\n",
       "  align-items: center;\n",
       "  background-color: var(--sklearn-color-background);\n",
       "  padding-right: 1em;\n",
       "  padding-left: 1em;\n",
       "}\n",
       "\n",
       "\n",
       "/* Toggleable style: style used for estimator/Pipeline/ColumnTransformer box that is\n",
       "clickable and can be expanded/collapsed.\n",
       "- Pipeline and ColumnTransformer use this feature and define the default style\n",
       "- Estimators will overwrite some part of the style using the `sk-estimator` class\n",
       "*/\n",
       "\n",
       "/* Pipeline and ColumnTransformer style (default) */\n",
       "\n",
       "#sk-container-id-3 div.sk-toggleable {\n",
       "  /* Default theme specific background. It is overwritten whether we have a\n",
       "  specific estimator or a Pipeline/ColumnTransformer */\n",
       "  background-color: var(--sklearn-color-background);\n",
       "}\n",
       "\n",
       "/* Toggleable label */\n",
       "#sk-container-id-3 label.sk-toggleable__label {\n",
       "  cursor: pointer;\n",
       "  display: block;\n",
       "  width: 100%;\n",
       "  margin-bottom: 0;\n",
       "  padding: 0.5em;\n",
       "  box-sizing: border-box;\n",
       "  text-align: center;\n",
       "}\n",
       "\n",
       "#sk-container-id-3 label.sk-toggleable__label-arrow:before {\n",
       "  /* Arrow on the left of the label */\n",
       "  content: \"▸\";\n",
       "  float: left;\n",
       "  margin-right: 0.25em;\n",
       "  color: var(--sklearn-color-icon);\n",
       "}\n",
       "\n",
       "#sk-container-id-3 label.sk-toggleable__label-arrow:hover:before {\n",
       "  color: var(--sklearn-color-text);\n",
       "}\n",
       "\n",
       "/* Toggleable content - dropdown */\n",
       "\n",
       "#sk-container-id-3 div.sk-toggleable__content {\n",
       "  max-height: 0;\n",
       "  max-width: 0;\n",
       "  overflow: hidden;\n",
       "  text-align: left;\n",
       "  /* unfitted */\n",
       "  background-color: var(--sklearn-color-unfitted-level-0);\n",
       "}\n",
       "\n",
       "#sk-container-id-3 div.sk-toggleable__content.fitted {\n",
       "  /* fitted */\n",
       "  background-color: var(--sklearn-color-fitted-level-0);\n",
       "}\n",
       "\n",
       "#sk-container-id-3 div.sk-toggleable__content pre {\n",
       "  margin: 0.2em;\n",
       "  border-radius: 0.25em;\n",
       "  color: var(--sklearn-color-text);\n",
       "  /* unfitted */\n",
       "  background-color: var(--sklearn-color-unfitted-level-0);\n",
       "}\n",
       "\n",
       "#sk-container-id-3 div.sk-toggleable__content.fitted pre {\n",
       "  /* unfitted */\n",
       "  background-color: var(--sklearn-color-fitted-level-0);\n",
       "}\n",
       "\n",
       "#sk-container-id-3 input.sk-toggleable__control:checked~div.sk-toggleable__content {\n",
       "  /* Expand drop-down */\n",
       "  max-height: 200px;\n",
       "  max-width: 100%;\n",
       "  overflow: auto;\n",
       "}\n",
       "\n",
       "#sk-container-id-3 input.sk-toggleable__control:checked~label.sk-toggleable__label-arrow:before {\n",
       "  content: \"▾\";\n",
       "}\n",
       "\n",
       "/* Pipeline/ColumnTransformer-specific style */\n",
       "\n",
       "#sk-container-id-3 div.sk-label input.sk-toggleable__control:checked~label.sk-toggleable__label {\n",
       "  color: var(--sklearn-color-text);\n",
       "  background-color: var(--sklearn-color-unfitted-level-2);\n",
       "}\n",
       "\n",
       "#sk-container-id-3 div.sk-label.fitted input.sk-toggleable__control:checked~label.sk-toggleable__label {\n",
       "  background-color: var(--sklearn-color-fitted-level-2);\n",
       "}\n",
       "\n",
       "/* Estimator-specific style */\n",
       "\n",
       "/* Colorize estimator box */\n",
       "#sk-container-id-3 div.sk-estimator input.sk-toggleable__control:checked~label.sk-toggleable__label {\n",
       "  /* unfitted */\n",
       "  background-color: var(--sklearn-color-unfitted-level-2);\n",
       "}\n",
       "\n",
       "#sk-container-id-3 div.sk-estimator.fitted input.sk-toggleable__control:checked~label.sk-toggleable__label {\n",
       "  /* fitted */\n",
       "  background-color: var(--sklearn-color-fitted-level-2);\n",
       "}\n",
       "\n",
       "#sk-container-id-3 div.sk-label label.sk-toggleable__label,\n",
       "#sk-container-id-3 div.sk-label label {\n",
       "  /* The background is the default theme color */\n",
       "  color: var(--sklearn-color-text-on-default-background);\n",
       "}\n",
       "\n",
       "/* On hover, darken the color of the background */\n",
       "#sk-container-id-3 div.sk-label:hover label.sk-toggleable__label {\n",
       "  color: var(--sklearn-color-text);\n",
       "  background-color: var(--sklearn-color-unfitted-level-2);\n",
       "}\n",
       "\n",
       "/* Label box, darken color on hover, fitted */\n",
       "#sk-container-id-3 div.sk-label.fitted:hover label.sk-toggleable__label.fitted {\n",
       "  color: var(--sklearn-color-text);\n",
       "  background-color: var(--sklearn-color-fitted-level-2);\n",
       "}\n",
       "\n",
       "/* Estimator label */\n",
       "\n",
       "#sk-container-id-3 div.sk-label label {\n",
       "  font-family: monospace;\n",
       "  font-weight: bold;\n",
       "  display: inline-block;\n",
       "  line-height: 1.2em;\n",
       "}\n",
       "\n",
       "#sk-container-id-3 div.sk-label-container {\n",
       "  text-align: center;\n",
       "}\n",
       "\n",
       "/* Estimator-specific */\n",
       "#sk-container-id-3 div.sk-estimator {\n",
       "  font-family: monospace;\n",
       "  border: 1px dotted var(--sklearn-color-border-box);\n",
       "  border-radius: 0.25em;\n",
       "  box-sizing: border-box;\n",
       "  margin-bottom: 0.5em;\n",
       "  /* unfitted */\n",
       "  background-color: var(--sklearn-color-unfitted-level-0);\n",
       "}\n",
       "\n",
       "#sk-container-id-3 div.sk-estimator.fitted {\n",
       "  /* fitted */\n",
       "  background-color: var(--sklearn-color-fitted-level-0);\n",
       "}\n",
       "\n",
       "/* on hover */\n",
       "#sk-container-id-3 div.sk-estimator:hover {\n",
       "  /* unfitted */\n",
       "  background-color: var(--sklearn-color-unfitted-level-2);\n",
       "}\n",
       "\n",
       "#sk-container-id-3 div.sk-estimator.fitted:hover {\n",
       "  /* fitted */\n",
       "  background-color: var(--sklearn-color-fitted-level-2);\n",
       "}\n",
       "\n",
       "/* Specification for estimator info (e.g. \"i\" and \"?\") */\n",
       "\n",
       "/* Common style for \"i\" and \"?\" */\n",
       "\n",
       ".sk-estimator-doc-link,\n",
       "a:link.sk-estimator-doc-link,\n",
       "a:visited.sk-estimator-doc-link {\n",
       "  float: right;\n",
       "  font-size: smaller;\n",
       "  line-height: 1em;\n",
       "  font-family: monospace;\n",
       "  background-color: var(--sklearn-color-background);\n",
       "  border-radius: 1em;\n",
       "  height: 1em;\n",
       "  width: 1em;\n",
       "  text-decoration: none !important;\n",
       "  margin-left: 1ex;\n",
       "  /* unfitted */\n",
       "  border: var(--sklearn-color-unfitted-level-1) 1pt solid;\n",
       "  color: var(--sklearn-color-unfitted-level-1);\n",
       "}\n",
       "\n",
       ".sk-estimator-doc-link.fitted,\n",
       "a:link.sk-estimator-doc-link.fitted,\n",
       "a:visited.sk-estimator-doc-link.fitted {\n",
       "  /* fitted */\n",
       "  border: var(--sklearn-color-fitted-level-1) 1pt solid;\n",
       "  color: var(--sklearn-color-fitted-level-1);\n",
       "}\n",
       "\n",
       "/* On hover */\n",
       "div.sk-estimator:hover .sk-estimator-doc-link:hover,\n",
       ".sk-estimator-doc-link:hover,\n",
       "div.sk-label-container:hover .sk-estimator-doc-link:hover,\n",
       ".sk-estimator-doc-link:hover {\n",
       "  /* unfitted */\n",
       "  background-color: var(--sklearn-color-unfitted-level-3);\n",
       "  color: var(--sklearn-color-background);\n",
       "  text-decoration: none;\n",
       "}\n",
       "\n",
       "div.sk-estimator.fitted:hover .sk-estimator-doc-link.fitted:hover,\n",
       ".sk-estimator-doc-link.fitted:hover,\n",
       "div.sk-label-container:hover .sk-estimator-doc-link.fitted:hover,\n",
       ".sk-estimator-doc-link.fitted:hover {\n",
       "  /* fitted */\n",
       "  background-color: var(--sklearn-color-fitted-level-3);\n",
       "  color: var(--sklearn-color-background);\n",
       "  text-decoration: none;\n",
       "}\n",
       "\n",
       "/* Span, style for the box shown on hovering the info icon */\n",
       ".sk-estimator-doc-link span {\n",
       "  display: none;\n",
       "  z-index: 9999;\n",
       "  position: relative;\n",
       "  font-weight: normal;\n",
       "  right: .2ex;\n",
       "  padding: .5ex;\n",
       "  margin: .5ex;\n",
       "  width: min-content;\n",
       "  min-width: 20ex;\n",
       "  max-width: 50ex;\n",
       "  color: var(--sklearn-color-text);\n",
       "  box-shadow: 2pt 2pt 4pt #999;\n",
       "  /* unfitted */\n",
       "  background: var(--sklearn-color-unfitted-level-0);\n",
       "  border: .5pt solid var(--sklearn-color-unfitted-level-3);\n",
       "}\n",
       "\n",
       ".sk-estimator-doc-link.fitted span {\n",
       "  /* fitted */\n",
       "  background: var(--sklearn-color-fitted-level-0);\n",
       "  border: var(--sklearn-color-fitted-level-3);\n",
       "}\n",
       "\n",
       ".sk-estimator-doc-link:hover span {\n",
       "  display: block;\n",
       "}\n",
       "\n",
       "/* \"?\"-specific style due to the `<a>` HTML tag */\n",
       "\n",
       "#sk-container-id-3 a.estimator_doc_link {\n",
       "  float: right;\n",
       "  font-size: 1rem;\n",
       "  line-height: 1em;\n",
       "  font-family: monospace;\n",
       "  background-color: var(--sklearn-color-background);\n",
       "  border-radius: 1rem;\n",
       "  height: 1rem;\n",
       "  width: 1rem;\n",
       "  text-decoration: none;\n",
       "  /* unfitted */\n",
       "  color: var(--sklearn-color-unfitted-level-1);\n",
       "  border: var(--sklearn-color-unfitted-level-1) 1pt solid;\n",
       "}\n",
       "\n",
       "#sk-container-id-3 a.estimator_doc_link.fitted {\n",
       "  /* fitted */\n",
       "  border: var(--sklearn-color-fitted-level-1) 1pt solid;\n",
       "  color: var(--sklearn-color-fitted-level-1);\n",
       "}\n",
       "\n",
       "/* On hover */\n",
       "#sk-container-id-3 a.estimator_doc_link:hover {\n",
       "  /* unfitted */\n",
       "  background-color: var(--sklearn-color-unfitted-level-3);\n",
       "  color: var(--sklearn-color-background);\n",
       "  text-decoration: none;\n",
       "}\n",
       "\n",
       "#sk-container-id-3 a.estimator_doc_link.fitted:hover {\n",
       "  /* fitted */\n",
       "  background-color: var(--sklearn-color-fitted-level-3);\n",
       "}\n",
       "</style><div id=\"sk-container-id-3\" class=\"sk-top-container\"><div class=\"sk-text-repr-fallback\"><pre>KNeighborsClassifier()</pre><b>In a Jupyter environment, please rerun this cell to show the HTML representation or trust the notebook. <br />On GitHub, the HTML representation is unable to render, please try loading this page with nbviewer.org.</b></div><div class=\"sk-container\" hidden><div class=\"sk-item\"><div class=\"sk-estimator fitted sk-toggleable\"><input class=\"sk-toggleable__control sk-hidden--visually\" id=\"sk-estimator-id-3\" type=\"checkbox\" checked><label for=\"sk-estimator-id-3\" class=\"sk-toggleable__label fitted sk-toggleable__label-arrow fitted\">&nbsp;&nbsp;KNeighborsClassifier<a class=\"sk-estimator-doc-link fitted\" rel=\"noreferrer\" target=\"_blank\" href=\"https://scikit-learn.org/1.5/modules/generated/sklearn.neighbors.KNeighborsClassifier.html\">?<span>Documentation for KNeighborsClassifier</span></a><span class=\"sk-estimator-doc-link fitted\">i<span>Fitted</span></span></label><div class=\"sk-toggleable__content fitted\"><pre>KNeighborsClassifier()</pre></div> </div></div></div></div>"
      ],
      "text/plain": [
       "KNeighborsClassifier()"
      ]
     },
     "execution_count": 247,
     "metadata": {},
     "output_type": "execute_result"
    }
   ],
   "source": [
    "# neigh_full.fit(x_full, labels)"
   ]
  },
  {
   "cell_type": "code",
   "execution_count": 248,
   "id": "a08d269d-272e-40ce-a14b-dc33193ea796",
   "metadata": {},
   "outputs": [
    {
     "data": {
      "text/html": [
       "<style>#sk-container-id-4 {\n",
       "  /* Definition of color scheme common for light and dark mode */\n",
       "  --sklearn-color-text: black;\n",
       "  --sklearn-color-line: gray;\n",
       "  /* Definition of color scheme for unfitted estimators */\n",
       "  --sklearn-color-unfitted-level-0: #fff5e6;\n",
       "  --sklearn-color-unfitted-level-1: #f6e4d2;\n",
       "  --sklearn-color-unfitted-level-2: #ffe0b3;\n",
       "  --sklearn-color-unfitted-level-3: chocolate;\n",
       "  /* Definition of color scheme for fitted estimators */\n",
       "  --sklearn-color-fitted-level-0: #f0f8ff;\n",
       "  --sklearn-color-fitted-level-1: #d4ebff;\n",
       "  --sklearn-color-fitted-level-2: #b3dbfd;\n",
       "  --sklearn-color-fitted-level-3: cornflowerblue;\n",
       "\n",
       "  /* Specific color for light theme */\n",
       "  --sklearn-color-text-on-default-background: var(--sg-text-color, var(--theme-code-foreground, var(--jp-content-font-color1, black)));\n",
       "  --sklearn-color-background: var(--sg-background-color, var(--theme-background, var(--jp-layout-color0, white)));\n",
       "  --sklearn-color-border-box: var(--sg-text-color, var(--theme-code-foreground, var(--jp-content-font-color1, black)));\n",
       "  --sklearn-color-icon: #696969;\n",
       "\n",
       "  @media (prefers-color-scheme: dark) {\n",
       "    /* Redefinition of color scheme for dark theme */\n",
       "    --sklearn-color-text-on-default-background: var(--sg-text-color, var(--theme-code-foreground, var(--jp-content-font-color1, white)));\n",
       "    --sklearn-color-background: var(--sg-background-color, var(--theme-background, var(--jp-layout-color0, #111)));\n",
       "    --sklearn-color-border-box: var(--sg-text-color, var(--theme-code-foreground, var(--jp-content-font-color1, white)));\n",
       "    --sklearn-color-icon: #878787;\n",
       "  }\n",
       "}\n",
       "\n",
       "#sk-container-id-4 {\n",
       "  color: var(--sklearn-color-text);\n",
       "}\n",
       "\n",
       "#sk-container-id-4 pre {\n",
       "  padding: 0;\n",
       "}\n",
       "\n",
       "#sk-container-id-4 input.sk-hidden--visually {\n",
       "  border: 0;\n",
       "  clip: rect(1px 1px 1px 1px);\n",
       "  clip: rect(1px, 1px, 1px, 1px);\n",
       "  height: 1px;\n",
       "  margin: -1px;\n",
       "  overflow: hidden;\n",
       "  padding: 0;\n",
       "  position: absolute;\n",
       "  width: 1px;\n",
       "}\n",
       "\n",
       "#sk-container-id-4 div.sk-dashed-wrapped {\n",
       "  border: 1px dashed var(--sklearn-color-line);\n",
       "  margin: 0 0.4em 0.5em 0.4em;\n",
       "  box-sizing: border-box;\n",
       "  padding-bottom: 0.4em;\n",
       "  background-color: var(--sklearn-color-background);\n",
       "}\n",
       "\n",
       "#sk-container-id-4 div.sk-container {\n",
       "  /* jupyter's `normalize.less` sets `[hidden] { display: none; }`\n",
       "     but bootstrap.min.css set `[hidden] { display: none !important; }`\n",
       "     so we also need the `!important` here to be able to override the\n",
       "     default hidden behavior on the sphinx rendered scikit-learn.org.\n",
       "     See: https://github.com/scikit-learn/scikit-learn/issues/21755 */\n",
       "  display: inline-block !important;\n",
       "  position: relative;\n",
       "}\n",
       "\n",
       "#sk-container-id-4 div.sk-text-repr-fallback {\n",
       "  display: none;\n",
       "}\n",
       "\n",
       "div.sk-parallel-item,\n",
       "div.sk-serial,\n",
       "div.sk-item {\n",
       "  /* draw centered vertical line to link estimators */\n",
       "  background-image: linear-gradient(var(--sklearn-color-text-on-default-background), var(--sklearn-color-text-on-default-background));\n",
       "  background-size: 2px 100%;\n",
       "  background-repeat: no-repeat;\n",
       "  background-position: center center;\n",
       "}\n",
       "\n",
       "/* Parallel-specific style estimator block */\n",
       "\n",
       "#sk-container-id-4 div.sk-parallel-item::after {\n",
       "  content: \"\";\n",
       "  width: 100%;\n",
       "  border-bottom: 2px solid var(--sklearn-color-text-on-default-background);\n",
       "  flex-grow: 1;\n",
       "}\n",
       "\n",
       "#sk-container-id-4 div.sk-parallel {\n",
       "  display: flex;\n",
       "  align-items: stretch;\n",
       "  justify-content: center;\n",
       "  background-color: var(--sklearn-color-background);\n",
       "  position: relative;\n",
       "}\n",
       "\n",
       "#sk-container-id-4 div.sk-parallel-item {\n",
       "  display: flex;\n",
       "  flex-direction: column;\n",
       "}\n",
       "\n",
       "#sk-container-id-4 div.sk-parallel-item:first-child::after {\n",
       "  align-self: flex-end;\n",
       "  width: 50%;\n",
       "}\n",
       "\n",
       "#sk-container-id-4 div.sk-parallel-item:last-child::after {\n",
       "  align-self: flex-start;\n",
       "  width: 50%;\n",
       "}\n",
       "\n",
       "#sk-container-id-4 div.sk-parallel-item:only-child::after {\n",
       "  width: 0;\n",
       "}\n",
       "\n",
       "/* Serial-specific style estimator block */\n",
       "\n",
       "#sk-container-id-4 div.sk-serial {\n",
       "  display: flex;\n",
       "  flex-direction: column;\n",
       "  align-items: center;\n",
       "  background-color: var(--sklearn-color-background);\n",
       "  padding-right: 1em;\n",
       "  padding-left: 1em;\n",
       "}\n",
       "\n",
       "\n",
       "/* Toggleable style: style used for estimator/Pipeline/ColumnTransformer box that is\n",
       "clickable and can be expanded/collapsed.\n",
       "- Pipeline and ColumnTransformer use this feature and define the default style\n",
       "- Estimators will overwrite some part of the style using the `sk-estimator` class\n",
       "*/\n",
       "\n",
       "/* Pipeline and ColumnTransformer style (default) */\n",
       "\n",
       "#sk-container-id-4 div.sk-toggleable {\n",
       "  /* Default theme specific background. It is overwritten whether we have a\n",
       "  specific estimator or a Pipeline/ColumnTransformer */\n",
       "  background-color: var(--sklearn-color-background);\n",
       "}\n",
       "\n",
       "/* Toggleable label */\n",
       "#sk-container-id-4 label.sk-toggleable__label {\n",
       "  cursor: pointer;\n",
       "  display: block;\n",
       "  width: 100%;\n",
       "  margin-bottom: 0;\n",
       "  padding: 0.5em;\n",
       "  box-sizing: border-box;\n",
       "  text-align: center;\n",
       "}\n",
       "\n",
       "#sk-container-id-4 label.sk-toggleable__label-arrow:before {\n",
       "  /* Arrow on the left of the label */\n",
       "  content: \"▸\";\n",
       "  float: left;\n",
       "  margin-right: 0.25em;\n",
       "  color: var(--sklearn-color-icon);\n",
       "}\n",
       "\n",
       "#sk-container-id-4 label.sk-toggleable__label-arrow:hover:before {\n",
       "  color: var(--sklearn-color-text);\n",
       "}\n",
       "\n",
       "/* Toggleable content - dropdown */\n",
       "\n",
       "#sk-container-id-4 div.sk-toggleable__content {\n",
       "  max-height: 0;\n",
       "  max-width: 0;\n",
       "  overflow: hidden;\n",
       "  text-align: left;\n",
       "  /* unfitted */\n",
       "  background-color: var(--sklearn-color-unfitted-level-0);\n",
       "}\n",
       "\n",
       "#sk-container-id-4 div.sk-toggleable__content.fitted {\n",
       "  /* fitted */\n",
       "  background-color: var(--sklearn-color-fitted-level-0);\n",
       "}\n",
       "\n",
       "#sk-container-id-4 div.sk-toggleable__content pre {\n",
       "  margin: 0.2em;\n",
       "  border-radius: 0.25em;\n",
       "  color: var(--sklearn-color-text);\n",
       "  /* unfitted */\n",
       "  background-color: var(--sklearn-color-unfitted-level-0);\n",
       "}\n",
       "\n",
       "#sk-container-id-4 div.sk-toggleable__content.fitted pre {\n",
       "  /* unfitted */\n",
       "  background-color: var(--sklearn-color-fitted-level-0);\n",
       "}\n",
       "\n",
       "#sk-container-id-4 input.sk-toggleable__control:checked~div.sk-toggleable__content {\n",
       "  /* Expand drop-down */\n",
       "  max-height: 200px;\n",
       "  max-width: 100%;\n",
       "  overflow: auto;\n",
       "}\n",
       "\n",
       "#sk-container-id-4 input.sk-toggleable__control:checked~label.sk-toggleable__label-arrow:before {\n",
       "  content: \"▾\";\n",
       "}\n",
       "\n",
       "/* Pipeline/ColumnTransformer-specific style */\n",
       "\n",
       "#sk-container-id-4 div.sk-label input.sk-toggleable__control:checked~label.sk-toggleable__label {\n",
       "  color: var(--sklearn-color-text);\n",
       "  background-color: var(--sklearn-color-unfitted-level-2);\n",
       "}\n",
       "\n",
       "#sk-container-id-4 div.sk-label.fitted input.sk-toggleable__control:checked~label.sk-toggleable__label {\n",
       "  background-color: var(--sklearn-color-fitted-level-2);\n",
       "}\n",
       "\n",
       "/* Estimator-specific style */\n",
       "\n",
       "/* Colorize estimator box */\n",
       "#sk-container-id-4 div.sk-estimator input.sk-toggleable__control:checked~label.sk-toggleable__label {\n",
       "  /* unfitted */\n",
       "  background-color: var(--sklearn-color-unfitted-level-2);\n",
       "}\n",
       "\n",
       "#sk-container-id-4 div.sk-estimator.fitted input.sk-toggleable__control:checked~label.sk-toggleable__label {\n",
       "  /* fitted */\n",
       "  background-color: var(--sklearn-color-fitted-level-2);\n",
       "}\n",
       "\n",
       "#sk-container-id-4 div.sk-label label.sk-toggleable__label,\n",
       "#sk-container-id-4 div.sk-label label {\n",
       "  /* The background is the default theme color */\n",
       "  color: var(--sklearn-color-text-on-default-background);\n",
       "}\n",
       "\n",
       "/* On hover, darken the color of the background */\n",
       "#sk-container-id-4 div.sk-label:hover label.sk-toggleable__label {\n",
       "  color: var(--sklearn-color-text);\n",
       "  background-color: var(--sklearn-color-unfitted-level-2);\n",
       "}\n",
       "\n",
       "/* Label box, darken color on hover, fitted */\n",
       "#sk-container-id-4 div.sk-label.fitted:hover label.sk-toggleable__label.fitted {\n",
       "  color: var(--sklearn-color-text);\n",
       "  background-color: var(--sklearn-color-fitted-level-2);\n",
       "}\n",
       "\n",
       "/* Estimator label */\n",
       "\n",
       "#sk-container-id-4 div.sk-label label {\n",
       "  font-family: monospace;\n",
       "  font-weight: bold;\n",
       "  display: inline-block;\n",
       "  line-height: 1.2em;\n",
       "}\n",
       "\n",
       "#sk-container-id-4 div.sk-label-container {\n",
       "  text-align: center;\n",
       "}\n",
       "\n",
       "/* Estimator-specific */\n",
       "#sk-container-id-4 div.sk-estimator {\n",
       "  font-family: monospace;\n",
       "  border: 1px dotted var(--sklearn-color-border-box);\n",
       "  border-radius: 0.25em;\n",
       "  box-sizing: border-box;\n",
       "  margin-bottom: 0.5em;\n",
       "  /* unfitted */\n",
       "  background-color: var(--sklearn-color-unfitted-level-0);\n",
       "}\n",
       "\n",
       "#sk-container-id-4 div.sk-estimator.fitted {\n",
       "  /* fitted */\n",
       "  background-color: var(--sklearn-color-fitted-level-0);\n",
       "}\n",
       "\n",
       "/* on hover */\n",
       "#sk-container-id-4 div.sk-estimator:hover {\n",
       "  /* unfitted */\n",
       "  background-color: var(--sklearn-color-unfitted-level-2);\n",
       "}\n",
       "\n",
       "#sk-container-id-4 div.sk-estimator.fitted:hover {\n",
       "  /* fitted */\n",
       "  background-color: var(--sklearn-color-fitted-level-2);\n",
       "}\n",
       "\n",
       "/* Specification for estimator info (e.g. \"i\" and \"?\") */\n",
       "\n",
       "/* Common style for \"i\" and \"?\" */\n",
       "\n",
       ".sk-estimator-doc-link,\n",
       "a:link.sk-estimator-doc-link,\n",
       "a:visited.sk-estimator-doc-link {\n",
       "  float: right;\n",
       "  font-size: smaller;\n",
       "  line-height: 1em;\n",
       "  font-family: monospace;\n",
       "  background-color: var(--sklearn-color-background);\n",
       "  border-radius: 1em;\n",
       "  height: 1em;\n",
       "  width: 1em;\n",
       "  text-decoration: none !important;\n",
       "  margin-left: 1ex;\n",
       "  /* unfitted */\n",
       "  border: var(--sklearn-color-unfitted-level-1) 1pt solid;\n",
       "  color: var(--sklearn-color-unfitted-level-1);\n",
       "}\n",
       "\n",
       ".sk-estimator-doc-link.fitted,\n",
       "a:link.sk-estimator-doc-link.fitted,\n",
       "a:visited.sk-estimator-doc-link.fitted {\n",
       "  /* fitted */\n",
       "  border: var(--sklearn-color-fitted-level-1) 1pt solid;\n",
       "  color: var(--sklearn-color-fitted-level-1);\n",
       "}\n",
       "\n",
       "/* On hover */\n",
       "div.sk-estimator:hover .sk-estimator-doc-link:hover,\n",
       ".sk-estimator-doc-link:hover,\n",
       "div.sk-label-container:hover .sk-estimator-doc-link:hover,\n",
       ".sk-estimator-doc-link:hover {\n",
       "  /* unfitted */\n",
       "  background-color: var(--sklearn-color-unfitted-level-3);\n",
       "  color: var(--sklearn-color-background);\n",
       "  text-decoration: none;\n",
       "}\n",
       "\n",
       "div.sk-estimator.fitted:hover .sk-estimator-doc-link.fitted:hover,\n",
       ".sk-estimator-doc-link.fitted:hover,\n",
       "div.sk-label-container:hover .sk-estimator-doc-link.fitted:hover,\n",
       ".sk-estimator-doc-link.fitted:hover {\n",
       "  /* fitted */\n",
       "  background-color: var(--sklearn-color-fitted-level-3);\n",
       "  color: var(--sklearn-color-background);\n",
       "  text-decoration: none;\n",
       "}\n",
       "\n",
       "/* Span, style for the box shown on hovering the info icon */\n",
       ".sk-estimator-doc-link span {\n",
       "  display: none;\n",
       "  z-index: 9999;\n",
       "  position: relative;\n",
       "  font-weight: normal;\n",
       "  right: .2ex;\n",
       "  padding: .5ex;\n",
       "  margin: .5ex;\n",
       "  width: min-content;\n",
       "  min-width: 20ex;\n",
       "  max-width: 50ex;\n",
       "  color: var(--sklearn-color-text);\n",
       "  box-shadow: 2pt 2pt 4pt #999;\n",
       "  /* unfitted */\n",
       "  background: var(--sklearn-color-unfitted-level-0);\n",
       "  border: .5pt solid var(--sklearn-color-unfitted-level-3);\n",
       "}\n",
       "\n",
       ".sk-estimator-doc-link.fitted span {\n",
       "  /* fitted */\n",
       "  background: var(--sklearn-color-fitted-level-0);\n",
       "  border: var(--sklearn-color-fitted-level-3);\n",
       "}\n",
       "\n",
       ".sk-estimator-doc-link:hover span {\n",
       "  display: block;\n",
       "}\n",
       "\n",
       "/* \"?\"-specific style due to the `<a>` HTML tag */\n",
       "\n",
       "#sk-container-id-4 a.estimator_doc_link {\n",
       "  float: right;\n",
       "  font-size: 1rem;\n",
       "  line-height: 1em;\n",
       "  font-family: monospace;\n",
       "  background-color: var(--sklearn-color-background);\n",
       "  border-radius: 1rem;\n",
       "  height: 1rem;\n",
       "  width: 1rem;\n",
       "  text-decoration: none;\n",
       "  /* unfitted */\n",
       "  color: var(--sklearn-color-unfitted-level-1);\n",
       "  border: var(--sklearn-color-unfitted-level-1) 1pt solid;\n",
       "}\n",
       "\n",
       "#sk-container-id-4 a.estimator_doc_link.fitted {\n",
       "  /* fitted */\n",
       "  border: var(--sklearn-color-fitted-level-1) 1pt solid;\n",
       "  color: var(--sklearn-color-fitted-level-1);\n",
       "}\n",
       "\n",
       "/* On hover */\n",
       "#sk-container-id-4 a.estimator_doc_link:hover {\n",
       "  /* unfitted */\n",
       "  background-color: var(--sklearn-color-unfitted-level-3);\n",
       "  color: var(--sklearn-color-background);\n",
       "  text-decoration: none;\n",
       "}\n",
       "\n",
       "#sk-container-id-4 a.estimator_doc_link.fitted:hover {\n",
       "  /* fitted */\n",
       "  background-color: var(--sklearn-color-fitted-level-3);\n",
       "}\n",
       "</style><div id=\"sk-container-id-4\" class=\"sk-top-container\"><div class=\"sk-text-repr-fallback\"><pre>KNeighborsClassifier()</pre><b>In a Jupyter environment, please rerun this cell to show the HTML representation or trust the notebook. <br />On GitHub, the HTML representation is unable to render, please try loading this page with nbviewer.org.</b></div><div class=\"sk-container\" hidden><div class=\"sk-item\"><div class=\"sk-estimator fitted sk-toggleable\"><input class=\"sk-toggleable__control sk-hidden--visually\" id=\"sk-estimator-id-4\" type=\"checkbox\" checked><label for=\"sk-estimator-id-4\" class=\"sk-toggleable__label fitted sk-toggleable__label-arrow fitted\">&nbsp;&nbsp;KNeighborsClassifier<a class=\"sk-estimator-doc-link fitted\" rel=\"noreferrer\" target=\"_blank\" href=\"https://scikit-learn.org/1.5/modules/generated/sklearn.neighbors.KNeighborsClassifier.html\">?<span>Documentation for KNeighborsClassifier</span></a><span class=\"sk-estimator-doc-link fitted\">i<span>Fitted</span></span></label><div class=\"sk-toggleable__content fitted\"><pre>KNeighborsClassifier()</pre></div> </div></div></div></div>"
      ],
      "text/plain": [
       "KNeighborsClassifier()"
      ]
     },
     "execution_count": 248,
     "metadata": {},
     "output_type": "execute_result"
    }
   ],
   "source": [
    "# neigh_reduced.fit(x_reduced, labels)"
   ]
  },
  {
   "cell_type": "code",
   "execution_count": null,
   "id": "74bcbe7d-04d1-4775-aacb-e1756cdf930c",
   "metadata": {},
   "outputs": [],
   "source": []
  },
  {
   "cell_type": "code",
   "execution_count": 254,
   "id": "bf2f2ec3-7bb3-44f4-aa45-ce8f91c759cb",
   "metadata": {},
   "outputs": [
    {
     "data": {
      "text/plain": [
       "array([0.626 , 0.6155, 0.6035, 0.616 , 0.621 ])"
      ]
     },
     "execution_count": 254,
     "metadata": {},
     "output_type": "execute_result"
    }
   ],
   "source": [
    "scores = cross_val_score(neigh, x_full, labels, cv=5)\n",
    "scores"
   ]
  },
  {
   "cell_type": "code",
   "execution_count": 255,
   "id": "f8a6dee5-59b1-4101-930b-a4a314aeb98e",
   "metadata": {},
   "outputs": [
    {
     "data": {
      "text/plain": [
       "array([0.6805, 0.678 , 0.6535, 0.6875, 0.6735])"
      ]
     },
     "execution_count": 255,
     "metadata": {},
     "output_type": "execute_result"
    }
   ],
   "source": [
    "scores = cross_val_score(neigh, x_reduced, labels, cv=5)\n",
    "scores"
   ]
  },
  {
   "cell_type": "code",
   "execution_count": 264,
   "id": "d4af1d56-f1ca-450c-a7c9-c400a267fe79",
   "metadata": {},
   "outputs": [
    {
     "data": {
      "text/plain": [
       "(932508, 137499)"
      ]
     },
     "execution_count": 264,
     "metadata": {},
     "output_type": "execute_result"
    }
   ],
   "source": [
    "papers_fields_sparse.shape\n",
    "# papers_fields_sparse[0].shape"
   ]
  },
  {
   "cell_type": "code",
   "execution_count": 277,
   "id": "87886fb6-fd29-4681-ba21-7e575f619da9",
   "metadata": {},
   "outputs": [
    {
     "data": {
      "text/plain": [
       "array([[0.23098882]], dtype=float32)"
      ]
     },
     "execution_count": 277,
     "metadata": {},
     "output_type": "execute_result"
    }
   ],
   "source": [
    "a = papers_fields_sparse[0]\n",
    "b = papers_fields_sparse[1]\n",
    "(a @ b.T).toarray() / np.sqrt((a.power(2).sum() * b.power(2).sum()))"
   ]
  },
  {
   "cell_type": "code",
   "execution_count": 299,
   "id": "14216950-15cf-481e-88f5-33128b1042cd",
   "metadata": {},
   "outputs": [],
   "source": [
    "def cosine_similarity(m, i, j):\n",
    "    a = m[i]\n",
    "    b = m[j]\n",
    "    ab = (a @ b.T)\n",
    "    if isinstance(ab, scipy.sparse._csr.csr_matrix):\n",
    "        ab = ab.toarray()\n",
    "        a = a.toarray()\n",
    "        b = b.toarray()\n",
    "\n",
    "    denominator = np.power(a, 2).sum() * np.power(b, 2).sum()\n",
    "    denominator = np.sqrt(denominator)\n",
    "    return ab / denominator\n"
   ]
  },
  {
   "cell_type": "code",
   "execution_count": 345,
   "id": "8be56d68-ee56-44d4-ba85-c3a64b49e9ba",
   "metadata": {},
   "outputs": [],
   "source": [
    "n = 1_000\n",
    "sim_full = []\n",
    "sim_reduced = []\n",
    "for _ in range(n):\n",
    "    n_vectors = papers_fields_sparse.shape[0]\n",
    "    i, j = np.random.choice(np.arange(n_vectors), 2)\n",
    "    while i == j:\n",
    "        i, j = np.random.choice(np.arange(n_vectors), 2)\n",
    "    sim = cosine_similarity(papers_fields_sparse, i, j)\n",
    "    sim_full.append(sim[0][0])\n",
    "    sim = cosine_similarity(embs, i, j)\n",
    "    sim_reduced.append(sim)\n",
    "\n",
    "sim_full = np.array(sim_full)\n",
    "sim_reduced = np.array(sim_reduced)\n",
    "    "
   ]
  },
  {
   "cell_type": "code",
   "execution_count": 343,
   "id": "2f55acc0-c6da-4fc4-b8e8-772ac2716875",
   "metadata": {},
   "outputs": [
    {
     "data": {
      "text/plain": [
       "np.float32(nan)"
      ]
     },
     "execution_count": 343,
     "metadata": {},
     "output_type": "execute_result"
    }
   ],
   "source": []
  },
  {
   "cell_type": "code",
   "execution_count": 346,
   "id": "5eff5330-52f5-4309-8c3f-6db93a97a8f7",
   "metadata": {},
   "outputs": [
    {
     "data": {
      "image/png": "[encoded data removed]",
      "text/plain": [
       "<Figure size 1000x600 with 1 Axes>"
      ]
     },
     "metadata": {},
     "output_type": "display_data"
    }
   ],
   "source": [
    "plt.figure(figsize=(10, 6))\n",
    "plt.hist(sim_full, bins=30, alpha=0.7, color='blue', label='Full')\n",
    "plt.hist(sim_reduced, bins=30, alpha=0.7, color='red', label='Reduced')\n",
    "# Customize the plot\n",
    "plt.title('Histogram of Two Arrays')\n",
    "plt.xlabel('Value')\n",
    "plt.ylabel('Frequency')\n",
    "\n",
    "# Add legend\n",
    "plt.legend()\n",
    "\n",
    "# Display the plot\n",
    "plt.show()\n"
   ]
  },
  {
   "cell_type": "code",
   "execution_count": 356,
   "id": "52d3292c-7ac2-4d38-bd04-d05b91e8a202",
   "metadata": {},
   "outputs": [
    {
     "data": {
      "text/plain": [
       "np.float32(1.0)"
      ]
     },
     "execution_count": 356,
     "metadata": {},
     "output_type": "execute_result"
    }
   ],
   "source": [
    "np.max(sim_full[np.where(sim_full > 0)])"
   ]
  },
  {
   "cell_type": "code",
   "execution_count": 355,
   "id": "41552c70-4d71-447b-b0f6-1502f4a9afbc",
   "metadata": {},
   "outputs": [
    {
     "data": {
      "text/plain": [
       "np.float32(1.0000001)"
      ]
     },
     "execution_count": 355,
     "metadata": {},
     "output_type": "execute_result"
    }
   ],
   "source": [
    "np.max(sim_reduced[np.where(sim_reduced > 0)])"
   ]
  },
  {
   "cell_type": "code",
   "execution_count": 357,
   "id": "cb479580-24da-4bc7-89f1-f886df8248b5",
   "metadata": {},
   "outputs": [
    {
     "data": {
      "text/plain": [
       "np.float32(0.02931619)"
      ]
     },
     "execution_count": 357,
     "metadata": {},
     "output_type": "execute_result"
    }
   ],
   "source": [
    "sim_reduced.mean()"
   ]
  },
  {
   "cell_type": "code",
   "execution_count": 363,
   "id": "d0113979-d025-4736-9e1a-987fe67b4677",
   "metadata": {},
   "outputs": [
    {
     "data": {
      "text/plain": [
       "118"
      ]
     },
     "execution_count": 363,
     "metadata": {},
     "output_type": "execute_result"
    }
   ],
   "source": [
    "len(np.where(sim_reduced > 0)[0])\n",
    "len(np.where(sim_full > 0)[0])"
   ]
  },
  {
   "cell_type": "code",
   "execution_count": 6,
   "id": "e09c5ec5-9219-4012-87e1-cc0259329e70",
   "metadata": {},
   "outputs": [
    {
     "ename": "NameError",
     "evalue": "name 'svd' is not defined",
     "output_type": "error",
     "traceback": [
      "\u001b[0;31m---------------------------------------------------------------------------\u001b[0m",
      "\u001b[0;31mNameError\u001b[0m                                 Traceback (most recent call last)",
      "Cell \u001b[0;32mIn[6], line 1\u001b[0m\n\u001b[0;32m----> 1\u001b[0m \u001b[43msvd\u001b[49m\n",
      "\u001b[0;31mNameError\u001b[0m: name 'svd' is not defined"
     ]
    }
   ],
   "source": [
    "svd"
   ]
  },
  {
   "cell_type": "code",
   "execution_count": null,
   "id": "9695c5ac-d7d5-47dc-8c9b-a2e849f43568",
   "metadata": {},
   "outputs": [],
   "source": []
  },
  {
   "cell_type": "code",
   "execution_count": null,
   "id": "3f03aa5e-d368-4ffd-b834-31a786b4bcda",
   "metadata": {},
   "outputs": [],
   "source": []
  },
  {
   "cell_type": "code",
   "execution_count": null,
   "id": "057b6a3f-d71a-491f-a322-c2719badc5d1",
   "metadata": {},
   "outputs": [],
   "source": []
  },
  {
   "cell_type": "code",
   "execution_count": null,
   "id": "0257ca13-123b-4a80-a46c-a6334042481f",
   "metadata": {},
   "outputs": [],
   "source": []
  },
  {
   "cell_type": "code",
   "execution_count": null,
   "id": "37d8c58a-e195-4d68-8caf-65616beea26d",
   "metadata": {},
   "outputs": [],
   "source": []
  },
  {
   "cell_type": "code",
   "execution_count": 5,
   "id": "672e1295-fa8d-4c88-a0c9-25384f712f85",
   "metadata": {},
   "outputs": [
    {
     "data": {
      "text/plain": [
       "(3, 50, 5, 5)"
      ]
     },
     "execution_count": 5,
     "metadata": {},
     "output_type": "execute_result"
    }
   ],
   "source": [
    "a = 3\n",
    "b = 50\n",
    "c = (5, 5)\n",
    "(a, b, *c)"
   ]
  },
  {
   "cell_type": "code",
   "execution_count": null,
   "id": "c12e927b-4a05-4cc2-ae90-7e41880f8f35",
   "metadata": {},
   "outputs": [],
   "source": []
  },
  {
   "cell_type": "code",
   "execution_count": null,
   "id": "36581b0a-9efe-481d-90e1-c70cd26463e6",
   "metadata": {},
   "outputs": [],
   "source": []
  },
  {
   "cell_type": "code",
   "execution_count": null,
   "id": "8b5f2699-bd44-48f3-88ef-c74b597bc506",
   "metadata": {},
   "outputs": [],
   "source": []
  },
  {
   "cell_type": "code",
   "execution_count": null,
   "id": "c0207fb7-a984-4de3-9f75-505b60c0560a",
   "metadata": {},
   "outputs": [],
   "source": []
  }
 ],
 "metadata": {
  "kernelspec": {
   "display_name": "Python 3 (ipykernel)",
   "language": "python",
   "name": "python3"
  },
  "language_info": {
   "codemirror_mode": {
    "name": "ipython",
    "version": 3
   },
   "file_extension": ".py",
   "mimetype": "text/x-python",
   "name": "python",
   "nbconvert_exporter": "python",
   "pygments_lexer": "ipython3",
   "version": "3.12.0"
  }
 },
 "nbformat": 4,
 "nbformat_minor": 5
}
