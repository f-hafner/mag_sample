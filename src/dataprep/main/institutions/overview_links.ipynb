{
 "cells": [
  {
   "cell_type": "markdown",
   "metadata": {},
   "source": [
    "Overview of the identified links between institutions\n",
    "======================================================\n",
    "\n",
    "#### General approach:\n",
    "1. Link on exact name for entities whose name is unique\n",
    "2. use dedupe with multiple features\n",
    "    - cng: name, city\n",
    "    - mag: name, lat/lon\n",
    "    - nsf: name, city name (quality unclear)\n",
    "    - proquest: try to extract state from \"location\"\n",
    "3. There are not so many features for disambiguation. The location works well in MAG/CNG. For PQ, we only have the name and state. Because of this, we need to tweak more records to get a good linkage rate. \n",
    "\n",
    "\n",
    "#### Implementation overview\n",
    "- [x] mag -> cng\n",
    "- [x] pq -> cng\n",
    "- [] nsf -> cng\n",
    "- [] refactor, generalize and test code link_cng_mag and link_cng_pq to have only one file\n",
    "    - this could be done when nsf -> cng is being implemented\n",
    "\n",
    "#### Further improvements for proquest -> cng not currently implemented\n",
    "1. sometimes there are multiple universities for a thesis. eg. \"university of california berkeley and san diego state university\"\n",
    "    - there are ~1400 theses with universities like this. \n",
    "    - currently we drop them in the cleaning.\n",
    "    - alternative idea: split the strings by \" and \" (how many names are there with this?) --> if the first part contains the name of another uni in the sample, assign this?\n",
    "2. sample selection\n",
    "    - drop medical centers?\n",
    "    - at the moment, we are not considering university hospitals etc. should we?\n",
    "5. plot the fraction of universities in pq matched to mag/cng over time\n"
   ]
  },
  {
   "cell_type": "code",
   "execution_count": 1,
   "metadata": {},
   "outputs": [],
   "source": [
    "\n",
    "import sqlite3 as sqlite\n",
    "import pandas as pd\n",
    "import numpy as np \n",
    "import itertools\n",
    "import os \n",
    "\n",
    "from src.dataprep.helpers.variables import db_file\n",
    "import src.dataprep.main.institutions.sql_queries as sq\n",
    "\n",
    "import matplotlib.pyplot as plt\n",
    "\n",
    "min_score_mag = 0.6 # keep mag links with at least this link_score\n",
    "min_score_pq = 0.3"
   ]
  },
  {
   "cell_type": "markdown",
   "metadata": {},
   "source": [
    "# Load in data"
   ]
  },
  {
   "cell_type": "code",
   "execution_count": 2,
   "metadata": {},
   "outputs": [],
   "source": [
    "# ## mag sample: Check institutions and names\n",
    "con = sqlite.connect(db_file)\n",
    "\n",
    "with con:\n",
    "    mag = pd.read_sql(sql=sq.query_mag, con=con)\n",
    "    cng = pd.read_sql(sql=sq.query_cng, con=con)\n",
    "    pq = pd.read_sql(sql=sq.query_pq, con=con)\n",
    "    query = \"\"\"SELECT count(goid) AS n_graduates, university_id\n",
    "            FROM pq_authors\n",
    "            WHERE degree_year >= 1980\n",
    "            GROUP BY(university_id)\n",
    "            \"\"\"\n",
    "    pq_graduate_counts = pd.read_sql(sql=query, con=con)\n",
    "\n",
    "con.close()\n",
    "\n",
    "\n"
   ]
  },
  {
   "cell_type": "code",
   "execution_count": 3,
   "metadata": {},
   "outputs": [
    {
     "data": {
      "text/html": [
       "<div>\n",
       "<style scoped>\n",
       "    .dataframe tbody tr th:only-of-type {\n",
       "        vertical-align: middle;\n",
       "    }\n",
       "\n",
       "    .dataframe tbody tr th {\n",
       "        vertical-align: top;\n",
       "    }\n",
       "\n",
       "    .dataframe thead th {\n",
       "        text-align: right;\n",
       "    }\n",
       "</style>\n",
       "<table border=\"1\" class=\"dataframe\">\n",
       "  <thead>\n",
       "    <tr style=\"text-align: right;\">\n",
       "      <th></th>\n",
       "      <th>from_id</th>\n",
       "      <th>unitid</th>\n",
       "      <th>link_score</th>\n",
       "      <th>link_flag</th>\n",
       "      <th>from_dataset</th>\n",
       "    </tr>\n",
       "  </thead>\n",
       "  <tbody>\n",
       "    <tr>\n",
       "      <th>0</th>\n",
       "      <td>130701444.0</td>\n",
       "      <td>139755.0</td>\n",
       "      <td>1.0</td>\n",
       "      <td>dedupe</td>\n",
       "      <td>mag</td>\n",
       "    </tr>\n",
       "    <tr>\n",
       "      <th>1</th>\n",
       "      <td>52357470.0</td>\n",
       "      <td>204796.0</td>\n",
       "      <td>1.0</td>\n",
       "      <td>dedupe</td>\n",
       "      <td>mag</td>\n",
       "    </tr>\n",
       "    <tr>\n",
       "      <th>2</th>\n",
       "      <td>169521973.0</td>\n",
       "      <td>187985.0</td>\n",
       "      <td>1.0</td>\n",
       "      <td>dedupe</td>\n",
       "      <td>mag</td>\n",
       "    </tr>\n",
       "    <tr>\n",
       "      <th>3</th>\n",
       "      <td>110152177.0</td>\n",
       "      <td>200800.0</td>\n",
       "      <td>1.0</td>\n",
       "      <td>dedupe</td>\n",
       "      <td>mag</td>\n",
       "    </tr>\n",
       "    <tr>\n",
       "      <th>4</th>\n",
       "      <td>103527128.0</td>\n",
       "      <td>107983.0</td>\n",
       "      <td>1.0</td>\n",
       "      <td>dedupe</td>\n",
       "      <td>mag</td>\n",
       "    </tr>\n",
       "  </tbody>\n",
       "</table>\n",
       "</div>"
      ],
      "text/plain": [
       "       from_id    unitid  link_score link_flag from_dataset\n",
       "0  130701444.0  139755.0         1.0    dedupe          mag\n",
       "1   52357470.0  204796.0         1.0    dedupe          mag\n",
       "2  169521973.0  187985.0         1.0    dedupe          mag\n",
       "3  110152177.0  200800.0         1.0    dedupe          mag\n",
       "4  103527128.0  107983.0         1.0    dedupe          mag"
      ]
     },
     "execution_count": 3,
     "metadata": {},
     "output_type": "execute_result"
    }
   ],
   "source": [
    "\n",
    "link_path = \"data/link_institutions/\"\n",
    "link_files = os.listdir(link_path)\n",
    "\n",
    "links = []\n",
    "for f in link_files:\n",
    "    links.append(pd.read_csv(link_path + f))\n",
    "\n",
    "links = pd.concat(links)\n"
   ]
  },
  {
   "cell_type": "markdown",
   "metadata": {},
   "source": [
    "# MAG to CNG"
   ]
  },
  {
   "cell_type": "code",
   "execution_count": 4,
   "metadata": {},
   "outputs": [],
   "source": [
    "links_mag = (links\n",
    "        .loc[links[\"from_dataset\"] == \"mag\"]\n",
    "        .set_index(\"from_id\")\n",
    "        .join(mag.loc[:, [\"AffiliationId\", \"name\", \"lat\", \"lon\", \"PublicationCount\"]]\n",
    "            .set_index(\"AffiliationId\")\n",
    "        )\n",
    "        .reset_index()\n",
    "        .set_index([\"unitid\"])\n",
    "        .join(cng\n",
    "                .loc[:, [\"unitid\", \"name\", \"basic2021\", \"lat\", \"lon\"]]\n",
    "                .set_index(\"unitid\"),\n",
    "              lsuffix=\"_mag\",\n",
    "              rsuffix=\"_cng\"\n",
    "        )\n",
    "        .reset_index()\n",
    "    )\n"
   ]
  },
  {
   "cell_type": "markdown",
   "metadata": {},
   "source": [
    "## Histogram of link_score"
   ]
  },
  {
   "cell_type": "code",
   "execution_count": 5,
   "metadata": {},
   "outputs": [
    {
     "data": {
      "text/plain": [
       "Text(0.5, 0, 'Linking score')"
      ]
     },
     "execution_count": 5,
     "metadata": {},
     "output_type": "execute_result"
    },
    {
     "data": {
      "image/png": "[encoded data removed]",
      "text/plain": [
       "<Figure size 432x288 with 1 Axes>"
      ]
     },
     "metadata": {
      "needs_background": "light"
     },
     "output_type": "display_data"
    }
   ],
   "source": [
    "# Unweighted\n",
    "plt.hist(links_mag[\"link_score\"], bins=30)\n",
    "plt.ylabel('Counts')\n",
    "plt.xlabel('Linking score')"
   ]
  },
  {
   "cell_type": "code",
   "execution_count": 6,
   "metadata": {},
   "outputs": [
    {
     "data": {
      "text/plain": [
       "Text(0.5, 0, 'Linking score')"
      ]
     },
     "execution_count": 6,
     "metadata": {},
     "output_type": "execute_result"
    },
    {
     "data": {
      "image/png": "[encoded data removed]",
      "text/plain": [
       "<Figure size 432x288 with 1 Axes>"
      ]
     },
     "metadata": {
      "needs_background": "light"
     },
     "output_type": "display_data"
    }
   ],
   "source": [
    "# Weighted by publication count\n",
    "plt.hist(links_mag[\"link_score\"], bins=30, weights=links_mag[\"PublicationCount\"])\n",
    "plt.ylabel('Counts')\n",
    "plt.xlabel('Linking score')\n"
   ]
  },
  {
   "cell_type": "markdown",
   "metadata": {},
   "source": [
    "## Inspect links with low scores\n",
    "- The linking score may be low, but the lat-lon matching seems to work pretty well. So we can allow for a relatively low threshold"
   ]
  },
  {
   "cell_type": "code",
   "execution_count": 7,
   "metadata": {},
   "outputs": [
    {
     "name": "stdout",
     "output_type": "stream",
     "text": [
      "Have linked 1189 entities in cng with min score of 0.6.\n"
     ]
    }
   ],
   "source": [
    "mask_keep_links_mag = links_mag[\"link_score\"] > min_score_mag\n",
    "links_mag = links_mag.loc[mask_keep_links_mag, :]\n",
    "\n",
    "links_mag.shape\n",
    "n_linked = links_mag.loc[:, \"unitid\"].nunique()\n",
    "print(f\"Have linked {n_linked} entities in cng with min score of {min_score_mag}.\")\n",
    "\n"
   ]
  },
  {
   "cell_type": "code",
   "execution_count": 8,
   "metadata": {},
   "outputs": [
    {
     "data": {
      "text/html": [
       "<div>\n",
       "<style scoped>\n",
       "    .dataframe tbody tr th:only-of-type {\n",
       "        vertical-align: middle;\n",
       "    }\n",
       "\n",
       "    .dataframe tbody tr th {\n",
       "        vertical-align: top;\n",
       "    }\n",
       "\n",
       "    .dataframe thead th {\n",
       "        text-align: right;\n",
       "    }\n",
       "</style>\n",
       "<table border=\"1\" class=\"dataframe\">\n",
       "  <thead>\n",
       "    <tr style=\"text-align: right;\">\n",
       "      <th></th>\n",
       "      <th>link_score</th>\n",
       "      <th>name_mag</th>\n",
       "      <th>name_cng</th>\n",
       "      <th>lat_mag</th>\n",
       "      <th>lon_mag</th>\n",
       "      <th>lat_cng</th>\n",
       "      <th>lon_cng</th>\n",
       "    </tr>\n",
       "  </thead>\n",
       "  <tbody>\n",
       "    <tr>\n",
       "      <th>118</th>\n",
       "      <td>0.605648</td>\n",
       "      <td>elmhurst college</td>\n",
       "      <td>elmhurst university</td>\n",
       "      <td>41.896310</td>\n",
       "      <td>-87.946170</td>\n",
       "      <td>41.896999</td>\n",
       "      <td>-87.941002</td>\n",
       "    </tr>\n",
       "    <tr>\n",
       "      <th>117</th>\n",
       "      <td>0.608186</td>\n",
       "      <td>bank street college of education</td>\n",
       "      <td>king s college</td>\n",
       "      <td>40.805560</td>\n",
       "      <td>-73.966390</td>\n",
       "      <td>40.799000</td>\n",
       "      <td>-73.967003</td>\n",
       "    </tr>\n",
       "    <tr>\n",
       "      <th>116</th>\n",
       "      <td>0.609187</td>\n",
       "      <td>the citadel the military college of south caro...</td>\n",
       "      <td>citadel military college of south carolina</td>\n",
       "      <td>32.797220</td>\n",
       "      <td>-79.961110</td>\n",
       "      <td>32.710999</td>\n",
       "      <td>-79.953003</td>\n",
       "    </tr>\n",
       "    <tr>\n",
       "      <th>115</th>\n",
       "      <td>0.624554</td>\n",
       "      <td>university of tennessee at chattanooga</td>\n",
       "      <td>university of tennessee chattanooga</td>\n",
       "      <td>35.045800</td>\n",
       "      <td>-85.299900</td>\n",
       "      <td>35.029999</td>\n",
       "      <td>-85.146004</td>\n",
       "    </tr>\n",
       "    <tr>\n",
       "      <th>114</th>\n",
       "      <td>0.627106</td>\n",
       "      <td>hunter college</td>\n",
       "      <td>cuny hunter college</td>\n",
       "      <td>40.768540</td>\n",
       "      <td>-73.964745</td>\n",
       "      <td>40.799000</td>\n",
       "      <td>-73.967003</td>\n",
       "    </tr>\n",
       "    <tr>\n",
       "      <th>113</th>\n",
       "      <td>0.627285</td>\n",
       "      <td>queens college</td>\n",
       "      <td>cuny queens college</td>\n",
       "      <td>40.737000</td>\n",
       "      <td>-73.817000</td>\n",
       "      <td>40.751999</td>\n",
       "      <td>-73.851997</td>\n",
       "    </tr>\n",
       "    <tr>\n",
       "      <th>112</th>\n",
       "      <td>0.636284</td>\n",
       "      <td>wheeling jesuit university</td>\n",
       "      <td>wheeling university</td>\n",
       "      <td>40.073074</td>\n",
       "      <td>-80.689530</td>\n",
       "      <td>40.070000</td>\n",
       "      <td>-80.647003</td>\n",
       "    </tr>\n",
       "    <tr>\n",
       "      <th>111</th>\n",
       "      <td>0.641305</td>\n",
       "      <td>st joseph s college</td>\n",
       "      <td>st joseph s university new york</td>\n",
       "      <td>40.690830</td>\n",
       "      <td>-73.968060</td>\n",
       "      <td>40.713001</td>\n",
       "      <td>-73.953003</td>\n",
       "    </tr>\n",
       "    <tr>\n",
       "      <th>110</th>\n",
       "      <td>0.652054</td>\n",
       "      <td>salem international university</td>\n",
       "      <td>salem university</td>\n",
       "      <td>39.282780</td>\n",
       "      <td>-80.558060</td>\n",
       "      <td>39.286999</td>\n",
       "      <td>-80.564003</td>\n",
       "    </tr>\n",
       "    <tr>\n",
       "      <th>109</th>\n",
       "      <td>0.654997</td>\n",
       "      <td>university of illinois at chicago</td>\n",
       "      <td>university of illinois chicago</td>\n",
       "      <td>41.871887</td>\n",
       "      <td>-87.649250</td>\n",
       "      <td>41.776001</td>\n",
       "      <td>-87.710999</td>\n",
       "    </tr>\n",
       "  </tbody>\n",
       "</table>\n",
       "</div>"
      ],
      "text/plain": [
       "     link_score                                           name_mag  \\\n",
       "118    0.605648                                   elmhurst college   \n",
       "117    0.608186                   bank street college of education   \n",
       "116    0.609187  the citadel the military college of south caro...   \n",
       "115    0.624554             university of tennessee at chattanooga   \n",
       "114    0.627106                                     hunter college   \n",
       "113    0.627285                                     queens college   \n",
       "112    0.636284                         wheeling jesuit university   \n",
       "111    0.641305                                st joseph s college   \n",
       "110    0.652054                     salem international university   \n",
       "109    0.654997                  university of illinois at chicago   \n",
       "\n",
       "                                       name_cng    lat_mag    lon_mag  \\\n",
       "118                         elmhurst university  41.896310 -87.946170   \n",
       "117                              king s college  40.805560 -73.966390   \n",
       "116  citadel military college of south carolina  32.797220 -79.961110   \n",
       "115         university of tennessee chattanooga  35.045800 -85.299900   \n",
       "114                         cuny hunter college  40.768540 -73.964745   \n",
       "113                         cuny queens college  40.737000 -73.817000   \n",
       "112                         wheeling university  40.073074 -80.689530   \n",
       "111             st joseph s university new york  40.690830 -73.968060   \n",
       "110                            salem university  39.282780 -80.558060   \n",
       "109              university of illinois chicago  41.871887 -87.649250   \n",
       "\n",
       "       lat_cng    lon_cng  \n",
       "118  41.896999 -87.941002  \n",
       "117  40.799000 -73.967003  \n",
       "116  32.710999 -79.953003  \n",
       "115  35.029999 -85.146004  \n",
       "114  40.799000 -73.967003  \n",
       "113  40.751999 -73.851997  \n",
       "112  40.070000 -80.647003  \n",
       "111  40.713001 -73.953003  \n",
       "110  39.286999 -80.564003  \n",
       "109  41.776001 -87.710999  "
      ]
     },
     "execution_count": 8,
     "metadata": {},
     "output_type": "execute_result"
    }
   ],
   "source": [
    "sel_vars = [\"link_score\", \"name_mag\", \"name_cng\", \n",
    "            \"lat_mag\", \"lon_mag\", \"lat_cng\", \"lon_cng\"]\n",
    "links_mag.loc[:, sel_vars].sort_values(\"link_score\").head(10)\n",
    "\n"
   ]
  },
  {
   "cell_type": "markdown",
   "metadata": {},
   "source": [
    "## Group-wise summary of linking status\n",
    "\n",
    "### MAG entities"
   ]
  },
  {
   "cell_type": "code",
   "execution_count": 9,
   "metadata": {},
   "outputs": [
    {
     "data": {
      "text/plain": [
       "Text(0.5, 0, 'Linking status')"
      ]
     },
     "execution_count": 9,
     "metadata": {},
     "output_type": "execute_result"
    },
    {
     "data": {
      "image/png": "[encoded data removed]",
      "text/plain": [
       "<Figure size 720x360 with 1 Axes>"
      ]
     },
     "metadata": {
      "needs_background": "light"
     },
     "output_type": "display_data"
    }
   ],
   "source": [
    "mag_summary = (mag\n",
    "                .set_index(\"AffiliationId\")\n",
    "                .join(links_mag\n",
    "                        .loc[:, [\"from_id\", \"link_flag\"]]\n",
    "                        .set_index(\"from_id\"))\n",
    "                .reset_index()\n",
    "                .rename(columns={\"index\": \"AffiliationId\"})\n",
    "            )\n",
    "mask = mag_summary[\"link_flag\"].isna()\n",
    "mag_summary[\"link_flag\"] = np.where(mask, \"not matched\", mag_summary[\"link_flag\"])\n",
    "mag_summary.head()\n",
    "\n",
    "mag_summary = (mag_summary\n",
    "                .groupby(\"link_flag\")[\"PublicationCount\"]\n",
    "                .sum()\n",
    "                .reset_index()\n",
    "                )\n",
    "mag_summary[\"id\"] = 0\n",
    "mag_summary[\"share\"] = mag_summary[\"PublicationCount\"] / mag_summary.groupby(\"id\")[\"PublicationCount\"].transform(\"sum\")\n",
    "\n",
    "\n",
    "fig = plt.figure(figsize = (10, 5))\n",
    "plt.bar(mag_summary[\"link_flag\"], mag_summary[\"share\"])\n",
    "plt.ylabel('Share publications in MAG')\n",
    "plt.xlabel('Linking status')\n"
   ]
  },
  {
   "cell_type": "markdown",
   "metadata": {},
   "source": [
    "### CNG entities"
   ]
  },
  {
   "cell_type": "code",
   "execution_count": 10,
   "metadata": {},
   "outputs": [
    {
     "data": {
      "image/png": "[encoded data removed]",
      "text/plain": [
       "<Figure size 432x288 with 1 Axes>"
      ]
     },
     "metadata": {
      "needs_background": "light"
     },
     "output_type": "display_data"
    }
   ],
   "source": [
    "cng_summary = (cng\n",
    "                .loc[:, [\"unitid\", \"basic2021\"]]\n",
    "                .set_index(\"unitid\")\n",
    "                .join(links_mag\n",
    "                        .loc[:, [\"unitid\", \"link_flag\"]]\n",
    "                        .set_index(\"unitid\"))\n",
    "                .reset_index())\n",
    "\n",
    "\n",
    "mask = cng_summary[\"link_flag\"].isna()\n",
    "cng_summary[\"link_flag\"] = np.where(mask, \"not matched\", cng_summary[\"link_flag\"])\n",
    "cng_summary = (cng_summary\n",
    "                .groupby([\"basic2021\", \"link_flag\"])\n",
    "                .count()\n",
    "                .reset_index()\n",
    "                .rename(columns={\"unitid\": \"nb\"})\n",
    "                )\n",
    "cng_summary.head()\n",
    "\n",
    "\n",
    "index_cols = [\"basic2021\", \"link_flag\"]\n",
    "dict_to_expand = {x: cng_summary[x].unique() for x in index_cols}\n",
    "\n",
    "def expand_grid(data_dict):\n",
    "    rows = itertools.product(*data_dict.values())\n",
    "    return pd.DataFrame.from_records(rows, columns=data_dict.keys())\n",
    "\n",
    "\n",
    "cng_summary = (expand_grid(dict_to_expand)\n",
    "                .set_index(index_cols)\n",
    "                .join(cng_summary\n",
    "                        .set_index(index_cols))\n",
    "                .reset_index()\n",
    "                )\n",
    "\n",
    "\n",
    "mask = cng_summary[\"nb\"].isna()\n",
    "cng_summary[\"nb\"] = np.where(mask, 0, cng_summary[\"nb\"])\n",
    "\n",
    "\n",
    "cng_summary[\"share\"] = cng_summary[\"nb\"] / cng_summary.groupby(\"basic2021\")[\"nb\"].transform(\"sum\")\n",
    "\n",
    "\n",
    "labels = cng_summary[\"basic2021\"].unique()\n",
    "\n",
    "fig, ax = plt.subplots()\n",
    "\n",
    "btm = np.zeros(len(labels)) # start at y=0\n",
    "for x in cng_summary[\"link_flag\"].unique():\n",
    "        d = cng_summary.loc[cng_summary[\"link_flag\"] == x, \"nb\"].squeeze()\n",
    "        d = np.array(d)\n",
    "        ax.bar(labels, d, label=x, bottom=btm)\n",
    "        btm += d # progressively add bottom for next bar\n",
    "\n",
    "ax.set_xlabel(\"basic2021\")\n",
    "ax.set_ylabel(\"# of institutions\")\n",
    "\n",
    "ax.legend()\n",
    "\n",
    "plt.show()"
   ]
  },
  {
   "cell_type": "markdown",
   "metadata": {},
   "source": [
    "## Non-linked entities\n",
    "\n",
    "### MAG, by decreasing publication count"
   ]
  },
  {
   "cell_type": "code",
   "execution_count": 11,
   "metadata": {},
   "outputs": [
    {
     "data": {
      "text/html": [
       "<div>\n",
       "<style scoped>\n",
       "    .dataframe tbody tr th:only-of-type {\n",
       "        vertical-align: middle;\n",
       "    }\n",
       "\n",
       "    .dataframe tbody tr th {\n",
       "        vertical-align: top;\n",
       "    }\n",
       "\n",
       "    .dataframe thead th {\n",
       "        text-align: right;\n",
       "    }\n",
       "</style>\n",
       "<table border=\"1\" class=\"dataframe\">\n",
       "  <thead>\n",
       "    <tr style=\"text-align: right;\">\n",
       "      <th></th>\n",
       "      <th>name</th>\n",
       "      <th>PublicationCount</th>\n",
       "    </tr>\n",
       "  </thead>\n",
       "  <tbody>\n",
       "    <tr>\n",
       "      <th>123</th>\n",
       "      <td>university of california</td>\n",
       "      <td>30791</td>\n",
       "    </tr>\n",
       "    <tr>\n",
       "      <th>651</th>\n",
       "      <td>university of hawaii</td>\n",
       "      <td>30271</td>\n",
       "    </tr>\n",
       "    <tr>\n",
       "      <th>293</th>\n",
       "      <td>georgia regents university</td>\n",
       "      <td>28840</td>\n",
       "    </tr>\n",
       "    <tr>\n",
       "      <th>1282</th>\n",
       "      <td>northeast normal university</td>\n",
       "      <td>18596</td>\n",
       "    </tr>\n",
       "    <tr>\n",
       "      <th>1792</th>\n",
       "      <td>national taipei university of technology</td>\n",
       "      <td>12840</td>\n",
       "    </tr>\n",
       "    <tr>\n",
       "      <th>218</th>\n",
       "      <td>sewanee the university of the south</td>\n",
       "      <td>12791</td>\n",
       "    </tr>\n",
       "    <tr>\n",
       "      <th>327</th>\n",
       "      <td>florida state university college of arts and s...</td>\n",
       "      <td>11375</td>\n",
       "    </tr>\n",
       "    <tr>\n",
       "      <th>247</th>\n",
       "      <td>california state university</td>\n",
       "      <td>10612</td>\n",
       "    </tr>\n",
       "    <tr>\n",
       "      <th>598</th>\n",
       "      <td>augsburg college</td>\n",
       "      <td>10471</td>\n",
       "    </tr>\n",
       "    <tr>\n",
       "      <th>518</th>\n",
       "      <td>humboldt state university</td>\n",
       "      <td>9866</td>\n",
       "    </tr>\n",
       "  </tbody>\n",
       "</table>\n",
       "</div>"
      ],
      "text/plain": [
       "                                                   name  PublicationCount\n",
       "123                            university of california             30791\n",
       "651                                university of hawaii             30271\n",
       "293                          georgia regents university             28840\n",
       "1282                        northeast normal university             18596\n",
       "1792           national taipei university of technology             12840\n",
       "218                 sewanee the university of the south             12791\n",
       "327   florida state university college of arts and s...             11375\n",
       "247                         california state university             10612\n",
       "598                                    augsburg college             10471\n",
       "518                           humboldt state university              9866"
      ]
     },
     "metadata": {},
     "output_type": "display_data"
    }
   ],
   "source": [
    "mag.head()\n",
    "mask = (~mag[\"AffiliationId\"].isin(links_mag.from_id)) \\\n",
    "            & (mag.name.str.contains(\"university|college\")) \\\n",
    "            & (~mag.name.str.contains(\"medical|medicine|health|hospital|cancer\"))\n",
    "\n",
    "sel_vars = [\"name\", \"PublicationCount\"]\n",
    "display(mag.loc[mask, sel_vars].sort_values(\"PublicationCount\", ascending=False).iloc[0:10])\n"
   ]
  },
  {
   "cell_type": "markdown",
   "metadata": {},
   "source": [
    "### CNG, by increasing basic2021"
   ]
  },
  {
   "cell_type": "code",
   "execution_count": 12,
   "metadata": {},
   "outputs": [
    {
     "data": {
      "text/html": [
       "<div>\n",
       "<style scoped>\n",
       "    .dataframe tbody tr th:only-of-type {\n",
       "        vertical-align: middle;\n",
       "    }\n",
       "\n",
       "    .dataframe tbody tr th {\n",
       "        vertical-align: top;\n",
       "    }\n",
       "\n",
       "    .dataframe thead th {\n",
       "        text-align: right;\n",
       "    }\n",
       "</style>\n",
       "<table border=\"1\" class=\"dataframe\">\n",
       "  <thead>\n",
       "    <tr style=\"text-align: right;\">\n",
       "      <th></th>\n",
       "      <th>name</th>\n",
       "      <th>basic2021</th>\n",
       "    </tr>\n",
       "  </thead>\n",
       "  <tbody>\n",
       "    <tr>\n",
       "      <th>1068</th>\n",
       "      <td>teachers college at columbia university</td>\n",
       "      <td>16</td>\n",
       "    </tr>\n",
       "    <tr>\n",
       "      <th>1454</th>\n",
       "      <td>university of texas rio grande valley</td>\n",
       "      <td>16</td>\n",
       "    </tr>\n",
       "    <tr>\n",
       "      <th>972</th>\n",
       "      <td>rutgers university newark</td>\n",
       "      <td>16</td>\n",
       "    </tr>\n",
       "    <tr>\n",
       "      <th>1070</th>\n",
       "      <td>new school</td>\n",
       "      <td>16</td>\n",
       "    </tr>\n",
       "    <tr>\n",
       "      <th>879</th>\n",
       "      <td>north carolina a t state university</td>\n",
       "      <td>16</td>\n",
       "    </tr>\n",
       "    <tr>\n",
       "      <th>341</th>\n",
       "      <td>augusta university</td>\n",
       "      <td>16</td>\n",
       "    </tr>\n",
       "    <tr>\n",
       "      <th>955</th>\n",
       "      <td>rutgers university camden</td>\n",
       "      <td>16</td>\n",
       "    </tr>\n",
       "    <tr>\n",
       "      <th>317</th>\n",
       "      <td>florida agricultural and mechanical university</td>\n",
       "      <td>16</td>\n",
       "    </tr>\n",
       "    <tr>\n",
       "      <th>838</th>\n",
       "      <td>belhaven university</td>\n",
       "      <td>17</td>\n",
       "    </tr>\n",
       "    <tr>\n",
       "      <th>1549</th>\n",
       "      <td>university of lynchburg</td>\n",
       "      <td>17</td>\n",
       "    </tr>\n",
       "  </tbody>\n",
       "</table>\n",
       "</div>"
      ],
      "text/plain": [
       "                                                name  basic2021\n",
       "1068         teachers college at columbia university         16\n",
       "1454           university of texas rio grande valley         16\n",
       "972                        rutgers university newark         16\n",
       "1070                                      new school         16\n",
       "879              north carolina a t state university         16\n",
       "341                               augusta university         16\n",
       "955                        rutgers university camden         16\n",
       "317   florida agricultural and mechanical university         16\n",
       "838                              belhaven university         17\n",
       "1549                         university of lynchburg         17"
      ]
     },
     "execution_count": 12,
     "metadata": {},
     "output_type": "execute_result"
    }
   ],
   "source": [
    "mask = (~cng[\"unitid\"].isin(links_mag[\"unitid\"]))\n",
    "cng.loc[mask, :].sort_values(\"basic2021\").iloc[10:20, :].head()\n",
    "\n",
    "sel_vars = [\"name\", \"basic2021\"]\n",
    "cng.loc[mask, sel_vars].sort_values(\"basic2021\").iloc[0:10]"
   ]
  },
  {
   "cell_type": "markdown",
   "metadata": {},
   "source": [
    "# ProQuest to CNG"
   ]
  },
  {
   "cell_type": "code",
   "execution_count": 13,
   "metadata": {},
   "outputs": [],
   "source": [
    "pq = (pq\n",
    "        .set_index(\"university_id\")\n",
    "        .join(pq_graduate_counts\n",
    "                .set_index(\"university_id\"))\n",
    "        .reset_index()\n",
    "        .rename(columns={\"index\": \"university_id\"}))\n",
    "\n",
    "pq = pq.loc[~pq.n_graduates.isna()]\n"
   ]
  },
  {
   "cell_type": "code",
   "execution_count": 14,
   "metadata": {},
   "outputs": [],
   "source": [
    "links_pq = (links\n",
    "        .loc[links[\"from_dataset\"] == \"pq\"]\n",
    "        .set_index(\"from_id\")\n",
    "        .join(pq.loc[:, [\"university_id\", \"name\", \"location\", \"n_graduates\"]]\n",
    "            .set_index(\"university_id\")\n",
    "        )\n",
    "        .reset_index()\n",
    "        .rename(columns={\"index\": \"from_id\"})\n",
    "        .set_index([\"unitid\"])\n",
    "        .join(cng.loc[:, [\"unitid\", \"name\", \"basic2021\", \"lat\", \"lon\"]]\n",
    "            .set_index(\"unitid\"),\n",
    "            lsuffix=\"_pq\", rsuffix=\"_cng\"\n",
    "        )\n",
    "        .reset_index()\n",
    "    )\n",
    "\n"
   ]
  },
  {
   "cell_type": "markdown",
   "metadata": {},
   "source": [
    "## Histogram of links\n"
   ]
  },
  {
   "cell_type": "code",
   "execution_count": 15,
   "metadata": {},
   "outputs": [
    {
     "data": {
      "text/plain": [
       "Text(0.5, 0, 'Linking score')"
      ]
     },
     "execution_count": 15,
     "metadata": {},
     "output_type": "execute_result"
    },
    {
     "data": {
      "image/png": "[encoded data removed]",
      "text/plain": [
       "<Figure size 432x288 with 1 Axes>"
      ]
     },
     "metadata": {
      "needs_background": "light"
     },
     "output_type": "display_data"
    }
   ],
   "source": [
    "plt.hist(links_pq[\"link_score\"], bins=30) \n",
    "plt.ylabel('Counts')\n",
    "plt.xlabel('Linking score')"
   ]
  },
  {
   "cell_type": "code",
   "execution_count": 16,
   "metadata": {},
   "outputs": [
    {
     "name": "stdout",
     "output_type": "stream",
     "text": [
      "Have linked 561 entities in cng with min score of 0.3.\n"
     ]
    }
   ],
   "source": [
    "mask_keep_links_pq = links_pq[\"link_score\"] > min_score_pq\n",
    "\n",
    "links_pq = links_pq.loc[mask_keep_links_pq, :]\n",
    "\n",
    "n_linked = links_pq.from_id.nunique()\n",
    "\n",
    "print(f\"Have linked {n_linked} entities in cng with min score of {min_score_pq}.\")\n",
    "\n"
   ]
  },
  {
   "cell_type": "markdown",
   "metadata": {},
   "source": [
    "## Number of theses by linking approach"
   ]
  },
  {
   "cell_type": "code",
   "execution_count": 17,
   "metadata": {},
   "outputs": [
    {
     "data": {
      "text/plain": [
       "Text(0.5, 0, 'Linking status')"
      ]
     },
     "execution_count": 17,
     "metadata": {},
     "output_type": "execute_result"
    },
    {
     "data": {
      "image/png": "[encoded data removed]",
      "text/plain": [
       "<Figure size 720x360 with 1 Axes>"
      ]
     },
     "metadata": {
      "needs_background": "light"
     },
     "output_type": "display_data"
    }
   ],
   "source": [
    "pq_summary = (pq\n",
    "                .set_index(\"university_id\")\n",
    "                .join(links_pq \n",
    "                        .loc[:, [\"from_id\", \"link_flag\"]]\n",
    "                        .set_index(\"from_id\"))\n",
    "                .reset_index()\n",
    "                .rename(columns={\"index\": \"university_id\"}))\n",
    "\n",
    "pq_summary.loc[pq_summary.link_flag.isna()].head()\n",
    "\n",
    "\n",
    "mask_notlinked = pq_summary[\"link_flag\"].isna()\n",
    "pq_summary[\"link_flag\"] = np.where(mask_notlinked, \"not matched\", pq_summary[\"link_flag\"])\n",
    "\n",
    "\n",
    "pq_summary = (pq_summary\n",
    "                .groupby(\"link_flag\")[\"n_graduates\"]\n",
    "                .sum()\n",
    "                .reset_index()\n",
    "                )\n",
    "pq_summary[\"id\"] = 0\n",
    "pq_summary[\"share\"] = pq_summary[\"n_graduates\"] / pq_summary.groupby(\"id\")[\"n_graduates\"].transform(\"sum\")\n",
    "\n",
    "\n",
    "fig = plt.figure(figsize = (10, 5))\n",
    "plt.bar(pq_summary[\"link_flag\"], pq_summary[\"share\"])\n",
    "plt.ylabel('Share graduates in Proquest')\n",
    "plt.xlabel('Linking status')\n",
    "\n"
   ]
  },
  {
   "cell_type": "markdown",
   "metadata": {},
   "source": [
    "## Investigate non-links\n",
    "\n",
    "### CNG"
   ]
  },
  {
   "cell_type": "code",
   "execution_count": 18,
   "metadata": {},
   "outputs": [
    {
     "data": {
      "text/html": [
       "<div>\n",
       "<style scoped>\n",
       "    .dataframe tbody tr th:only-of-type {\n",
       "        vertical-align: middle;\n",
       "    }\n",
       "\n",
       "    .dataframe tbody tr th {\n",
       "        vertical-align: top;\n",
       "    }\n",
       "\n",
       "    .dataframe thead th {\n",
       "        text-align: right;\n",
       "    }\n",
       "</style>\n",
       "<table border=\"1\" class=\"dataframe\">\n",
       "  <thead>\n",
       "    <tr style=\"text-align: right;\">\n",
       "      <th></th>\n",
       "      <th>name</th>\n",
       "      <th>basic2021</th>\n",
       "    </tr>\n",
       "  </thead>\n",
       "  <tbody>\n",
       "    <tr>\n",
       "      <th>1320</th>\n",
       "      <td>west chester university of pennsylvania</td>\n",
       "      <td>16</td>\n",
       "    </tr>\n",
       "    <tr>\n",
       "      <th>1105</th>\n",
       "      <td>suny college of environmental science and fore...</td>\n",
       "      <td>16</td>\n",
       "    </tr>\n",
       "    <tr>\n",
       "      <th>355</th>\n",
       "      <td>kennesaw state university</td>\n",
       "      <td>16</td>\n",
       "    </tr>\n",
       "    <tr>\n",
       "      <th>1510</th>\n",
       "      <td>university of texas at tyler</td>\n",
       "      <td>16</td>\n",
       "    </tr>\n",
       "    <tr>\n",
       "      <th>698</th>\n",
       "      <td>university of new england</td>\n",
       "      <td>16</td>\n",
       "    </tr>\n",
       "    <tr>\n",
       "      <th>524</th>\n",
       "      <td>valparaiso university</td>\n",
       "      <td>17</td>\n",
       "    </tr>\n",
       "    <tr>\n",
       "      <th>113</th>\n",
       "      <td>northcentral university</td>\n",
       "      <td>17</td>\n",
       "    </tr>\n",
       "    <tr>\n",
       "      <th>872</th>\n",
       "      <td>elon university</td>\n",
       "      <td>17</td>\n",
       "    </tr>\n",
       "    <tr>\n",
       "      <th>1108</th>\n",
       "      <td>russell sage college</td>\n",
       "      <td>17</td>\n",
       "    </tr>\n",
       "    <tr>\n",
       "      <th>507</th>\n",
       "      <td>university of indianapolis</td>\n",
       "      <td>17</td>\n",
       "    </tr>\n",
       "  </tbody>\n",
       "</table>\n",
       "</div>"
      ],
      "text/plain": [
       "                                                   name  basic2021\n",
       "1320            west chester university of pennsylvania         16\n",
       "1105  suny college of environmental science and fore...         16\n",
       "355                           kennesaw state university         16\n",
       "1510                       university of texas at tyler         16\n",
       "698                           university of new england         16\n",
       "524                               valparaiso university         17\n",
       "113                             northcentral university         17\n",
       "872                                     elon university         17\n",
       "1108                               russell sage college         17\n",
       "507                          university of indianapolis         17"
      ]
     },
     "execution_count": 18,
     "metadata": {},
     "output_type": "execute_result"
    }
   ],
   "source": [
    "\n",
    "mask = (~cng[\"unitid\"].isin(links_pq.loc[:, \"unitid\"])) \\\n",
    "        & (cng[\"unitid\"].isin(links_mag.loc[:, \"unitid\"])) # TODO: unified usage of \"mask_keep_links\" etc! \n",
    "\n",
    "sel_vars = [\"name\", \"basic2021\"]\n",
    "cng.loc[mask, sel_vars].sort_values(\"basic2021\").iloc[0:10]\n"
   ]
  },
  {
   "cell_type": "markdown",
   "metadata": {},
   "source": [
    "### Proquest"
   ]
  },
  {
   "cell_type": "code",
   "execution_count": 19,
   "metadata": {},
   "outputs": [
    {
     "data": {
      "text/html": [
       "<div>\n",
       "<style scoped>\n",
       "    .dataframe tbody tr th:only-of-type {\n",
       "        vertical-align: middle;\n",
       "    }\n",
       "\n",
       "    .dataframe tbody tr th {\n",
       "        vertical-align: top;\n",
       "    }\n",
       "\n",
       "    .dataframe thead th {\n",
       "        text-align: right;\n",
       "    }\n",
       "</style>\n",
       "<table border=\"1\" class=\"dataframe\">\n",
       "  <thead>\n",
       "    <tr style=\"text-align: right;\">\n",
       "      <th></th>\n",
       "      <th>name</th>\n",
       "      <th>n_graduates</th>\n",
       "    </tr>\n",
       "  </thead>\n",
       "  <tbody>\n",
       "    <tr>\n",
       "      <th>21</th>\n",
       "      <td>northcentral university</td>\n",
       "      <td>6477.0</td>\n",
       "    </tr>\n",
       "    <tr>\n",
       "      <th>662</th>\n",
       "      <td>teachers college columbia university</td>\n",
       "      <td>5141.0</td>\n",
       "    </tr>\n",
       "    <tr>\n",
       "      <th>294</th>\n",
       "      <td>chicago school of professional psychology</td>\n",
       "      <td>4569.0</td>\n",
       "    </tr>\n",
       "    <tr>\n",
       "      <th>120</th>\n",
       "      <td>alliant international university</td>\n",
       "      <td>3646.0</td>\n",
       "    </tr>\n",
       "    <tr>\n",
       "      <th>647</th>\n",
       "      <td>polytechnic university</td>\n",
       "      <td>2673.0</td>\n",
       "    </tr>\n",
       "    <tr>\n",
       "      <th>47</th>\n",
       "      <td>united states international university</td>\n",
       "      <td>2509.0</td>\n",
       "    </tr>\n",
       "    <tr>\n",
       "      <th>384</th>\n",
       "      <td>southern baptist theological seminary</td>\n",
       "      <td>2038.0</td>\n",
       "    </tr>\n",
       "    <tr>\n",
       "      <th>295</th>\n",
       "      <td>university of illinois at chicago health scien...</td>\n",
       "      <td>1886.0</td>\n",
       "    </tr>\n",
       "    <tr>\n",
       "      <th>93</th>\n",
       "      <td>pacifica graduate institute</td>\n",
       "      <td>1632.0</td>\n",
       "    </tr>\n",
       "    <tr>\n",
       "      <th>57</th>\n",
       "      <td>wright institute</td>\n",
       "      <td>1587.0</td>\n",
       "    </tr>\n",
       "  </tbody>\n",
       "</table>\n",
       "</div>"
      ],
      "text/plain": [
       "                                                  name  n_graduates\n",
       "21                             northcentral university       6477.0\n",
       "662               teachers college columbia university       5141.0\n",
       "294          chicago school of professional psychology       4569.0\n",
       "120                   alliant international university       3646.0\n",
       "647                             polytechnic university       2673.0\n",
       "47              united states international university       2509.0\n",
       "384              southern baptist theological seminary       2038.0\n",
       "295  university of illinois at chicago health scien...       1886.0\n",
       "93                         pacifica graduate institute       1632.0\n",
       "57                                    wright institute       1587.0"
      ]
     },
     "execution_count": 19,
     "metadata": {},
     "output_type": "execute_result"
    }
   ],
   "source": [
    "\n",
    "sel_vars = [\"name\", \"n_graduates\"]\n",
    "(pq\n",
    ".loc[~pq.university_id.isin(links_pq.loc[:, \"from_id\"]), sel_vars]\n",
    ".sort_values(\"n_graduates\", ascending=False)\n",
    ".iloc[0:10])\n",
    "                \n"
   ]
  },
  {
   "cell_type": "markdown",
   "metadata": {},
   "source": [
    "# Appendix: investigate Rutgers, CUNY, SUNY"
   ]
  },
  {
   "cell_type": "code",
   "execution_count": 20,
   "metadata": {},
   "outputs": [
    {
     "data": {
      "text/plain": [
       "array(['rutgers university'], dtype=object)"
      ]
     },
     "metadata": {},
     "output_type": "display_data"
    },
    {
     "data": {
      "text/plain": [
       "array(['rutgers university camden', 'rutgers university new brunswick',\n",
       "       'rutgers university newark'], dtype=object)"
      ]
     },
     "metadata": {},
     "output_type": "display_data"
    },
    {
     "data": {
      "text/plain": [
       "array(['rutgers university'], dtype=object)"
      ]
     },
     "metadata": {},
     "output_type": "display_data"
    }
   ],
   "source": [
    "search_name = \"rutgers\"\n",
    "\n",
    "for d in [mag, cng, pq]:\n",
    "    display(d.loc[d[\"name\"].str.contains(search_name), \"name\"].unique())\n",
    "\n"
   ]
  },
  {
   "cell_type": "code",
   "execution_count": 21,
   "metadata": {},
   "outputs": [
    {
     "data": {
      "text/plain": [
       "array(['state university of new york at oswego',\n",
       "       'state university of new york college of environmental science and forestry',\n",
       "       'state university of new york at brockport',\n",
       "       'state university of new york at cortland',\n",
       "       'state university of new york college of optometry',\n",
       "       'state university of new york system',\n",
       "       'state university of new york polytechnic institute',\n",
       "       'state university of new york at geneseo',\n",
       "       'state university of new york at new paltz',\n",
       "       'state university of new york upstate medical university',\n",
       "       'state university of new york at old westbury',\n",
       "       'state university of new york at plattsburgh',\n",
       "       'state university of new york at fredonia',\n",
       "       'state university of new york at potsdam',\n",
       "       'state university of new york at purchase',\n",
       "       'state university of new york at oneonta'], dtype=object)"
      ]
     },
     "metadata": {},
     "output_type": "display_data"
    },
    {
     "data": {
      "text/plain": [
       "array(['state university of new york system',\n",
       "       'state university of new york at new paltz'], dtype=object)"
      ]
     },
     "metadata": {},
     "output_type": "display_data"
    },
    {
     "data": {
      "text/plain": [
       "array(['state university of new york system'], dtype=object)"
      ]
     },
     "metadata": {},
     "output_type": "display_data"
    }
   ],
   "source": [
    "search_name = \"state university of new york\"\n",
    "\n",
    "for d in [mag, cng, pq]:\n",
    "    display(d.loc[d[\"name\"].str.contains(search_name), \"name\"].unique())\n"
   ]
  },
  {
   "cell_type": "code",
   "execution_count": 22,
   "metadata": {},
   "outputs": [
    {
     "data": {
      "text/plain": [
       "array(['york college city university of new york',\n",
       "       'city university of new york'], dtype=object)"
      ]
     },
     "metadata": {},
     "output_type": "display_data"
    },
    {
     "data": {
      "text/plain": [
       "array(['city university of new york'], dtype=object)"
      ]
     },
     "metadata": {},
     "output_type": "display_data"
    },
    {
     "data": {
      "text/plain": [
       "array(['city university of new york'], dtype=object)"
      ]
     },
     "metadata": {},
     "output_type": "display_data"
    }
   ],
   "source": [
    "search_name = \"city university of new york\"\n",
    "\n",
    "for d in [mag, cng, pq]:\n",
    "    display(d.loc[d[\"name\"].str.contains(search_name), \"name\"].unique())\n"
   ]
  },
  {
   "cell_type": "code",
   "execution_count": 23,
   "metadata": {},
   "outputs": [
    {
     "name": "stdout",
     "output_type": "stream",
     "text": [
      "Done.\n"
     ]
    }
   ],
   "source": [
    "print(\"Done.\")"
   ]
  }
 ],
 "metadata": {
  "kernelspec": {
   "display_name": "Python 3.9.0 ('science-career-tempenv')",
   "language": "python",
   "name": "python3"
  },
  "language_info": {
   "codemirror_mode": {
    "name": "ipython",
    "version": 3
   },
   "file_extension": ".py",
   "mimetype": "text/x-python",
   "name": "python",
   "nbconvert_exporter": "python",
   "pygments_lexer": "ipython3",
   "version": "3.9.0"
  },
  "orig_nbformat": 4,
  "vscode": {
   "interpreter": {
    "hash": "01d47e42c9ce3af19e9317e83b2ca6d34d34fc45133e73ebcfed26242cbdd057"
   }
  }
 },
 "nbformat": 4,
 "nbformat_minor": 2
}
